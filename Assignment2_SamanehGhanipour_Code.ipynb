{
 "cells": [
  {
   "cell_type": "markdown",
   "id": "ce26d4aa",
   "metadata": {},
   "source": [
    "# Question 1.a"
   ]
  },
  {
   "cell_type": "markdown",
   "id": "b71856e7",
   "metadata": {},
   "source": [
    "Importing libraries"
   ]
  },
  {
   "cell_type": "code",
   "execution_count": 379,
   "id": "46edeb8c",
   "metadata": {},
   "outputs": [],
   "source": [
    "import numpy as np"
   ]
  },
  {
   "cell_type": "code",
   "execution_count": 380,
   "id": "6cff8cc8",
   "metadata": {},
   "outputs": [],
   "source": [
    "import pandas as pd"
   ]
  },
  {
   "cell_type": "code",
   "execution_count": 381,
   "id": "2b4d639e",
   "metadata": {},
   "outputs": [],
   "source": [
    "import matplotlib.pyplot as plt"
   ]
  },
  {
   "cell_type": "code",
   "execution_count": 382,
   "id": "848101ff",
   "metadata": {},
   "outputs": [],
   "source": [
    "import seaborn as sns"
   ]
  },
  {
   "cell_type": "code",
   "execution_count": 383,
   "id": "d9d0dfed",
   "metadata": {},
   "outputs": [],
   "source": [
    "import altair as alt"
   ]
  },
  {
   "cell_type": "markdown",
   "id": "c3db066e",
   "metadata": {},
   "source": [
    "Reading dataset"
   ]
  },
  {
   "cell_type": "code",
   "execution_count": 384,
   "id": "49e544da",
   "metadata": {},
   "outputs": [],
   "source": [
    "data=pd.read_excel('C:/Users/Samaneh/Downloads/Data_Cortex_Nuclear.xls')"
   ]
  },
  {
   "cell_type": "markdown",
   "id": "448411e6",
   "metadata": {},
   "source": [
    "making a copy of data set"
   ]
  },
  {
   "cell_type": "code",
   "execution_count": 385,
   "id": "26cecf44",
   "metadata": {},
   "outputs": [],
   "source": [
    "datacort=data.copy()"
   ]
  },
  {
   "cell_type": "markdown",
   "id": "4d68c96b",
   "metadata": {},
   "source": [
    "# Data investigation"
   ]
  },
  {
   "cell_type": "code",
   "execution_count": 386,
   "id": "dbe8c763",
   "metadata": {},
   "outputs": [
    {
     "data": {
      "text/plain": [
       "float64    77\n",
       "object      5\n",
       "dtype: int64"
      ]
     },
     "execution_count": 386,
     "metadata": {},
     "output_type": "execute_result"
    }
   ],
   "source": [
    "datacort.dtypes.value_counts()"
   ]
  },
  {
   "cell_type": "code",
   "execution_count": 387,
   "id": "a287ae15",
   "metadata": {},
   "outputs": [
    {
     "name": "stdout",
     "output_type": "stream",
     "text": [
      "Total number of Rows 1080 rows\n"
     ]
    }
   ],
   "source": [
    "print(\"Total number of Rows\",datacort.shape[0],'rows')"
   ]
  },
  {
   "cell_type": "code",
   "execution_count": 388,
   "id": "0ac3620b",
   "metadata": {},
   "outputs": [
    {
     "name": "stderr",
     "output_type": "stream",
     "text": [
      "C:\\Users\\Samaneh\\AppData\\Local\\Temp/ipykernel_13808/2942233707.py:1: DeprecationWarning: `np.object` is a deprecated alias for the builtin `object`. To silence this warning, use `object` by itself. Doing this will not modify any behavior and is safe. \n",
      "Deprecated in NumPy 1.20; for more details and guidance: https://numpy.org/devdocs/release/1.20.0-notes.html#deprecations\n",
      "  datacort.describe(include = np.object)\n"
     ]
    },
    {
     "data": {
      "text/html": [
       "<div>\n",
       "<style scoped>\n",
       "    .dataframe tbody tr th:only-of-type {\n",
       "        vertical-align: middle;\n",
       "    }\n",
       "\n",
       "    .dataframe tbody tr th {\n",
       "        vertical-align: top;\n",
       "    }\n",
       "\n",
       "    .dataframe thead th {\n",
       "        text-align: right;\n",
       "    }\n",
       "</style>\n",
       "<table border=\"1\" class=\"dataframe\">\n",
       "  <thead>\n",
       "    <tr style=\"text-align: right;\">\n",
       "      <th></th>\n",
       "      <th>MouseID</th>\n",
       "      <th>Genotype</th>\n",
       "      <th>Treatment</th>\n",
       "      <th>Behavior</th>\n",
       "      <th>class</th>\n",
       "    </tr>\n",
       "  </thead>\n",
       "  <tbody>\n",
       "    <tr>\n",
       "      <th>count</th>\n",
       "      <td>1080</td>\n",
       "      <td>1080</td>\n",
       "      <td>1080</td>\n",
       "      <td>1080</td>\n",
       "      <td>1080</td>\n",
       "    </tr>\n",
       "    <tr>\n",
       "      <th>unique</th>\n",
       "      <td>1080</td>\n",
       "      <td>2</td>\n",
       "      <td>2</td>\n",
       "      <td>2</td>\n",
       "      <td>8</td>\n",
       "    </tr>\n",
       "    <tr>\n",
       "      <th>top</th>\n",
       "      <td>309_1</td>\n",
       "      <td>Control</td>\n",
       "      <td>Memantine</td>\n",
       "      <td>S/C</td>\n",
       "      <td>c-CS-m</td>\n",
       "    </tr>\n",
       "    <tr>\n",
       "      <th>freq</th>\n",
       "      <td>1</td>\n",
       "      <td>570</td>\n",
       "      <td>570</td>\n",
       "      <td>555</td>\n",
       "      <td>150</td>\n",
       "    </tr>\n",
       "  </tbody>\n",
       "</table>\n",
       "</div>"
      ],
      "text/plain": [
       "       MouseID Genotype  Treatment Behavior   class\n",
       "count     1080     1080       1080     1080    1080\n",
       "unique    1080        2          2        2       8\n",
       "top      309_1  Control  Memantine      S/C  c-CS-m\n",
       "freq         1      570        570      555     150"
      ]
     },
     "execution_count": 388,
     "metadata": {},
     "output_type": "execute_result"
    }
   ],
   "source": [
    "datacort.describe(include = np.object)"
   ]
  },
  {
   "cell_type": "code",
   "execution_count": 389,
   "id": "2e770f22",
   "metadata": {},
   "outputs": [
    {
     "name": "stdout",
     "output_type": "stream",
     "text": [
      "Total number of Columns 82 columns\n"
     ]
    }
   ],
   "source": [
    "print(\"Total number of Columns\",datacort.shape[1],'columns')"
   ]
  },
  {
   "cell_type": "markdown",
   "id": "d7dfed3a",
   "metadata": {},
   "source": [
    "This heatmap shows the NA values"
   ]
  },
  {
   "cell_type": "code",
   "execution_count": 390,
   "id": "6a4393c8",
   "metadata": {},
   "outputs": [
    {
     "data": {
      "image/png": "[encoded data removed]",
      "text/plain": [
       "<Figure size 720x720 with 1 Axes>"
      ]
     },
     "metadata": {
      "needs_background": "light"
     },
     "output_type": "display_data"
    }
   ],
   "source": [
    "plt.figure(figsize=(10,10))\n",
    "sns.heatmap(datacort.isna(),cbar=False)\n",
    "plt.show()"
   ]
  },
  {
   "cell_type": "markdown",
   "id": "cb981903",
   "metadata": {},
   "source": [
    "Here  I am getting to know the data,NA values and unnecessary values which make the work hard and need to be considered"
   ]
  },
  {
   "cell_type": "code",
   "execution_count": 391,
   "id": "003fbe46",
   "metadata": {},
   "outputs": [
    {
     "data": {
      "text/plain": [
       "BCL2_N       26.388889\n",
       "H3MeK4_N     25.000000\n",
       "BAD_N        19.722222\n",
       "EGR1_N       19.444444\n",
       "H3AcK18_N    16.666667\n",
       "               ...    \n",
       "nNOS_N        0.000000\n",
       "Tau_N         0.000000\n",
       "GFAP_N        0.000000\n",
       "GluR3_N       0.000000\n",
       "class         0.000000\n",
       "Length: 82, dtype: float64"
      ]
     },
     "execution_count": 391,
     "metadata": {},
     "output_type": "execute_result"
    }
   ],
   "source": [
    "(datacort.isna().sum()/datacort.shape[0]*100).sort_values(ascending=False)"
   ]
  },
  {
   "cell_type": "code",
   "execution_count": 392,
   "id": "0ea96336",
   "metadata": {},
   "outputs": [],
   "source": [
    "Investigation = datacort.columns[datacort.isna().sum()/datacort.shape[0]< 0.70 ] "
   ]
  },
  {
   "cell_type": "code",
   "execution_count": 393,
   "id": "f09fa2ee",
   "metadata": {},
   "outputs": [],
   "source": [
    "datacort=datacort[Investigation]"
   ]
  },
  {
   "cell_type": "code",
   "execution_count": 394,
   "id": "c1017ed1",
   "metadata": {},
   "outputs": [
    {
     "data": {
      "text/html": [
       "<div>\n",
       "<style scoped>\n",
       "    .dataframe tbody tr th:only-of-type {\n",
       "        vertical-align: middle;\n",
       "    }\n",
       "\n",
       "    .dataframe tbody tr th {\n",
       "        vertical-align: top;\n",
       "    }\n",
       "\n",
       "    .dataframe thead th {\n",
       "        text-align: right;\n",
       "    }\n",
       "</style>\n",
       "<table border=\"1\" class=\"dataframe\">\n",
       "  <thead>\n",
       "    <tr style=\"text-align: right;\">\n",
       "      <th></th>\n",
       "      <th>MouseID</th>\n",
       "      <th>DYRK1A_N</th>\n",
       "      <th>ITSN1_N</th>\n",
       "      <th>BDNF_N</th>\n",
       "      <th>NR1_N</th>\n",
       "      <th>NR2A_N</th>\n",
       "      <th>pAKT_N</th>\n",
       "      <th>pBRAF_N</th>\n",
       "      <th>pCAMKII_N</th>\n",
       "      <th>pCREB_N</th>\n",
       "      <th>...</th>\n",
       "      <th>pCFOS_N</th>\n",
       "      <th>SYP_N</th>\n",
       "      <th>H3AcK18_N</th>\n",
       "      <th>EGR1_N</th>\n",
       "      <th>H3MeK4_N</th>\n",
       "      <th>CaNA_N</th>\n",
       "      <th>Genotype</th>\n",
       "      <th>Treatment</th>\n",
       "      <th>Behavior</th>\n",
       "      <th>class</th>\n",
       "    </tr>\n",
       "  </thead>\n",
       "  <tbody>\n",
       "    <tr>\n",
       "      <th>0</th>\n",
       "      <td>309_1</td>\n",
       "      <td>0.503644</td>\n",
       "      <td>0.747193</td>\n",
       "      <td>0.430175</td>\n",
       "      <td>2.816329</td>\n",
       "      <td>5.990152</td>\n",
       "      <td>0.218830</td>\n",
       "      <td>0.177565</td>\n",
       "      <td>2.373744</td>\n",
       "      <td>0.232224</td>\n",
       "      <td>...</td>\n",
       "      <td>0.108336</td>\n",
       "      <td>0.427099</td>\n",
       "      <td>0.114783</td>\n",
       "      <td>0.131790</td>\n",
       "      <td>0.128186</td>\n",
       "      <td>1.675652</td>\n",
       "      <td>Control</td>\n",
       "      <td>Memantine</td>\n",
       "      <td>C/S</td>\n",
       "      <td>c-CS-m</td>\n",
       "    </tr>\n",
       "    <tr>\n",
       "      <th>1</th>\n",
       "      <td>309_2</td>\n",
       "      <td>0.514617</td>\n",
       "      <td>0.689064</td>\n",
       "      <td>0.411770</td>\n",
       "      <td>2.789514</td>\n",
       "      <td>5.685038</td>\n",
       "      <td>0.211636</td>\n",
       "      <td>0.172817</td>\n",
       "      <td>2.292150</td>\n",
       "      <td>0.226972</td>\n",
       "      <td>...</td>\n",
       "      <td>0.104315</td>\n",
       "      <td>0.441581</td>\n",
       "      <td>0.111974</td>\n",
       "      <td>0.135103</td>\n",
       "      <td>0.131119</td>\n",
       "      <td>1.743610</td>\n",
       "      <td>Control</td>\n",
       "      <td>Memantine</td>\n",
       "      <td>C/S</td>\n",
       "      <td>c-CS-m</td>\n",
       "    </tr>\n",
       "    <tr>\n",
       "      <th>2</th>\n",
       "      <td>309_3</td>\n",
       "      <td>0.509183</td>\n",
       "      <td>0.730247</td>\n",
       "      <td>0.418309</td>\n",
       "      <td>2.687201</td>\n",
       "      <td>5.622059</td>\n",
       "      <td>0.209011</td>\n",
       "      <td>0.175722</td>\n",
       "      <td>2.283337</td>\n",
       "      <td>0.230247</td>\n",
       "      <td>...</td>\n",
       "      <td>0.106219</td>\n",
       "      <td>0.435777</td>\n",
       "      <td>0.111883</td>\n",
       "      <td>0.133362</td>\n",
       "      <td>0.127431</td>\n",
       "      <td>1.926427</td>\n",
       "      <td>Control</td>\n",
       "      <td>Memantine</td>\n",
       "      <td>C/S</td>\n",
       "      <td>c-CS-m</td>\n",
       "    </tr>\n",
       "    <tr>\n",
       "      <th>3</th>\n",
       "      <td>309_4</td>\n",
       "      <td>0.442107</td>\n",
       "      <td>0.617076</td>\n",
       "      <td>0.358626</td>\n",
       "      <td>2.466947</td>\n",
       "      <td>4.979503</td>\n",
       "      <td>0.222886</td>\n",
       "      <td>0.176463</td>\n",
       "      <td>2.152301</td>\n",
       "      <td>0.207004</td>\n",
       "      <td>...</td>\n",
       "      <td>0.111262</td>\n",
       "      <td>0.391691</td>\n",
       "      <td>0.130405</td>\n",
       "      <td>0.147444</td>\n",
       "      <td>0.146901</td>\n",
       "      <td>1.700563</td>\n",
       "      <td>Control</td>\n",
       "      <td>Memantine</td>\n",
       "      <td>C/S</td>\n",
       "      <td>c-CS-m</td>\n",
       "    </tr>\n",
       "    <tr>\n",
       "      <th>4</th>\n",
       "      <td>309_5</td>\n",
       "      <td>0.434940</td>\n",
       "      <td>0.617430</td>\n",
       "      <td>0.358802</td>\n",
       "      <td>2.365785</td>\n",
       "      <td>4.718679</td>\n",
       "      <td>0.213106</td>\n",
       "      <td>0.173627</td>\n",
       "      <td>2.134014</td>\n",
       "      <td>0.192158</td>\n",
       "      <td>...</td>\n",
       "      <td>0.110694</td>\n",
       "      <td>0.434154</td>\n",
       "      <td>0.118481</td>\n",
       "      <td>0.140314</td>\n",
       "      <td>0.148380</td>\n",
       "      <td>1.839730</td>\n",
       "      <td>Control</td>\n",
       "      <td>Memantine</td>\n",
       "      <td>C/S</td>\n",
       "      <td>c-CS-m</td>\n",
       "    </tr>\n",
       "  </tbody>\n",
       "</table>\n",
       "<p>5 rows × 82 columns</p>\n",
       "</div>"
      ],
      "text/plain": [
       "  MouseID  DYRK1A_N   ITSN1_N    BDNF_N     NR1_N    NR2A_N    pAKT_N  \\\n",
       "0   309_1  0.503644  0.747193  0.430175  2.816329  5.990152  0.218830   \n",
       "1   309_2  0.514617  0.689064  0.411770  2.789514  5.685038  0.211636   \n",
       "2   309_3  0.509183  0.730247  0.418309  2.687201  5.622059  0.209011   \n",
       "3   309_4  0.442107  0.617076  0.358626  2.466947  4.979503  0.222886   \n",
       "4   309_5  0.434940  0.617430  0.358802  2.365785  4.718679  0.213106   \n",
       "\n",
       "    pBRAF_N  pCAMKII_N   pCREB_N  ...   pCFOS_N     SYP_N  H3AcK18_N  \\\n",
       "0  0.177565   2.373744  0.232224  ...  0.108336  0.427099   0.114783   \n",
       "1  0.172817   2.292150  0.226972  ...  0.104315  0.441581   0.111974   \n",
       "2  0.175722   2.283337  0.230247  ...  0.106219  0.435777   0.111883   \n",
       "3  0.176463   2.152301  0.207004  ...  0.111262  0.391691   0.130405   \n",
       "4  0.173627   2.134014  0.192158  ...  0.110694  0.434154   0.118481   \n",
       "\n",
       "     EGR1_N  H3MeK4_N    CaNA_N  Genotype  Treatment  Behavior   class  \n",
       "0  0.131790  0.128186  1.675652   Control  Memantine       C/S  c-CS-m  \n",
       "1  0.135103  0.131119  1.743610   Control  Memantine       C/S  c-CS-m  \n",
       "2  0.133362  0.127431  1.926427   Control  Memantine       C/S  c-CS-m  \n",
       "3  0.147444  0.146901  1.700563   Control  Memantine       C/S  c-CS-m  \n",
       "4  0.140314  0.148380  1.839730   Control  Memantine       C/S  c-CS-m  \n",
       "\n",
       "[5 rows x 82 columns]"
      ]
     },
     "execution_count": 394,
     "metadata": {},
     "output_type": "execute_result"
    }
   ],
   "source": [
    "datacort.head()"
   ]
  },
  {
   "cell_type": "code",
   "execution_count": 395,
   "id": "40b7e7f4",
   "metadata": {},
   "outputs": [
    {
     "data": {
      "text/plain": [
       "c-CS-m    0.138889\n",
       "c-SC-m    0.138889\n",
       "c-CS-s    0.125000\n",
       "c-SC-s    0.125000\n",
       "t-CS-m    0.125000\n",
       "t-SC-m    0.125000\n",
       "t-SC-s    0.125000\n",
       "t-CS-s    0.097222\n",
       "Name: class, dtype: float64"
      ]
     },
     "execution_count": 395,
     "metadata": {},
     "output_type": "execute_result"
    }
   ],
   "source": [
    "datacort['class'].value_counts(normalize=True)"
   ]
  },
  {
   "cell_type": "code",
   "execution_count": 396,
   "id": "23430b6e",
   "metadata": {},
   "outputs": [
    {
     "name": "stdout",
     "output_type": "stream",
     "text": [
      "<class 'pandas.core.frame.DataFrame'>\n",
      "RangeIndex: 1080 entries, 0 to 1079\n",
      "Data columns (total 82 columns):\n",
      " #   Column           Non-Null Count  Dtype  \n",
      "---  ------           --------------  -----  \n",
      " 0   MouseID          1080 non-null   object \n",
      " 1   DYRK1A_N         1077 non-null   float64\n",
      " 2   ITSN1_N          1077 non-null   float64\n",
      " 3   BDNF_N           1077 non-null   float64\n",
      " 4   NR1_N            1077 non-null   float64\n",
      " 5   NR2A_N           1077 non-null   float64\n",
      " 6   pAKT_N           1077 non-null   float64\n",
      " 7   pBRAF_N          1077 non-null   float64\n",
      " 8   pCAMKII_N        1077 non-null   float64\n",
      " 9   pCREB_N          1077 non-null   float64\n",
      " 10  pELK_N           1077 non-null   float64\n",
      " 11  pERK_N           1077 non-null   float64\n",
      " 12  pJNK_N           1077 non-null   float64\n",
      " 13  PKCA_N           1077 non-null   float64\n",
      " 14  pMEK_N           1077 non-null   float64\n",
      " 15  pNR1_N           1077 non-null   float64\n",
      " 16  pNR2A_N          1077 non-null   float64\n",
      " 17  pNR2B_N          1077 non-null   float64\n",
      " 18  pPKCAB_N         1077 non-null   float64\n",
      " 19  pRSK_N           1077 non-null   float64\n",
      " 20  AKT_N            1077 non-null   float64\n",
      " 21  BRAF_N           1077 non-null   float64\n",
      " 22  CAMKII_N         1077 non-null   float64\n",
      " 23  CREB_N           1077 non-null   float64\n",
      " 24  ELK_N            1062 non-null   float64\n",
      " 25  ERK_N            1077 non-null   float64\n",
      " 26  GSK3B_N          1077 non-null   float64\n",
      " 27  JNK_N            1077 non-null   float64\n",
      " 28  MEK_N            1073 non-null   float64\n",
      " 29  TRKA_N           1077 non-null   float64\n",
      " 30  RSK_N            1077 non-null   float64\n",
      " 31  APP_N            1077 non-null   float64\n",
      " 32  Bcatenin_N       1062 non-null   float64\n",
      " 33  SOD1_N           1077 non-null   float64\n",
      " 34  MTOR_N           1077 non-null   float64\n",
      " 35  P38_N            1077 non-null   float64\n",
      " 36  pMTOR_N          1077 non-null   float64\n",
      " 37  DSCR1_N          1077 non-null   float64\n",
      " 38  AMPKA_N          1077 non-null   float64\n",
      " 39  NR2B_N           1077 non-null   float64\n",
      " 40  pNUMB_N          1077 non-null   float64\n",
      " 41  RAPTOR_N         1077 non-null   float64\n",
      " 42  TIAM1_N          1077 non-null   float64\n",
      " 43  pP70S6_N         1077 non-null   float64\n",
      " 44  NUMB_N           1080 non-null   float64\n",
      " 45  P70S6_N          1080 non-null   float64\n",
      " 46  pGSK3B_N         1080 non-null   float64\n",
      " 47  pPKCG_N          1080 non-null   float64\n",
      " 48  CDK5_N           1080 non-null   float64\n",
      " 49  S6_N             1080 non-null   float64\n",
      " 50  ADARB1_N         1080 non-null   float64\n",
      " 51  AcetylH3K9_N     1080 non-null   float64\n",
      " 52  RRP1_N           1080 non-null   float64\n",
      " 53  BAX_N            1080 non-null   float64\n",
      " 54  ARC_N            1080 non-null   float64\n",
      " 55  ERBB4_N          1080 non-null   float64\n",
      " 56  nNOS_N           1080 non-null   float64\n",
      " 57  Tau_N            1080 non-null   float64\n",
      " 58  GFAP_N           1080 non-null   float64\n",
      " 59  GluR3_N          1080 non-null   float64\n",
      " 60  GluR4_N          1080 non-null   float64\n",
      " 61  IL1B_N           1080 non-null   float64\n",
      " 62  P3525_N          1080 non-null   float64\n",
      " 63  pCASP9_N         1080 non-null   float64\n",
      " 64  PSD95_N          1080 non-null   float64\n",
      " 65  SNCA_N           1080 non-null   float64\n",
      " 66  Ubiquitin_N      1080 non-null   float64\n",
      " 67  pGSK3B_Tyr216_N  1080 non-null   float64\n",
      " 68  SHH_N            1080 non-null   float64\n",
      " 69  BAD_N            867 non-null    float64\n",
      " 70  BCL2_N           795 non-null    float64\n",
      " 71  pS6_N            1080 non-null   float64\n",
      " 72  pCFOS_N          1005 non-null   float64\n",
      " 73  SYP_N            1080 non-null   float64\n",
      " 74  H3AcK18_N        900 non-null    float64\n",
      " 75  EGR1_N           870 non-null    float64\n",
      " 76  H3MeK4_N         810 non-null    float64\n",
      " 77  CaNA_N           1080 non-null   float64\n",
      " 78  Genotype         1080 non-null   object \n",
      " 79  Treatment        1080 non-null   object \n",
      " 80  Behavior         1080 non-null   object \n",
      " 81  class            1080 non-null   object \n",
      "dtypes: float64(77), object(5)\n",
      "memory usage: 692.0+ KB\n"
     ]
    }
   ],
   "source": [
    "datacort.info()"
   ]
  },
  {
   "cell_type": "code",
   "execution_count": 397,
   "id": "e4735a99",
   "metadata": {},
   "outputs": [
    {
     "data": {
      "text/plain": [
       "MouseID      0\n",
       "DYRK1A_N     3\n",
       "ITSN1_N      3\n",
       "BDNF_N       3\n",
       "NR1_N        3\n",
       "            ..\n",
       "CaNA_N       0\n",
       "Genotype     0\n",
       "Treatment    0\n",
       "Behavior     0\n",
       "class        0\n",
       "Length: 82, dtype: int64"
      ]
     },
     "execution_count": 397,
     "metadata": {},
     "output_type": "execute_result"
    }
   ],
   "source": [
    "datacort.isnull().sum()"
   ]
  },
  {
   "cell_type": "markdown",
   "id": "3a0358b3",
   "metadata": {},
   "source": [
    "This is the percentage of NA values"
   ]
  },
  {
   "cell_type": "code",
   "execution_count": 398,
   "id": "30242f92",
   "metadata": {},
   "outputs": [
    {
     "data": {
      "text/plain": [
       "0.2777777777777778"
      ]
     },
     "execution_count": 398,
     "metadata": {},
     "output_type": "execute_result"
    }
   ],
   "source": [
    "MissingValPer1 = datacort['DYRK1A_N'].isnull().sum() * 100 / len(datacort)\n",
    "MissingValPer1"
   ]
  },
  {
   "cell_type": "code",
   "execution_count": 399,
   "id": "5f263bdc",
   "metadata": {},
   "outputs": [
    {
     "name": "stdout",
     "output_type": "stream",
     "text": [
      "<class 'pandas.core.frame.DataFrame'>\n",
      "Int64Index: 1077 entries, 0 to 1079\n",
      "Data columns (total 82 columns):\n",
      " #   Column           Non-Null Count  Dtype  \n",
      "---  ------           --------------  -----  \n",
      " 0   MouseID          1077 non-null   object \n",
      " 1   DYRK1A_N         1077 non-null   float64\n",
      " 2   ITSN1_N          1077 non-null   float64\n",
      " 3   BDNF_N           1077 non-null   float64\n",
      " 4   NR1_N            1077 non-null   float64\n",
      " 5   NR2A_N           1077 non-null   float64\n",
      " 6   pAKT_N           1077 non-null   float64\n",
      " 7   pBRAF_N          1077 non-null   float64\n",
      " 8   pCAMKII_N        1077 non-null   float64\n",
      " 9   pCREB_N          1077 non-null   float64\n",
      " 10  pELK_N           1077 non-null   float64\n",
      " 11  pERK_N           1077 non-null   float64\n",
      " 12  pJNK_N           1077 non-null   float64\n",
      " 13  PKCA_N           1077 non-null   float64\n",
      " 14  pMEK_N           1077 non-null   float64\n",
      " 15  pNR1_N           1077 non-null   float64\n",
      " 16  pNR2A_N          1077 non-null   float64\n",
      " 17  pNR2B_N          1077 non-null   float64\n",
      " 18  pPKCAB_N         1077 non-null   float64\n",
      " 19  pRSK_N           1077 non-null   float64\n",
      " 20  AKT_N            1077 non-null   float64\n",
      " 21  BRAF_N           1077 non-null   float64\n",
      " 22  CAMKII_N         1077 non-null   float64\n",
      " 23  CREB_N           1077 non-null   float64\n",
      " 24  ELK_N            1062 non-null   float64\n",
      " 25  ERK_N            1077 non-null   float64\n",
      " 26  GSK3B_N          1077 non-null   float64\n",
      " 27  JNK_N            1077 non-null   float64\n",
      " 28  MEK_N            1073 non-null   float64\n",
      " 29  TRKA_N           1077 non-null   float64\n",
      " 30  RSK_N            1077 non-null   float64\n",
      " 31  APP_N            1077 non-null   float64\n",
      " 32  Bcatenin_N       1062 non-null   float64\n",
      " 33  SOD1_N           1077 non-null   float64\n",
      " 34  MTOR_N           1077 non-null   float64\n",
      " 35  P38_N            1077 non-null   float64\n",
      " 36  pMTOR_N          1077 non-null   float64\n",
      " 37  DSCR1_N          1077 non-null   float64\n",
      " 38  AMPKA_N          1077 non-null   float64\n",
      " 39  NR2B_N           1077 non-null   float64\n",
      " 40  pNUMB_N          1077 non-null   float64\n",
      " 41  RAPTOR_N         1077 non-null   float64\n",
      " 42  TIAM1_N          1077 non-null   float64\n",
      " 43  pP70S6_N         1077 non-null   float64\n",
      " 44  NUMB_N           1077 non-null   float64\n",
      " 45  P70S6_N          1077 non-null   float64\n",
      " 46  pGSK3B_N         1077 non-null   float64\n",
      " 47  pPKCG_N          1077 non-null   float64\n",
      " 48  CDK5_N           1077 non-null   float64\n",
      " 49  S6_N             1077 non-null   float64\n",
      " 50  ADARB1_N         1077 non-null   float64\n",
      " 51  AcetylH3K9_N     1077 non-null   float64\n",
      " 52  RRP1_N           1077 non-null   float64\n",
      " 53  BAX_N            1077 non-null   float64\n",
      " 54  ARC_N            1077 non-null   float64\n",
      " 55  ERBB4_N          1077 non-null   float64\n",
      " 56  nNOS_N           1077 non-null   float64\n",
      " 57  Tau_N            1077 non-null   float64\n",
      " 58  GFAP_N           1077 non-null   float64\n",
      " 59  GluR3_N          1077 non-null   float64\n",
      " 60  GluR4_N          1077 non-null   float64\n",
      " 61  IL1B_N           1077 non-null   float64\n",
      " 62  P3525_N          1077 non-null   float64\n",
      " 63  pCASP9_N         1077 non-null   float64\n",
      " 64  PSD95_N          1077 non-null   float64\n",
      " 65  SNCA_N           1077 non-null   float64\n",
      " 66  Ubiquitin_N      1077 non-null   float64\n",
      " 67  pGSK3B_Tyr216_N  1077 non-null   float64\n",
      " 68  SHH_N            1077 non-null   float64\n",
      " 69  BAD_N            864 non-null    float64\n",
      " 70  BCL2_N           792 non-null    float64\n",
      " 71  pS6_N            1077 non-null   float64\n",
      " 72  pCFOS_N          1002 non-null   float64\n",
      " 73  SYP_N            1077 non-null   float64\n",
      " 74  H3AcK18_N        897 non-null    float64\n",
      " 75  EGR1_N           867 non-null    float64\n",
      " 76  H3MeK4_N         807 non-null    float64\n",
      " 77  CaNA_N           1077 non-null   float64\n",
      " 78  Genotype         1077 non-null   object \n",
      " 79  Treatment        1077 non-null   object \n",
      " 80  Behavior         1077 non-null   object \n",
      " 81  class            1077 non-null   object \n",
      "dtypes: float64(77), object(5)\n",
      "memory usage: 698.4+ KB\n"
     ]
    }
   ],
   "source": [
    "NotNA = datacort[datacort['DYRK1A_N'].notna()]\n",
    "NotNA.info()"
   ]
  },
  {
   "cell_type": "markdown",
   "id": "679f7eb1",
   "metadata": {},
   "source": [
    "I totally counted the NA values and dropped them , these threes have less NA values compared to others"
   ]
  },
  {
   "cell_type": "code",
   "execution_count": 400,
   "id": "f50cad48",
   "metadata": {},
   "outputs": [
    {
     "data": {
      "text/plain": [
       "(1047, 82)"
      ]
     },
     "execution_count": 400,
     "metadata": {},
     "output_type": "execute_result"
    }
   ],
   "source": [
    "DropNA = NotNA.dropna(axis=0, subset=('ELK_N', 'MEK_N', 'Bcatenin_N'))\n",
    "DropNA.shape"
   ]
  },
  {
   "cell_type": "code",
   "execution_count": 401,
   "id": "fe77968d",
   "metadata": {},
   "outputs": [
    {
     "name": "stdout",
     "output_type": "stream",
     "text": [
      "<class 'pandas.core.frame.DataFrame'>\n",
      "Int64Index: 1047 entries, 0 to 1079\n",
      "Data columns (total 82 columns):\n",
      " #   Column           Non-Null Count  Dtype  \n",
      "---  ------           --------------  -----  \n",
      " 0   MouseID          1047 non-null   object \n",
      " 1   DYRK1A_N         1047 non-null   float64\n",
      " 2   ITSN1_N          1047 non-null   float64\n",
      " 3   BDNF_N           1047 non-null   float64\n",
      " 4   NR1_N            1047 non-null   float64\n",
      " 5   NR2A_N           1047 non-null   float64\n",
      " 6   pAKT_N           1047 non-null   float64\n",
      " 7   pBRAF_N          1047 non-null   float64\n",
      " 8   pCAMKII_N        1047 non-null   float64\n",
      " 9   pCREB_N          1047 non-null   float64\n",
      " 10  pELK_N           1047 non-null   float64\n",
      " 11  pERK_N           1047 non-null   float64\n",
      " 12  pJNK_N           1047 non-null   float64\n",
      " 13  PKCA_N           1047 non-null   float64\n",
      " 14  pMEK_N           1047 non-null   float64\n",
      " 15  pNR1_N           1047 non-null   float64\n",
      " 16  pNR2A_N          1047 non-null   float64\n",
      " 17  pNR2B_N          1047 non-null   float64\n",
      " 18  pPKCAB_N         1047 non-null   float64\n",
      " 19  pRSK_N           1047 non-null   float64\n",
      " 20  AKT_N            1047 non-null   float64\n",
      " 21  BRAF_N           1047 non-null   float64\n",
      " 22  CAMKII_N         1047 non-null   float64\n",
      " 23  CREB_N           1047 non-null   float64\n",
      " 24  ELK_N            1047 non-null   float64\n",
      " 25  ERK_N            1047 non-null   float64\n",
      " 26  GSK3B_N          1047 non-null   float64\n",
      " 27  JNK_N            1047 non-null   float64\n",
      " 28  MEK_N            1047 non-null   float64\n",
      " 29  TRKA_N           1047 non-null   float64\n",
      " 30  RSK_N            1047 non-null   float64\n",
      " 31  APP_N            1047 non-null   float64\n",
      " 32  Bcatenin_N       1047 non-null   float64\n",
      " 33  SOD1_N           1047 non-null   float64\n",
      " 34  MTOR_N           1047 non-null   float64\n",
      " 35  P38_N            1047 non-null   float64\n",
      " 36  pMTOR_N          1047 non-null   float64\n",
      " 37  DSCR1_N          1047 non-null   float64\n",
      " 38  AMPKA_N          1047 non-null   float64\n",
      " 39  NR2B_N           1047 non-null   float64\n",
      " 40  pNUMB_N          1047 non-null   float64\n",
      " 41  RAPTOR_N         1047 non-null   float64\n",
      " 42  TIAM1_N          1047 non-null   float64\n",
      " 43  pP70S6_N         1047 non-null   float64\n",
      " 44  NUMB_N           1047 non-null   float64\n",
      " 45  P70S6_N          1047 non-null   float64\n",
      " 46  pGSK3B_N         1047 non-null   float64\n",
      " 47  pPKCG_N          1047 non-null   float64\n",
      " 48  CDK5_N           1047 non-null   float64\n",
      " 49  S6_N             1047 non-null   float64\n",
      " 50  ADARB1_N         1047 non-null   float64\n",
      " 51  AcetylH3K9_N     1047 non-null   float64\n",
      " 52  RRP1_N           1047 non-null   float64\n",
      " 53  BAX_N            1047 non-null   float64\n",
      " 54  ARC_N            1047 non-null   float64\n",
      " 55  ERBB4_N          1047 non-null   float64\n",
      " 56  nNOS_N           1047 non-null   float64\n",
      " 57  Tau_N            1047 non-null   float64\n",
      " 58  GFAP_N           1047 non-null   float64\n",
      " 59  GluR3_N          1047 non-null   float64\n",
      " 60  GluR4_N          1047 non-null   float64\n",
      " 61  IL1B_N           1047 non-null   float64\n",
      " 62  P3525_N          1047 non-null   float64\n",
      " 63  pCASP9_N         1047 non-null   float64\n",
      " 64  PSD95_N          1047 non-null   float64\n",
      " 65  SNCA_N           1047 non-null   float64\n",
      " 66  Ubiquitin_N      1047 non-null   float64\n",
      " 67  pGSK3B_Tyr216_N  1047 non-null   float64\n",
      " 68  SHH_N            1047 non-null   float64\n",
      " 69  BAD_N            849 non-null    float64\n",
      " 70  BCL2_N           777 non-null    float64\n",
      " 71  pS6_N            1047 non-null   float64\n",
      " 72  pCFOS_N          972 non-null    float64\n",
      " 73  SYP_N            1047 non-null   float64\n",
      " 74  H3AcK18_N        867 non-null    float64\n",
      " 75  EGR1_N           852 non-null    float64\n",
      " 76  H3MeK4_N         777 non-null    float64\n",
      " 77  CaNA_N           1047 non-null   float64\n",
      " 78  Genotype         1047 non-null   object \n",
      " 79  Treatment        1047 non-null   object \n",
      " 80  Behavior         1047 non-null   object \n",
      " 81  class            1047 non-null   object \n",
      "dtypes: float64(77), object(5)\n",
      "memory usage: 678.9+ KB\n"
     ]
    }
   ],
   "source": [
    "DropNA.info()"
   ]
  },
  {
   "cell_type": "markdown",
   "id": "6b292344",
   "metadata": {},
   "source": [
    "I have some sorts of NA values in other columns as well so I just want to check the amount of losing data by NA values and then I will replace them with the mean values because we can see here the percentage are pretty high so it sould be better to keep them"
   ]
  },
  {
   "cell_type": "code",
   "execution_count": 402,
   "id": "9b6cecaf",
   "metadata": {},
   "outputs": [
    {
     "name": "stdout",
     "output_type": "stream",
     "text": [
      "BAD_N Missing Values Percentage: 18.911174785100286\n"
     ]
    }
   ],
   "source": [
    "MissValPerc = DropNA['BAD_N'].isnull().sum() * 100 / len(DropNA)\n",
    "print('BAD_N', 'Missing Values Percentage:', MissValPerc)"
   ]
  },
  {
   "cell_type": "code",
   "execution_count": 403,
   "id": "b60a0c36",
   "metadata": {},
   "outputs": [
    {
     "name": "stdout",
     "output_type": "stream",
     "text": [
      "BCL2_N Missing Values Percentage: 25.787965616045845\n"
     ]
    }
   ],
   "source": [
    "MissValPerc = DropNA['BCL2_N'].isnull().sum() * 100 / len(DropNA)\n",
    "print('BCL2_N', 'Missing Values Percentage:', MissValPerc)"
   ]
  },
  {
   "cell_type": "code",
   "execution_count": 404,
   "id": "6a346a40",
   "metadata": {},
   "outputs": [
    {
     "name": "stdout",
     "output_type": "stream",
     "text": [
      "pCFOS_N Missing Values Percentage: 7.163323782234957\n"
     ]
    }
   ],
   "source": [
    "MissValPerc = DropNA['pCFOS_N'].isnull().sum() * 100 / len(DropNA)\n",
    "print('pCFOS_N', 'Missing Values Percentage:', MissValPerc)"
   ]
  },
  {
   "cell_type": "code",
   "execution_count": 405,
   "id": "26b58609",
   "metadata": {},
   "outputs": [
    {
     "name": "stdout",
     "output_type": "stream",
     "text": [
      "H3AcK18_N Missing Values Percentage: 17.191977077363898\n"
     ]
    }
   ],
   "source": [
    "MissValPerc = DropNA['H3AcK18_N'].isnull().sum() * 100 / len(DropNA)\n",
    "print('H3AcK18_N', 'Missing Values Percentage:', MissValPerc)"
   ]
  },
  {
   "cell_type": "code",
   "execution_count": 406,
   "id": "e6c85e33",
   "metadata": {},
   "outputs": [
    {
     "name": "stdout",
     "output_type": "stream",
     "text": [
      "EGR1_N Missing Values Percentage: 18.624641833810887\n"
     ]
    }
   ],
   "source": [
    "MissValPerc = DropNA['EGR1_N'].isnull().sum() * 100 / len(DropNA)\n",
    "print('EGR1_N', 'Missing Values Percentage:', MissValPerc)"
   ]
  },
  {
   "cell_type": "code",
   "execution_count": 407,
   "id": "64a45ddf",
   "metadata": {},
   "outputs": [
    {
     "name": "stdout",
     "output_type": "stream",
     "text": [
      "H3MeK4_N Missing Values Percentage: 25.787965616045845\n"
     ]
    }
   ],
   "source": [
    "MissValPerc = DropNA['H3MeK4_N'].isnull().sum() * 100 / len(DropNA)\n",
    "print('H3MeK4_N', 'Missing Values Percentage:', MissValPerc)"
   ]
  },
  {
   "cell_type": "markdown",
   "id": "459e1be8",
   "metadata": {},
   "source": [
    "Because the percentage of missing values are high so I prefer to replace them with mean values instead of removing them."
   ]
  },
  {
   "cell_type": "code",
   "execution_count": 408,
   "id": "223fa06e",
   "metadata": {},
   "outputs": [
    {
     "name": "stdout",
     "output_type": "stream",
     "text": [
      "<class 'pandas.core.frame.DataFrame'>\n",
      "Int64Index: 1047 entries, 0 to 1079\n",
      "Data columns (total 82 columns):\n",
      " #   Column           Non-Null Count  Dtype  \n",
      "---  ------           --------------  -----  \n",
      " 0   MouseID          1047 non-null   object \n",
      " 1   DYRK1A_N         1047 non-null   float64\n",
      " 2   ITSN1_N          1047 non-null   float64\n",
      " 3   BDNF_N           1047 non-null   float64\n",
      " 4   NR1_N            1047 non-null   float64\n",
      " 5   NR2A_N           1047 non-null   float64\n",
      " 6   pAKT_N           1047 non-null   float64\n",
      " 7   pBRAF_N          1047 non-null   float64\n",
      " 8   pCAMKII_N        1047 non-null   float64\n",
      " 9   pCREB_N          1047 non-null   float64\n",
      " 10  pELK_N           1047 non-null   float64\n",
      " 11  pERK_N           1047 non-null   float64\n",
      " 12  pJNK_N           1047 non-null   float64\n",
      " 13  PKCA_N           1047 non-null   float64\n",
      " 14  pMEK_N           1047 non-null   float64\n",
      " 15  pNR1_N           1047 non-null   float64\n",
      " 16  pNR2A_N          1047 non-null   float64\n",
      " 17  pNR2B_N          1047 non-null   float64\n",
      " 18  pPKCAB_N         1047 non-null   float64\n",
      " 19  pRSK_N           1047 non-null   float64\n",
      " 20  AKT_N            1047 non-null   float64\n",
      " 21  BRAF_N           1047 non-null   float64\n",
      " 22  CAMKII_N         1047 non-null   float64\n",
      " 23  CREB_N           1047 non-null   float64\n",
      " 24  ELK_N            1047 non-null   float64\n",
      " 25  ERK_N            1047 non-null   float64\n",
      " 26  GSK3B_N          1047 non-null   float64\n",
      " 27  JNK_N            1047 non-null   float64\n",
      " 28  MEK_N            1047 non-null   float64\n",
      " 29  TRKA_N           1047 non-null   float64\n",
      " 30  RSK_N            1047 non-null   float64\n",
      " 31  APP_N            1047 non-null   float64\n",
      " 32  Bcatenin_N       1047 non-null   float64\n",
      " 33  SOD1_N           1047 non-null   float64\n",
      " 34  MTOR_N           1047 non-null   float64\n",
      " 35  P38_N            1047 non-null   float64\n",
      " 36  pMTOR_N          1047 non-null   float64\n",
      " 37  DSCR1_N          1047 non-null   float64\n",
      " 38  AMPKA_N          1047 non-null   float64\n",
      " 39  NR2B_N           1047 non-null   float64\n",
      " 40  pNUMB_N          1047 non-null   float64\n",
      " 41  RAPTOR_N         1047 non-null   float64\n",
      " 42  TIAM1_N          1047 non-null   float64\n",
      " 43  pP70S6_N         1047 non-null   float64\n",
      " 44  NUMB_N           1047 non-null   float64\n",
      " 45  P70S6_N          1047 non-null   float64\n",
      " 46  pGSK3B_N         1047 non-null   float64\n",
      " 47  pPKCG_N          1047 non-null   float64\n",
      " 48  CDK5_N           1047 non-null   float64\n",
      " 49  S6_N             1047 non-null   float64\n",
      " 50  ADARB1_N         1047 non-null   float64\n",
      " 51  AcetylH3K9_N     1047 non-null   float64\n",
      " 52  RRP1_N           1047 non-null   float64\n",
      " 53  BAX_N            1047 non-null   float64\n",
      " 54  ARC_N            1047 non-null   float64\n",
      " 55  ERBB4_N          1047 non-null   float64\n",
      " 56  nNOS_N           1047 non-null   float64\n",
      " 57  Tau_N            1047 non-null   float64\n",
      " 58  GFAP_N           1047 non-null   float64\n",
      " 59  GluR3_N          1047 non-null   float64\n",
      " 60  GluR4_N          1047 non-null   float64\n",
      " 61  IL1B_N           1047 non-null   float64\n",
      " 62  P3525_N          1047 non-null   float64\n",
      " 63  pCASP9_N         1047 non-null   float64\n",
      " 64  PSD95_N          1047 non-null   float64\n",
      " 65  SNCA_N           1047 non-null   float64\n",
      " 66  Ubiquitin_N      1047 non-null   float64\n",
      " 67  pGSK3B_Tyr216_N  1047 non-null   float64\n",
      " 68  SHH_N            1047 non-null   float64\n",
      " 69  BAD_N            849 non-null    float64\n",
      " 70  BCL2_N           777 non-null    float64\n",
      " 71  pS6_N            1047 non-null   float64\n",
      " 72  pCFOS_N          972 non-null    float64\n",
      " 73  SYP_N            1047 non-null   float64\n",
      " 74  H3AcK18_N        867 non-null    float64\n",
      " 75  EGR1_N           852 non-null    float64\n",
      " 76  H3MeK4_N         1047 non-null   float64\n",
      " 77  CaNA_N           1047 non-null   float64\n",
      " 78  Genotype         1047 non-null   object \n",
      " 79  Treatment        1047 non-null   object \n",
      " 80  Behavior         1047 non-null   object \n",
      " 81  class            1047 non-null   object \n",
      "dtypes: float64(77), object(5)\n",
      "memory usage: 678.9+ KB\n"
     ]
    },
    {
     "name": "stderr",
     "output_type": "stream",
     "text": [
      "C:\\Users\\Samaneh\\anaconda3\\lib\\site-packages\\pandas\\core\\generic.py:6392: SettingWithCopyWarning: \n",
      "A value is trying to be set on a copy of a slice from a DataFrame\n",
      "\n",
      "See the caveats in the documentation: https://pandas.pydata.org/pandas-docs/stable/user_guide/indexing.html#returning-a-view-versus-a-copy\n",
      "  return self._update_inplace(result)\n"
     ]
    }
   ],
   "source": [
    "Rep1=DropNA['H3MeK4_N'].fillna(DropNA['H3MeK4_N'].mean(), inplace=True)\n",
    "DropNA.info()"
   ]
  },
  {
   "cell_type": "code",
   "execution_count": 409,
   "id": "fecb725a",
   "metadata": {},
   "outputs": [
    {
     "name": "stdout",
     "output_type": "stream",
     "text": [
      "<class 'pandas.core.frame.DataFrame'>\n",
      "Int64Index: 1047 entries, 0 to 1079\n",
      "Data columns (total 82 columns):\n",
      " #   Column           Non-Null Count  Dtype  \n",
      "---  ------           --------------  -----  \n",
      " 0   MouseID          1047 non-null   object \n",
      " 1   DYRK1A_N         1047 non-null   float64\n",
      " 2   ITSN1_N          1047 non-null   float64\n",
      " 3   BDNF_N           1047 non-null   float64\n",
      " 4   NR1_N            1047 non-null   float64\n",
      " 5   NR2A_N           1047 non-null   float64\n",
      " 6   pAKT_N           1047 non-null   float64\n",
      " 7   pBRAF_N          1047 non-null   float64\n",
      " 8   pCAMKII_N        1047 non-null   float64\n",
      " 9   pCREB_N          1047 non-null   float64\n",
      " 10  pELK_N           1047 non-null   float64\n",
      " 11  pERK_N           1047 non-null   float64\n",
      " 12  pJNK_N           1047 non-null   float64\n",
      " 13  PKCA_N           1047 non-null   float64\n",
      " 14  pMEK_N           1047 non-null   float64\n",
      " 15  pNR1_N           1047 non-null   float64\n",
      " 16  pNR2A_N          1047 non-null   float64\n",
      " 17  pNR2B_N          1047 non-null   float64\n",
      " 18  pPKCAB_N         1047 non-null   float64\n",
      " 19  pRSK_N           1047 non-null   float64\n",
      " 20  AKT_N            1047 non-null   float64\n",
      " 21  BRAF_N           1047 non-null   float64\n",
      " 22  CAMKII_N         1047 non-null   float64\n",
      " 23  CREB_N           1047 non-null   float64\n",
      " 24  ELK_N            1047 non-null   float64\n",
      " 25  ERK_N            1047 non-null   float64\n",
      " 26  GSK3B_N          1047 non-null   float64\n",
      " 27  JNK_N            1047 non-null   float64\n",
      " 28  MEK_N            1047 non-null   float64\n",
      " 29  TRKA_N           1047 non-null   float64\n",
      " 30  RSK_N            1047 non-null   float64\n",
      " 31  APP_N            1047 non-null   float64\n",
      " 32  Bcatenin_N       1047 non-null   float64\n",
      " 33  SOD1_N           1047 non-null   float64\n",
      " 34  MTOR_N           1047 non-null   float64\n",
      " 35  P38_N            1047 non-null   float64\n",
      " 36  pMTOR_N          1047 non-null   float64\n",
      " 37  DSCR1_N          1047 non-null   float64\n",
      " 38  AMPKA_N          1047 non-null   float64\n",
      " 39  NR2B_N           1047 non-null   float64\n",
      " 40  pNUMB_N          1047 non-null   float64\n",
      " 41  RAPTOR_N         1047 non-null   float64\n",
      " 42  TIAM1_N          1047 non-null   float64\n",
      " 43  pP70S6_N         1047 non-null   float64\n",
      " 44  NUMB_N           1047 non-null   float64\n",
      " 45  P70S6_N          1047 non-null   float64\n",
      " 46  pGSK3B_N         1047 non-null   float64\n",
      " 47  pPKCG_N          1047 non-null   float64\n",
      " 48  CDK5_N           1047 non-null   float64\n",
      " 49  S6_N             1047 non-null   float64\n",
      " 50  ADARB1_N         1047 non-null   float64\n",
      " 51  AcetylH3K9_N     1047 non-null   float64\n",
      " 52  RRP1_N           1047 non-null   float64\n",
      " 53  BAX_N            1047 non-null   float64\n",
      " 54  ARC_N            1047 non-null   float64\n",
      " 55  ERBB4_N          1047 non-null   float64\n",
      " 56  nNOS_N           1047 non-null   float64\n",
      " 57  Tau_N            1047 non-null   float64\n",
      " 58  GFAP_N           1047 non-null   float64\n",
      " 59  GluR3_N          1047 non-null   float64\n",
      " 60  GluR4_N          1047 non-null   float64\n",
      " 61  IL1B_N           1047 non-null   float64\n",
      " 62  P3525_N          1047 non-null   float64\n",
      " 63  pCASP9_N         1047 non-null   float64\n",
      " 64  PSD95_N          1047 non-null   float64\n",
      " 65  SNCA_N           1047 non-null   float64\n",
      " 66  Ubiquitin_N      1047 non-null   float64\n",
      " 67  pGSK3B_Tyr216_N  1047 non-null   float64\n",
      " 68  SHH_N            1047 non-null   float64\n",
      " 69  BAD_N            849 non-null    float64\n",
      " 70  BCL2_N           777 non-null    float64\n",
      " 71  pS6_N            1047 non-null   float64\n",
      " 72  pCFOS_N          972 non-null    float64\n",
      " 73  SYP_N            1047 non-null   float64\n",
      " 74  H3AcK18_N        867 non-null    float64\n",
      " 75  EGR1_N           1047 non-null   float64\n",
      " 76  H3MeK4_N         1047 non-null   float64\n",
      " 77  CaNA_N           1047 non-null   float64\n",
      " 78  Genotype         1047 non-null   object \n",
      " 79  Treatment        1047 non-null   object \n",
      " 80  Behavior         1047 non-null   object \n",
      " 81  class            1047 non-null   object \n",
      "dtypes: float64(77), object(5)\n",
      "memory usage: 678.9+ KB\n"
     ]
    }
   ],
   "source": [
    "Rep1=DropNA['EGR1_N'].fillna(DropNA['EGR1_N'].mean(), inplace=True)\n",
    "DropNA.info()"
   ]
  },
  {
   "cell_type": "code",
   "execution_count": 410,
   "id": "8a7c77c1",
   "metadata": {},
   "outputs": [
    {
     "name": "stdout",
     "output_type": "stream",
     "text": [
      "<class 'pandas.core.frame.DataFrame'>\n",
      "Int64Index: 1047 entries, 0 to 1079\n",
      "Data columns (total 82 columns):\n",
      " #   Column           Non-Null Count  Dtype  \n",
      "---  ------           --------------  -----  \n",
      " 0   MouseID          1047 non-null   object \n",
      " 1   DYRK1A_N         1047 non-null   float64\n",
      " 2   ITSN1_N          1047 non-null   float64\n",
      " 3   BDNF_N           1047 non-null   float64\n",
      " 4   NR1_N            1047 non-null   float64\n",
      " 5   NR2A_N           1047 non-null   float64\n",
      " 6   pAKT_N           1047 non-null   float64\n",
      " 7   pBRAF_N          1047 non-null   float64\n",
      " 8   pCAMKII_N        1047 non-null   float64\n",
      " 9   pCREB_N          1047 non-null   float64\n",
      " 10  pELK_N           1047 non-null   float64\n",
      " 11  pERK_N           1047 non-null   float64\n",
      " 12  pJNK_N           1047 non-null   float64\n",
      " 13  PKCA_N           1047 non-null   float64\n",
      " 14  pMEK_N           1047 non-null   float64\n",
      " 15  pNR1_N           1047 non-null   float64\n",
      " 16  pNR2A_N          1047 non-null   float64\n",
      " 17  pNR2B_N          1047 non-null   float64\n",
      " 18  pPKCAB_N         1047 non-null   float64\n",
      " 19  pRSK_N           1047 non-null   float64\n",
      " 20  AKT_N            1047 non-null   float64\n",
      " 21  BRAF_N           1047 non-null   float64\n",
      " 22  CAMKII_N         1047 non-null   float64\n",
      " 23  CREB_N           1047 non-null   float64\n",
      " 24  ELK_N            1047 non-null   float64\n",
      " 25  ERK_N            1047 non-null   float64\n",
      " 26  GSK3B_N          1047 non-null   float64\n",
      " 27  JNK_N            1047 non-null   float64\n",
      " 28  MEK_N            1047 non-null   float64\n",
      " 29  TRKA_N           1047 non-null   float64\n",
      " 30  RSK_N            1047 non-null   float64\n",
      " 31  APP_N            1047 non-null   float64\n",
      " 32  Bcatenin_N       1047 non-null   float64\n",
      " 33  SOD1_N           1047 non-null   float64\n",
      " 34  MTOR_N           1047 non-null   float64\n",
      " 35  P38_N            1047 non-null   float64\n",
      " 36  pMTOR_N          1047 non-null   float64\n",
      " 37  DSCR1_N          1047 non-null   float64\n",
      " 38  AMPKA_N          1047 non-null   float64\n",
      " 39  NR2B_N           1047 non-null   float64\n",
      " 40  pNUMB_N          1047 non-null   float64\n",
      " 41  RAPTOR_N         1047 non-null   float64\n",
      " 42  TIAM1_N          1047 non-null   float64\n",
      " 43  pP70S6_N         1047 non-null   float64\n",
      " 44  NUMB_N           1047 non-null   float64\n",
      " 45  P70S6_N          1047 non-null   float64\n",
      " 46  pGSK3B_N         1047 non-null   float64\n",
      " 47  pPKCG_N          1047 non-null   float64\n",
      " 48  CDK5_N           1047 non-null   float64\n",
      " 49  S6_N             1047 non-null   float64\n",
      " 50  ADARB1_N         1047 non-null   float64\n",
      " 51  AcetylH3K9_N     1047 non-null   float64\n",
      " 52  RRP1_N           1047 non-null   float64\n",
      " 53  BAX_N            1047 non-null   float64\n",
      " 54  ARC_N            1047 non-null   float64\n",
      " 55  ERBB4_N          1047 non-null   float64\n",
      " 56  nNOS_N           1047 non-null   float64\n",
      " 57  Tau_N            1047 non-null   float64\n",
      " 58  GFAP_N           1047 non-null   float64\n",
      " 59  GluR3_N          1047 non-null   float64\n",
      " 60  GluR4_N          1047 non-null   float64\n",
      " 61  IL1B_N           1047 non-null   float64\n",
      " 62  P3525_N          1047 non-null   float64\n",
      " 63  pCASP9_N         1047 non-null   float64\n",
      " 64  PSD95_N          1047 non-null   float64\n",
      " 65  SNCA_N           1047 non-null   float64\n",
      " 66  Ubiquitin_N      1047 non-null   float64\n",
      " 67  pGSK3B_Tyr216_N  1047 non-null   float64\n",
      " 68  SHH_N            1047 non-null   float64\n",
      " 69  BAD_N            849 non-null    float64\n",
      " 70  BCL2_N           777 non-null    float64\n",
      " 71  pS6_N            1047 non-null   float64\n",
      " 72  pCFOS_N          972 non-null    float64\n",
      " 73  SYP_N            1047 non-null   float64\n",
      " 74  H3AcK18_N        1047 non-null   float64\n",
      " 75  EGR1_N           1047 non-null   float64\n",
      " 76  H3MeK4_N         1047 non-null   float64\n",
      " 77  CaNA_N           1047 non-null   float64\n",
      " 78  Genotype         1047 non-null   object \n",
      " 79  Treatment        1047 non-null   object \n",
      " 80  Behavior         1047 non-null   object \n",
      " 81  class            1047 non-null   object \n",
      "dtypes: float64(77), object(5)\n",
      "memory usage: 678.9+ KB\n"
     ]
    }
   ],
   "source": [
    "Rep1=DropNA['H3AcK18_N'].fillna(DropNA['H3AcK18_N'].mean(), inplace=True)\n",
    "DropNA.info()"
   ]
  },
  {
   "cell_type": "code",
   "execution_count": 411,
   "id": "039312c3",
   "metadata": {},
   "outputs": [
    {
     "name": "stdout",
     "output_type": "stream",
     "text": [
      "<class 'pandas.core.frame.DataFrame'>\n",
      "Int64Index: 1047 entries, 0 to 1079\n",
      "Data columns (total 82 columns):\n",
      " #   Column           Non-Null Count  Dtype  \n",
      "---  ------           --------------  -----  \n",
      " 0   MouseID          1047 non-null   object \n",
      " 1   DYRK1A_N         1047 non-null   float64\n",
      " 2   ITSN1_N          1047 non-null   float64\n",
      " 3   BDNF_N           1047 non-null   float64\n",
      " 4   NR1_N            1047 non-null   float64\n",
      " 5   NR2A_N           1047 non-null   float64\n",
      " 6   pAKT_N           1047 non-null   float64\n",
      " 7   pBRAF_N          1047 non-null   float64\n",
      " 8   pCAMKII_N        1047 non-null   float64\n",
      " 9   pCREB_N          1047 non-null   float64\n",
      " 10  pELK_N           1047 non-null   float64\n",
      " 11  pERK_N           1047 non-null   float64\n",
      " 12  pJNK_N           1047 non-null   float64\n",
      " 13  PKCA_N           1047 non-null   float64\n",
      " 14  pMEK_N           1047 non-null   float64\n",
      " 15  pNR1_N           1047 non-null   float64\n",
      " 16  pNR2A_N          1047 non-null   float64\n",
      " 17  pNR2B_N          1047 non-null   float64\n",
      " 18  pPKCAB_N         1047 non-null   float64\n",
      " 19  pRSK_N           1047 non-null   float64\n",
      " 20  AKT_N            1047 non-null   float64\n",
      " 21  BRAF_N           1047 non-null   float64\n",
      " 22  CAMKII_N         1047 non-null   float64\n",
      " 23  CREB_N           1047 non-null   float64\n",
      " 24  ELK_N            1047 non-null   float64\n",
      " 25  ERK_N            1047 non-null   float64\n",
      " 26  GSK3B_N          1047 non-null   float64\n",
      " 27  JNK_N            1047 non-null   float64\n",
      " 28  MEK_N            1047 non-null   float64\n",
      " 29  TRKA_N           1047 non-null   float64\n",
      " 30  RSK_N            1047 non-null   float64\n",
      " 31  APP_N            1047 non-null   float64\n",
      " 32  Bcatenin_N       1047 non-null   float64\n",
      " 33  SOD1_N           1047 non-null   float64\n",
      " 34  MTOR_N           1047 non-null   float64\n",
      " 35  P38_N            1047 non-null   float64\n",
      " 36  pMTOR_N          1047 non-null   float64\n",
      " 37  DSCR1_N          1047 non-null   float64\n",
      " 38  AMPKA_N          1047 non-null   float64\n",
      " 39  NR2B_N           1047 non-null   float64\n",
      " 40  pNUMB_N          1047 non-null   float64\n",
      " 41  RAPTOR_N         1047 non-null   float64\n",
      " 42  TIAM1_N          1047 non-null   float64\n",
      " 43  pP70S6_N         1047 non-null   float64\n",
      " 44  NUMB_N           1047 non-null   float64\n",
      " 45  P70S6_N          1047 non-null   float64\n",
      " 46  pGSK3B_N         1047 non-null   float64\n",
      " 47  pPKCG_N          1047 non-null   float64\n",
      " 48  CDK5_N           1047 non-null   float64\n",
      " 49  S6_N             1047 non-null   float64\n",
      " 50  ADARB1_N         1047 non-null   float64\n",
      " 51  AcetylH3K9_N     1047 non-null   float64\n",
      " 52  RRP1_N           1047 non-null   float64\n",
      " 53  BAX_N            1047 non-null   float64\n",
      " 54  ARC_N            1047 non-null   float64\n",
      " 55  ERBB4_N          1047 non-null   float64\n",
      " 56  nNOS_N           1047 non-null   float64\n",
      " 57  Tau_N            1047 non-null   float64\n",
      " 58  GFAP_N           1047 non-null   float64\n",
      " 59  GluR3_N          1047 non-null   float64\n",
      " 60  GluR4_N          1047 non-null   float64\n",
      " 61  IL1B_N           1047 non-null   float64\n",
      " 62  P3525_N          1047 non-null   float64\n",
      " 63  pCASP9_N         1047 non-null   float64\n",
      " 64  PSD95_N          1047 non-null   float64\n",
      " 65  SNCA_N           1047 non-null   float64\n",
      " 66  Ubiquitin_N      1047 non-null   float64\n",
      " 67  pGSK3B_Tyr216_N  1047 non-null   float64\n",
      " 68  SHH_N            1047 non-null   float64\n",
      " 69  BAD_N            849 non-null    float64\n",
      " 70  BCL2_N           777 non-null    float64\n",
      " 71  pS6_N            1047 non-null   float64\n",
      " 72  pCFOS_N          1047 non-null   float64\n",
      " 73  SYP_N            1047 non-null   float64\n",
      " 74  H3AcK18_N        1047 non-null   float64\n",
      " 75  EGR1_N           1047 non-null   float64\n",
      " 76  H3MeK4_N         1047 non-null   float64\n",
      " 77  CaNA_N           1047 non-null   float64\n",
      " 78  Genotype         1047 non-null   object \n",
      " 79  Treatment        1047 non-null   object \n",
      " 80  Behavior         1047 non-null   object \n",
      " 81  class            1047 non-null   object \n",
      "dtypes: float64(77), object(5)\n",
      "memory usage: 678.9+ KB\n"
     ]
    }
   ],
   "source": [
    "Rep1=DropNA['pCFOS_N'].fillna(DropNA['pCFOS_N'].mean(), inplace=True)\n",
    "DropNA.info()"
   ]
  },
  {
   "cell_type": "code",
   "execution_count": 412,
   "id": "35ad13e0",
   "metadata": {},
   "outputs": [
    {
     "name": "stdout",
     "output_type": "stream",
     "text": [
      "<class 'pandas.core.frame.DataFrame'>\n",
      "Int64Index: 1047 entries, 0 to 1079\n",
      "Data columns (total 82 columns):\n",
      " #   Column           Non-Null Count  Dtype  \n",
      "---  ------           --------------  -----  \n",
      " 0   MouseID          1047 non-null   object \n",
      " 1   DYRK1A_N         1047 non-null   float64\n",
      " 2   ITSN1_N          1047 non-null   float64\n",
      " 3   BDNF_N           1047 non-null   float64\n",
      " 4   NR1_N            1047 non-null   float64\n",
      " 5   NR2A_N           1047 non-null   float64\n",
      " 6   pAKT_N           1047 non-null   float64\n",
      " 7   pBRAF_N          1047 non-null   float64\n",
      " 8   pCAMKII_N        1047 non-null   float64\n",
      " 9   pCREB_N          1047 non-null   float64\n",
      " 10  pELK_N           1047 non-null   float64\n",
      " 11  pERK_N           1047 non-null   float64\n",
      " 12  pJNK_N           1047 non-null   float64\n",
      " 13  PKCA_N           1047 non-null   float64\n",
      " 14  pMEK_N           1047 non-null   float64\n",
      " 15  pNR1_N           1047 non-null   float64\n",
      " 16  pNR2A_N          1047 non-null   float64\n",
      " 17  pNR2B_N          1047 non-null   float64\n",
      " 18  pPKCAB_N         1047 non-null   float64\n",
      " 19  pRSK_N           1047 non-null   float64\n",
      " 20  AKT_N            1047 non-null   float64\n",
      " 21  BRAF_N           1047 non-null   float64\n",
      " 22  CAMKII_N         1047 non-null   float64\n",
      " 23  CREB_N           1047 non-null   float64\n",
      " 24  ELK_N            1047 non-null   float64\n",
      " 25  ERK_N            1047 non-null   float64\n",
      " 26  GSK3B_N          1047 non-null   float64\n",
      " 27  JNK_N            1047 non-null   float64\n",
      " 28  MEK_N            1047 non-null   float64\n",
      " 29  TRKA_N           1047 non-null   float64\n",
      " 30  RSK_N            1047 non-null   float64\n",
      " 31  APP_N            1047 non-null   float64\n",
      " 32  Bcatenin_N       1047 non-null   float64\n",
      " 33  SOD1_N           1047 non-null   float64\n",
      " 34  MTOR_N           1047 non-null   float64\n",
      " 35  P38_N            1047 non-null   float64\n",
      " 36  pMTOR_N          1047 non-null   float64\n",
      " 37  DSCR1_N          1047 non-null   float64\n",
      " 38  AMPKA_N          1047 non-null   float64\n",
      " 39  NR2B_N           1047 non-null   float64\n",
      " 40  pNUMB_N          1047 non-null   float64\n",
      " 41  RAPTOR_N         1047 non-null   float64\n",
      " 42  TIAM1_N          1047 non-null   float64\n",
      " 43  pP70S6_N         1047 non-null   float64\n",
      " 44  NUMB_N           1047 non-null   float64\n",
      " 45  P70S6_N          1047 non-null   float64\n",
      " 46  pGSK3B_N         1047 non-null   float64\n",
      " 47  pPKCG_N          1047 non-null   float64\n",
      " 48  CDK5_N           1047 non-null   float64\n",
      " 49  S6_N             1047 non-null   float64\n",
      " 50  ADARB1_N         1047 non-null   float64\n",
      " 51  AcetylH3K9_N     1047 non-null   float64\n",
      " 52  RRP1_N           1047 non-null   float64\n",
      " 53  BAX_N            1047 non-null   float64\n",
      " 54  ARC_N            1047 non-null   float64\n",
      " 55  ERBB4_N          1047 non-null   float64\n",
      " 56  nNOS_N           1047 non-null   float64\n",
      " 57  Tau_N            1047 non-null   float64\n",
      " 58  GFAP_N           1047 non-null   float64\n",
      " 59  GluR3_N          1047 non-null   float64\n",
      " 60  GluR4_N          1047 non-null   float64\n",
      " 61  IL1B_N           1047 non-null   float64\n",
      " 62  P3525_N          1047 non-null   float64\n",
      " 63  pCASP9_N         1047 non-null   float64\n",
      " 64  PSD95_N          1047 non-null   float64\n",
      " 65  SNCA_N           1047 non-null   float64\n",
      " 66  Ubiquitin_N      1047 non-null   float64\n",
      " 67  pGSK3B_Tyr216_N  1047 non-null   float64\n",
      " 68  SHH_N            1047 non-null   float64\n",
      " 69  BAD_N            849 non-null    float64\n",
      " 70  BCL2_N           1047 non-null   float64\n",
      " 71  pS6_N            1047 non-null   float64\n",
      " 72  pCFOS_N          1047 non-null   float64\n",
      " 73  SYP_N            1047 non-null   float64\n",
      " 74  H3AcK18_N        1047 non-null   float64\n",
      " 75  EGR1_N           1047 non-null   float64\n",
      " 76  H3MeK4_N         1047 non-null   float64\n",
      " 77  CaNA_N           1047 non-null   float64\n",
      " 78  Genotype         1047 non-null   object \n",
      " 79  Treatment        1047 non-null   object \n",
      " 80  Behavior         1047 non-null   object \n",
      " 81  class            1047 non-null   object \n",
      "dtypes: float64(77), object(5)\n",
      "memory usage: 678.9+ KB\n"
     ]
    }
   ],
   "source": [
    "Rep1=DropNA['BCL2_N'].fillna(DropNA['BCL2_N'].mean(), inplace=True)\n",
    "DropNA.info()"
   ]
  },
  {
   "cell_type": "code",
   "execution_count": 413,
   "id": "82e9bf69",
   "metadata": {},
   "outputs": [
    {
     "name": "stdout",
     "output_type": "stream",
     "text": [
      "<class 'pandas.core.frame.DataFrame'>\n",
      "Int64Index: 1047 entries, 0 to 1079\n",
      "Data columns (total 82 columns):\n",
      " #   Column           Non-Null Count  Dtype  \n",
      "---  ------           --------------  -----  \n",
      " 0   MouseID          1047 non-null   object \n",
      " 1   DYRK1A_N         1047 non-null   float64\n",
      " 2   ITSN1_N          1047 non-null   float64\n",
      " 3   BDNF_N           1047 non-null   float64\n",
      " 4   NR1_N            1047 non-null   float64\n",
      " 5   NR2A_N           1047 non-null   float64\n",
      " 6   pAKT_N           1047 non-null   float64\n",
      " 7   pBRAF_N          1047 non-null   float64\n",
      " 8   pCAMKII_N        1047 non-null   float64\n",
      " 9   pCREB_N          1047 non-null   float64\n",
      " 10  pELK_N           1047 non-null   float64\n",
      " 11  pERK_N           1047 non-null   float64\n",
      " 12  pJNK_N           1047 non-null   float64\n",
      " 13  PKCA_N           1047 non-null   float64\n",
      " 14  pMEK_N           1047 non-null   float64\n",
      " 15  pNR1_N           1047 non-null   float64\n",
      " 16  pNR2A_N          1047 non-null   float64\n",
      " 17  pNR2B_N          1047 non-null   float64\n",
      " 18  pPKCAB_N         1047 non-null   float64\n",
      " 19  pRSK_N           1047 non-null   float64\n",
      " 20  AKT_N            1047 non-null   float64\n",
      " 21  BRAF_N           1047 non-null   float64\n",
      " 22  CAMKII_N         1047 non-null   float64\n",
      " 23  CREB_N           1047 non-null   float64\n",
      " 24  ELK_N            1047 non-null   float64\n",
      " 25  ERK_N            1047 non-null   float64\n",
      " 26  GSK3B_N          1047 non-null   float64\n",
      " 27  JNK_N            1047 non-null   float64\n",
      " 28  MEK_N            1047 non-null   float64\n",
      " 29  TRKA_N           1047 non-null   float64\n",
      " 30  RSK_N            1047 non-null   float64\n",
      " 31  APP_N            1047 non-null   float64\n",
      " 32  Bcatenin_N       1047 non-null   float64\n",
      " 33  SOD1_N           1047 non-null   float64\n",
      " 34  MTOR_N           1047 non-null   float64\n",
      " 35  P38_N            1047 non-null   float64\n",
      " 36  pMTOR_N          1047 non-null   float64\n",
      " 37  DSCR1_N          1047 non-null   float64\n",
      " 38  AMPKA_N          1047 non-null   float64\n",
      " 39  NR2B_N           1047 non-null   float64\n",
      " 40  pNUMB_N          1047 non-null   float64\n",
      " 41  RAPTOR_N         1047 non-null   float64\n",
      " 42  TIAM1_N          1047 non-null   float64\n",
      " 43  pP70S6_N         1047 non-null   float64\n",
      " 44  NUMB_N           1047 non-null   float64\n",
      " 45  P70S6_N          1047 non-null   float64\n",
      " 46  pGSK3B_N         1047 non-null   float64\n",
      " 47  pPKCG_N          1047 non-null   float64\n",
      " 48  CDK5_N           1047 non-null   float64\n",
      " 49  S6_N             1047 non-null   float64\n",
      " 50  ADARB1_N         1047 non-null   float64\n",
      " 51  AcetylH3K9_N     1047 non-null   float64\n",
      " 52  RRP1_N           1047 non-null   float64\n",
      " 53  BAX_N            1047 non-null   float64\n",
      " 54  ARC_N            1047 non-null   float64\n",
      " 55  ERBB4_N          1047 non-null   float64\n",
      " 56  nNOS_N           1047 non-null   float64\n",
      " 57  Tau_N            1047 non-null   float64\n",
      " 58  GFAP_N           1047 non-null   float64\n",
      " 59  GluR3_N          1047 non-null   float64\n",
      " 60  GluR4_N          1047 non-null   float64\n",
      " 61  IL1B_N           1047 non-null   float64\n",
      " 62  P3525_N          1047 non-null   float64\n",
      " 63  pCASP9_N         1047 non-null   float64\n",
      " 64  PSD95_N          1047 non-null   float64\n",
      " 65  SNCA_N           1047 non-null   float64\n",
      " 66  Ubiquitin_N      1047 non-null   float64\n",
      " 67  pGSK3B_Tyr216_N  1047 non-null   float64\n",
      " 68  SHH_N            1047 non-null   float64\n",
      " 69  BAD_N            1047 non-null   float64\n",
      " 70  BCL2_N           1047 non-null   float64\n",
      " 71  pS6_N            1047 non-null   float64\n",
      " 72  pCFOS_N          1047 non-null   float64\n",
      " 73  SYP_N            1047 non-null   float64\n",
      " 74  H3AcK18_N        1047 non-null   float64\n",
      " 75  EGR1_N           1047 non-null   float64\n",
      " 76  H3MeK4_N         1047 non-null   float64\n",
      " 77  CaNA_N           1047 non-null   float64\n",
      " 78  Genotype         1047 non-null   object \n",
      " 79  Treatment        1047 non-null   object \n",
      " 80  Behavior         1047 non-null   object \n",
      " 81  class            1047 non-null   object \n",
      "dtypes: float64(77), object(5)\n",
      "memory usage: 678.9+ KB\n"
     ]
    }
   ],
   "source": [
    "Rep1=DropNA['BAD_N'].fillna(DropNA['BAD_N'].mean(), inplace=True)\n",
    "DropNA.info()"
   ]
  },
  {
   "cell_type": "markdown",
   "id": "2a7be861",
   "metadata": {},
   "source": [
    "Now I have a data without NA values"
   ]
  },
  {
   "cell_type": "markdown",
   "id": "fa573286",
   "metadata": {},
   "source": [
    "I want to see an overview of the my data"
   ]
  },
  {
   "cell_type": "code",
   "execution_count": 414,
   "id": "2945d26c",
   "metadata": {},
   "outputs": [
    {
     "name": "stderr",
     "output_type": "stream",
     "text": [
      "C:\\Users\\Samaneh\\AppData\\Local\\Temp/ipykernel_13808/4068775509.py:1: DeprecationWarning: `np.object` is a deprecated alias for the builtin `object`. To silence this warning, use `object` by itself. Doing this will not modify any behavior and is safe. \n",
      "Deprecated in NumPy 1.20; for more details and guidance: https://numpy.org/devdocs/release/1.20.0-notes.html#deprecations\n",
      "  DropNA.describe(include = np.object)\n"
     ]
    },
    {
     "data": {
      "text/html": [
       "<div>\n",
       "<style scoped>\n",
       "    .dataframe tbody tr th:only-of-type {\n",
       "        vertical-align: middle;\n",
       "    }\n",
       "\n",
       "    .dataframe tbody tr th {\n",
       "        vertical-align: top;\n",
       "    }\n",
       "\n",
       "    .dataframe thead th {\n",
       "        text-align: right;\n",
       "    }\n",
       "</style>\n",
       "<table border=\"1\" class=\"dataframe\">\n",
       "  <thead>\n",
       "    <tr style=\"text-align: right;\">\n",
       "      <th></th>\n",
       "      <th>MouseID</th>\n",
       "      <th>Genotype</th>\n",
       "      <th>Treatment</th>\n",
       "      <th>Behavior</th>\n",
       "      <th>class</th>\n",
       "    </tr>\n",
       "  </thead>\n",
       "  <tbody>\n",
       "    <tr>\n",
       "      <th>count</th>\n",
       "      <td>1047</td>\n",
       "      <td>1047</td>\n",
       "      <td>1047</td>\n",
       "      <td>1047</td>\n",
       "      <td>1047</td>\n",
       "    </tr>\n",
       "    <tr>\n",
       "      <th>unique</th>\n",
       "      <td>1047</td>\n",
       "      <td>2</td>\n",
       "      <td>2</td>\n",
       "      <td>2</td>\n",
       "      <td>8</td>\n",
       "    </tr>\n",
       "    <tr>\n",
       "      <th>top</th>\n",
       "      <td>309_1</td>\n",
       "      <td>Control</td>\n",
       "      <td>Memantine</td>\n",
       "      <td>S/C</td>\n",
       "      <td>c-CS-m</td>\n",
       "    </tr>\n",
       "    <tr>\n",
       "      <th>freq</th>\n",
       "      <td>1</td>\n",
       "      <td>540</td>\n",
       "      <td>570</td>\n",
       "      <td>537</td>\n",
       "      <td>150</td>\n",
       "    </tr>\n",
       "  </tbody>\n",
       "</table>\n",
       "</div>"
      ],
      "text/plain": [
       "       MouseID Genotype  Treatment Behavior   class\n",
       "count     1047     1047       1047     1047    1047\n",
       "unique    1047        2          2        2       8\n",
       "top      309_1  Control  Memantine      S/C  c-CS-m\n",
       "freq         1      540        570      537     150"
      ]
     },
     "execution_count": 414,
     "metadata": {},
     "output_type": "execute_result"
    }
   ],
   "source": [
    "DropNA.describe(include = np.object)"
   ]
  },
  {
   "cell_type": "markdown",
   "id": "f06a028f",
   "metadata": {},
   "source": [
    "As we can see here I still have some unique values that should be considered because they dont have useful information"
   ]
  },
  {
   "cell_type": "code",
   "execution_count": 415,
   "id": "e9a1e7de",
   "metadata": {},
   "outputs": [
    {
     "data": {
      "text/html": [
       "<div>\n",
       "<style scoped>\n",
       "    .dataframe tbody tr th:only-of-type {\n",
       "        vertical-align: middle;\n",
       "    }\n",
       "\n",
       "    .dataframe tbody tr th {\n",
       "        vertical-align: top;\n",
       "    }\n",
       "\n",
       "    .dataframe thead th {\n",
       "        text-align: right;\n",
       "    }\n",
       "</style>\n",
       "<table border=\"1\" class=\"dataframe\">\n",
       "  <thead>\n",
       "    <tr style=\"text-align: right;\">\n",
       "      <th></th>\n",
       "      <th>DYRK1A_N</th>\n",
       "      <th>ITSN1_N</th>\n",
       "      <th>BDNF_N</th>\n",
       "      <th>NR1_N</th>\n",
       "      <th>NR2A_N</th>\n",
       "      <th>pAKT_N</th>\n",
       "      <th>pBRAF_N</th>\n",
       "      <th>pCAMKII_N</th>\n",
       "      <th>pCREB_N</th>\n",
       "      <th>pELK_N</th>\n",
       "      <th>...</th>\n",
       "      <th>SHH_N</th>\n",
       "      <th>BAD_N</th>\n",
       "      <th>BCL2_N</th>\n",
       "      <th>pS6_N</th>\n",
       "      <th>pCFOS_N</th>\n",
       "      <th>SYP_N</th>\n",
       "      <th>H3AcK18_N</th>\n",
       "      <th>EGR1_N</th>\n",
       "      <th>H3MeK4_N</th>\n",
       "      <th>CaNA_N</th>\n",
       "    </tr>\n",
       "  </thead>\n",
       "  <tbody>\n",
       "    <tr>\n",
       "      <th>count</th>\n",
       "      <td>1047.000</td>\n",
       "      <td>1047.000</td>\n",
       "      <td>1047.000</td>\n",
       "      <td>1047.000</td>\n",
       "      <td>1047.000</td>\n",
       "      <td>1047.000</td>\n",
       "      <td>1047.000</td>\n",
       "      <td>1047.000</td>\n",
       "      <td>1047.000</td>\n",
       "      <td>1047.000</td>\n",
       "      <td>...</td>\n",
       "      <td>1047.000</td>\n",
       "      <td>1047.000</td>\n",
       "      <td>1047.000</td>\n",
       "      <td>1047.000</td>\n",
       "      <td>1047.000</td>\n",
       "      <td>1047.000</td>\n",
       "      <td>1047.000</td>\n",
       "      <td>1047.000</td>\n",
       "      <td>1047.000</td>\n",
       "      <td>1047.000</td>\n",
       "    </tr>\n",
       "    <tr>\n",
       "      <th>mean</th>\n",
       "      <td>0.428</td>\n",
       "      <td>0.620</td>\n",
       "      <td>0.318</td>\n",
       "      <td>2.295</td>\n",
       "      <td>3.832</td>\n",
       "      <td>0.234</td>\n",
       "      <td>0.183</td>\n",
       "      <td>3.525</td>\n",
       "      <td>0.213</td>\n",
       "      <td>1.434</td>\n",
       "      <td>...</td>\n",
       "      <td>0.226</td>\n",
       "      <td>0.158</td>\n",
       "      <td>0.135</td>\n",
       "      <td>0.121</td>\n",
       "      <td>0.131</td>\n",
       "      <td>0.445</td>\n",
       "      <td>0.169</td>\n",
       "      <td>0.183</td>\n",
       "      <td>0.206</td>\n",
       "      <td>1.338</td>\n",
       "    </tr>\n",
       "    <tr>\n",
       "      <th>std</th>\n",
       "      <td>0.252</td>\n",
       "      <td>0.254</td>\n",
       "      <td>0.050</td>\n",
       "      <td>0.351</td>\n",
       "      <td>0.941</td>\n",
       "      <td>0.041</td>\n",
       "      <td>0.026</td>\n",
       "      <td>1.293</td>\n",
       "      <td>0.033</td>\n",
       "      <td>0.471</td>\n",
       "      <td>...</td>\n",
       "      <td>0.029</td>\n",
       "      <td>0.027</td>\n",
       "      <td>0.024</td>\n",
       "      <td>0.014</td>\n",
       "      <td>0.023</td>\n",
       "      <td>0.067</td>\n",
       "      <td>0.055</td>\n",
       "      <td>0.037</td>\n",
       "      <td>0.049</td>\n",
       "      <td>0.321</td>\n",
       "    </tr>\n",
       "    <tr>\n",
       "      <th>min</th>\n",
       "      <td>0.145</td>\n",
       "      <td>0.245</td>\n",
       "      <td>0.115</td>\n",
       "      <td>1.331</td>\n",
       "      <td>1.738</td>\n",
       "      <td>0.121</td>\n",
       "      <td>0.108</td>\n",
       "      <td>1.344</td>\n",
       "      <td>0.113</td>\n",
       "      <td>0.429</td>\n",
       "      <td>...</td>\n",
       "      <td>0.156</td>\n",
       "      <td>0.088</td>\n",
       "      <td>0.081</td>\n",
       "      <td>0.067</td>\n",
       "      <td>0.085</td>\n",
       "      <td>0.259</td>\n",
       "      <td>0.080</td>\n",
       "      <td>0.106</td>\n",
       "      <td>0.102</td>\n",
       "      <td>0.586</td>\n",
       "    </tr>\n",
       "    <tr>\n",
       "      <th>25%</th>\n",
       "      <td>0.289</td>\n",
       "      <td>0.475</td>\n",
       "      <td>0.286</td>\n",
       "      <td>2.052</td>\n",
       "      <td>3.143</td>\n",
       "      <td>0.206</td>\n",
       "      <td>0.165</td>\n",
       "      <td>2.448</td>\n",
       "      <td>0.191</td>\n",
       "      <td>1.211</td>\n",
       "      <td>...</td>\n",
       "      <td>0.206</td>\n",
       "      <td>0.141</td>\n",
       "      <td>0.120</td>\n",
       "      <td>0.110</td>\n",
       "      <td>0.114</td>\n",
       "      <td>0.397</td>\n",
       "      <td>0.134</td>\n",
       "      <td>0.159</td>\n",
       "      <td>0.174</td>\n",
       "      <td>1.076</td>\n",
       "    </tr>\n",
       "    <tr>\n",
       "      <th>50%</th>\n",
       "      <td>0.366</td>\n",
       "      <td>0.568</td>\n",
       "      <td>0.315</td>\n",
       "      <td>2.292</td>\n",
       "      <td>3.720</td>\n",
       "      <td>0.232</td>\n",
       "      <td>0.183</td>\n",
       "      <td>3.327</td>\n",
       "      <td>0.211</td>\n",
       "      <td>1.359</td>\n",
       "      <td>...</td>\n",
       "      <td>0.223</td>\n",
       "      <td>0.158</td>\n",
       "      <td>0.135</td>\n",
       "      <td>0.122</td>\n",
       "      <td>0.129</td>\n",
       "      <td>0.447</td>\n",
       "      <td>0.169</td>\n",
       "      <td>0.183</td>\n",
       "      <td>0.206</td>\n",
       "      <td>1.317</td>\n",
       "    </tr>\n",
       "    <tr>\n",
       "      <th>75%</th>\n",
       "      <td>0.489</td>\n",
       "      <td>0.702</td>\n",
       "      <td>0.346</td>\n",
       "      <td>2.529</td>\n",
       "      <td>4.405</td>\n",
       "      <td>0.258</td>\n",
       "      <td>0.198</td>\n",
       "      <td>4.432</td>\n",
       "      <td>0.235</td>\n",
       "      <td>1.565</td>\n",
       "      <td>...</td>\n",
       "      <td>0.241</td>\n",
       "      <td>0.168</td>\n",
       "      <td>0.140</td>\n",
       "      <td>0.132</td>\n",
       "      <td>0.143</td>\n",
       "      <td>0.491</td>\n",
       "      <td>0.186</td>\n",
       "      <td>0.196</td>\n",
       "      <td>0.219</td>\n",
       "      <td>1.591</td>\n",
       "    </tr>\n",
       "    <tr>\n",
       "      <th>max</th>\n",
       "      <td>2.516</td>\n",
       "      <td>2.603</td>\n",
       "      <td>0.497</td>\n",
       "      <td>3.758</td>\n",
       "      <td>8.483</td>\n",
       "      <td>0.539</td>\n",
       "      <td>0.317</td>\n",
       "      <td>7.464</td>\n",
       "      <td>0.306</td>\n",
       "      <td>6.113</td>\n",
       "      <td>...</td>\n",
       "      <td>0.358</td>\n",
       "      <td>0.282</td>\n",
       "      <td>0.262</td>\n",
       "      <td>0.159</td>\n",
       "      <td>0.257</td>\n",
       "      <td>0.760</td>\n",
       "      <td>0.480</td>\n",
       "      <td>0.361</td>\n",
       "      <td>0.414</td>\n",
       "      <td>2.130</td>\n",
       "    </tr>\n",
       "  </tbody>\n",
       "</table>\n",
       "<p>8 rows × 77 columns</p>\n",
       "</div>"
      ],
      "text/plain": [
       "       DYRK1A_N   ITSN1_N    BDNF_N     NR1_N    NR2A_N    pAKT_N   pBRAF_N  \\\n",
       "count  1047.000  1047.000  1047.000  1047.000  1047.000  1047.000  1047.000   \n",
       "mean      0.428     0.620     0.318     2.295     3.832     0.234     0.183   \n",
       "std       0.252     0.254     0.050     0.351     0.941     0.041     0.026   \n",
       "min       0.145     0.245     0.115     1.331     1.738     0.121     0.108   \n",
       "25%       0.289     0.475     0.286     2.052     3.143     0.206     0.165   \n",
       "50%       0.366     0.568     0.315     2.292     3.720     0.232     0.183   \n",
       "75%       0.489     0.702     0.346     2.529     4.405     0.258     0.198   \n",
       "max       2.516     2.603     0.497     3.758     8.483     0.539     0.317   \n",
       "\n",
       "       pCAMKII_N   pCREB_N    pELK_N  ...     SHH_N     BAD_N    BCL2_N  \\\n",
       "count   1047.000  1047.000  1047.000  ...  1047.000  1047.000  1047.000   \n",
       "mean       3.525     0.213     1.434  ...     0.226     0.158     0.135   \n",
       "std        1.293     0.033     0.471  ...     0.029     0.027     0.024   \n",
       "min        1.344     0.113     0.429  ...     0.156     0.088     0.081   \n",
       "25%        2.448     0.191     1.211  ...     0.206     0.141     0.120   \n",
       "50%        3.327     0.211     1.359  ...     0.223     0.158     0.135   \n",
       "75%        4.432     0.235     1.565  ...     0.241     0.168     0.140   \n",
       "max        7.464     0.306     6.113  ...     0.358     0.282     0.262   \n",
       "\n",
       "          pS6_N   pCFOS_N     SYP_N  H3AcK18_N    EGR1_N  H3MeK4_N    CaNA_N  \n",
       "count  1047.000  1047.000  1047.000   1047.000  1047.000  1047.000  1047.000  \n",
       "mean      0.121     0.131     0.445      0.169     0.183     0.206     1.338  \n",
       "std       0.014     0.023     0.067      0.055     0.037     0.049     0.321  \n",
       "min       0.067     0.085     0.259      0.080     0.106     0.102     0.586  \n",
       "25%       0.110     0.114     0.397      0.134     0.159     0.174     1.076  \n",
       "50%       0.122     0.129     0.447      0.169     0.183     0.206     1.317  \n",
       "75%       0.132     0.143     0.491      0.186     0.196     0.219     1.591  \n",
       "max       0.159     0.257     0.760      0.480     0.361     0.414     2.130  \n",
       "\n",
       "[8 rows x 77 columns]"
      ]
     },
     "execution_count": 415,
     "metadata": {},
     "output_type": "execute_result"
    }
   ],
   "source": [
    "DropNA.describe(include = np.number).round(3)"
   ]
  },
  {
   "cell_type": "markdown",
   "id": "38adeee5",
   "metadata": {},
   "source": [
    "Here I am going to delete ID column since it doesnt have any information for my purpose"
   ]
  },
  {
   "cell_type": "code",
   "execution_count": 416,
   "id": "f8174edf",
   "metadata": {},
   "outputs": [
    {
     "data": {
      "text/plain": [
       "(1047, 81)"
      ]
     },
     "execution_count": 416,
     "metadata": {},
     "output_type": "execute_result"
    }
   ],
   "source": [
    "PreparedData = DropNA.drop(['MouseID'], axis = 1)\n",
    "PreparedData.shape"
   ]
  },
  {
   "cell_type": "markdown",
   "id": "74d30903",
   "metadata": {},
   "source": [
    "Here I have removed the Mouse ID column"
   ]
  },
  {
   "cell_type": "markdown",
   "id": "41d9d562",
   "metadata": {},
   "source": [
    "Here I have the list of uniques values"
   ]
  },
  {
   "cell_type": "code",
   "execution_count": 417,
   "id": "2a25bf67",
   "metadata": {},
   "outputs": [],
   "source": [
    "UniqueValuesList = PreparedData.columns[PreparedData.dtypes==object].tolist()"
   ]
  },
  {
   "cell_type": "code",
   "execution_count": 418,
   "id": "ca420ef7",
   "metadata": {},
   "outputs": [
    {
     "data": {
      "text/plain": [
       "['Genotype', 'Treatment', 'Behavior', 'class']"
      ]
     },
     "execution_count": 418,
     "metadata": {},
     "output_type": "execute_result"
    }
   ],
   "source": [
    "UniqueValuesList"
   ]
  },
  {
   "cell_type": "markdown",
   "id": "ae6cdce8",
   "metadata": {},
   "source": [
    "Here i am going to see the uniques value of Genotype"
   ]
  },
  {
   "cell_type": "code",
   "execution_count": 419,
   "id": "20448c84",
   "metadata": {},
   "outputs": [],
   "source": [
    "UniqueValuesList1=PreparedData['Genotype'].value_counts()"
   ]
  },
  {
   "cell_type": "code",
   "execution_count": 420,
   "id": "24ffe86c",
   "metadata": {},
   "outputs": [
    {
     "name": "stdout",
     "output_type": "stream",
     "text": [
      "The unique values of Genotype is: Control    540\n",
      "Ts65Dn     507\n",
      "Name: Genotype, dtype: int64\n"
     ]
    }
   ],
   "source": [
    "print('The unique values of', 'Genotype', 'is:',UniqueValuesList1)"
   ]
  },
  {
   "cell_type": "markdown",
   "id": "00e0bd17",
   "metadata": {},
   "source": [
    "Doing the same with tretment"
   ]
  },
  {
   "cell_type": "code",
   "execution_count": 421,
   "id": "e357883c",
   "metadata": {},
   "outputs": [],
   "source": [
    "UniqueValuesList2=PreparedData['Treatment'].value_counts()"
   ]
  },
  {
   "cell_type": "code",
   "execution_count": 422,
   "id": "19e79306",
   "metadata": {},
   "outputs": [
    {
     "name": "stdout",
     "output_type": "stream",
     "text": [
      "The unique values and numbers of Treatment is: Memantine    570\n",
      "Saline       477\n",
      "Name: Treatment, dtype: int64\n"
     ]
    }
   ],
   "source": [
    "print('The unique values and numbers of', 'Treatment', 'is:',UniqueValuesList2)"
   ]
  },
  {
   "cell_type": "markdown",
   "id": "ba341d3e",
   "metadata": {},
   "source": [
    "and the same again with Behavior"
   ]
  },
  {
   "cell_type": "code",
   "execution_count": 423,
   "id": "9d8bcb83",
   "metadata": {},
   "outputs": [],
   "source": [
    "UniqueValuesList3=PreparedData['Behavior'].value_counts()"
   ]
  },
  {
   "cell_type": "code",
   "execution_count": 424,
   "id": "6c9ccb82",
   "metadata": {},
   "outputs": [
    {
     "name": "stdout",
     "output_type": "stream",
     "text": [
      "The unique values and numbers of Behavior is: S/C    537\n",
      "C/S    510\n",
      "Name: Behavior, dtype: int64\n"
     ]
    }
   ],
   "source": [
    "print('The unique values and numbers of', 'Behavior', 'is:',UniqueValuesList3)"
   ]
  },
  {
   "cell_type": "markdown",
   "id": "b3678eee",
   "metadata": {},
   "source": [
    "And also with Class"
   ]
  },
  {
   "cell_type": "code",
   "execution_count": 425,
   "id": "faf7013c",
   "metadata": {},
   "outputs": [],
   "source": [
    "UniqueValuesList4=PreparedData['class'].value_counts()"
   ]
  },
  {
   "cell_type": "code",
   "execution_count": 426,
   "id": "b0b8fc18",
   "metadata": {},
   "outputs": [
    {
     "name": "stdout",
     "output_type": "stream",
     "text": [
      "The unique values and numbers of class is: c-CS-m    150\n",
      "c-SC-m    150\n",
      "t-CS-m    135\n",
      "t-SC-m    135\n",
      "t-SC-s    132\n",
      "c-CS-s    120\n",
      "c-SC-s    120\n",
      "t-CS-s    105\n",
      "Name: class, dtype: int64\n"
     ]
    }
   ],
   "source": [
    "print('The unique values and numbers of', 'class', 'is:',UniqueValuesList4)"
   ]
  },
  {
   "cell_type": "markdown",
   "id": "c060e39a",
   "metadata": {},
   "source": [
    "It seems I have duplicated values here because I already had the information about the Genotype, Treatment and Behavior so I am going to Drop them."
   ]
  },
  {
   "cell_type": "code",
   "execution_count": 427,
   "id": "14cfeeed",
   "metadata": {},
   "outputs": [],
   "source": [
    "DataFinal = PreparedData.drop(['Genotype', 'Treatment', 'Behavior'], axis = 1)"
   ]
  },
  {
   "cell_type": "code",
   "execution_count": 428,
   "id": "0de2ffbd",
   "metadata": {},
   "outputs": [
    {
     "data": {
      "text/plain": [
       "(1047, 78)"
      ]
     },
     "execution_count": 428,
     "metadata": {},
     "output_type": "execute_result"
    }
   ],
   "source": [
    "DataFinal.shape"
   ]
  },
  {
   "cell_type": "code",
   "execution_count": 429,
   "id": "a45a4c15",
   "metadata": {},
   "outputs": [
    {
     "data": {
      "text/html": [
       "<div>\n",
       "<style scoped>\n",
       "    .dataframe tbody tr th:only-of-type {\n",
       "        vertical-align: middle;\n",
       "    }\n",
       "\n",
       "    .dataframe tbody tr th {\n",
       "        vertical-align: top;\n",
       "    }\n",
       "\n",
       "    .dataframe thead th {\n",
       "        text-align: right;\n",
       "    }\n",
       "</style>\n",
       "<table border=\"1\" class=\"dataframe\">\n",
       "  <thead>\n",
       "    <tr style=\"text-align: right;\">\n",
       "      <th></th>\n",
       "      <th>DYRK1A_N</th>\n",
       "      <th>ITSN1_N</th>\n",
       "      <th>BDNF_N</th>\n",
       "      <th>NR1_N</th>\n",
       "      <th>NR2A_N</th>\n",
       "      <th>pAKT_N</th>\n",
       "      <th>pBRAF_N</th>\n",
       "      <th>pCAMKII_N</th>\n",
       "      <th>pCREB_N</th>\n",
       "      <th>pELK_N</th>\n",
       "      <th>...</th>\n",
       "      <th>BAD_N</th>\n",
       "      <th>BCL2_N</th>\n",
       "      <th>pS6_N</th>\n",
       "      <th>pCFOS_N</th>\n",
       "      <th>SYP_N</th>\n",
       "      <th>H3AcK18_N</th>\n",
       "      <th>EGR1_N</th>\n",
       "      <th>H3MeK4_N</th>\n",
       "      <th>CaNA_N</th>\n",
       "      <th>class</th>\n",
       "    </tr>\n",
       "  </thead>\n",
       "  <tbody>\n",
       "    <tr>\n",
       "      <th>0</th>\n",
       "      <td>0.503644</td>\n",
       "      <td>0.747193</td>\n",
       "      <td>0.430175</td>\n",
       "      <td>2.816329</td>\n",
       "      <td>5.990152</td>\n",
       "      <td>0.218830</td>\n",
       "      <td>0.177565</td>\n",
       "      <td>2.373744</td>\n",
       "      <td>0.232224</td>\n",
       "      <td>1.750936</td>\n",
       "      <td>...</td>\n",
       "      <td>0.122652</td>\n",
       "      <td>0.13486</td>\n",
       "      <td>0.106305</td>\n",
       "      <td>0.108336</td>\n",
       "      <td>0.427099</td>\n",
       "      <td>0.114783</td>\n",
       "      <td>0.131790</td>\n",
       "      <td>0.128186</td>\n",
       "      <td>1.675652</td>\n",
       "      <td>c-CS-m</td>\n",
       "    </tr>\n",
       "    <tr>\n",
       "      <th>1</th>\n",
       "      <td>0.514617</td>\n",
       "      <td>0.689064</td>\n",
       "      <td>0.411770</td>\n",
       "      <td>2.789514</td>\n",
       "      <td>5.685038</td>\n",
       "      <td>0.211636</td>\n",
       "      <td>0.172817</td>\n",
       "      <td>2.292150</td>\n",
       "      <td>0.226972</td>\n",
       "      <td>1.596377</td>\n",
       "      <td>...</td>\n",
       "      <td>0.116682</td>\n",
       "      <td>0.13486</td>\n",
       "      <td>0.106592</td>\n",
       "      <td>0.104315</td>\n",
       "      <td>0.441581</td>\n",
       "      <td>0.111974</td>\n",
       "      <td>0.135103</td>\n",
       "      <td>0.131119</td>\n",
       "      <td>1.743610</td>\n",
       "      <td>c-CS-m</td>\n",
       "    </tr>\n",
       "    <tr>\n",
       "      <th>2</th>\n",
       "      <td>0.509183</td>\n",
       "      <td>0.730247</td>\n",
       "      <td>0.418309</td>\n",
       "      <td>2.687201</td>\n",
       "      <td>5.622059</td>\n",
       "      <td>0.209011</td>\n",
       "      <td>0.175722</td>\n",
       "      <td>2.283337</td>\n",
       "      <td>0.230247</td>\n",
       "      <td>1.561316</td>\n",
       "      <td>...</td>\n",
       "      <td>0.118508</td>\n",
       "      <td>0.13486</td>\n",
       "      <td>0.108303</td>\n",
       "      <td>0.106219</td>\n",
       "      <td>0.435777</td>\n",
       "      <td>0.111883</td>\n",
       "      <td>0.133362</td>\n",
       "      <td>0.127431</td>\n",
       "      <td>1.926427</td>\n",
       "      <td>c-CS-m</td>\n",
       "    </tr>\n",
       "    <tr>\n",
       "      <th>3</th>\n",
       "      <td>0.442107</td>\n",
       "      <td>0.617076</td>\n",
       "      <td>0.358626</td>\n",
       "      <td>2.466947</td>\n",
       "      <td>4.979503</td>\n",
       "      <td>0.222886</td>\n",
       "      <td>0.176463</td>\n",
       "      <td>2.152301</td>\n",
       "      <td>0.207004</td>\n",
       "      <td>1.595086</td>\n",
       "      <td>...</td>\n",
       "      <td>0.132781</td>\n",
       "      <td>0.13486</td>\n",
       "      <td>0.103184</td>\n",
       "      <td>0.111262</td>\n",
       "      <td>0.391691</td>\n",
       "      <td>0.130405</td>\n",
       "      <td>0.147444</td>\n",
       "      <td>0.146901</td>\n",
       "      <td>1.700563</td>\n",
       "      <td>c-CS-m</td>\n",
       "    </tr>\n",
       "    <tr>\n",
       "      <th>4</th>\n",
       "      <td>0.434940</td>\n",
       "      <td>0.617430</td>\n",
       "      <td>0.358802</td>\n",
       "      <td>2.365785</td>\n",
       "      <td>4.718679</td>\n",
       "      <td>0.213106</td>\n",
       "      <td>0.173627</td>\n",
       "      <td>2.134014</td>\n",
       "      <td>0.192158</td>\n",
       "      <td>1.504230</td>\n",
       "      <td>...</td>\n",
       "      <td>0.129954</td>\n",
       "      <td>0.13486</td>\n",
       "      <td>0.104784</td>\n",
       "      <td>0.110694</td>\n",
       "      <td>0.434154</td>\n",
       "      <td>0.118481</td>\n",
       "      <td>0.140314</td>\n",
       "      <td>0.148380</td>\n",
       "      <td>1.839730</td>\n",
       "      <td>c-CS-m</td>\n",
       "    </tr>\n",
       "  </tbody>\n",
       "</table>\n",
       "<p>5 rows × 78 columns</p>\n",
       "</div>"
      ],
      "text/plain": [
       "   DYRK1A_N   ITSN1_N    BDNF_N     NR1_N    NR2A_N    pAKT_N   pBRAF_N  \\\n",
       "0  0.503644  0.747193  0.430175  2.816329  5.990152  0.218830  0.177565   \n",
       "1  0.514617  0.689064  0.411770  2.789514  5.685038  0.211636  0.172817   \n",
       "2  0.509183  0.730247  0.418309  2.687201  5.622059  0.209011  0.175722   \n",
       "3  0.442107  0.617076  0.358626  2.466947  4.979503  0.222886  0.176463   \n",
       "4  0.434940  0.617430  0.358802  2.365785  4.718679  0.213106  0.173627   \n",
       "\n",
       "   pCAMKII_N   pCREB_N    pELK_N  ...     BAD_N   BCL2_N     pS6_N   pCFOS_N  \\\n",
       "0   2.373744  0.232224  1.750936  ...  0.122652  0.13486  0.106305  0.108336   \n",
       "1   2.292150  0.226972  1.596377  ...  0.116682  0.13486  0.106592  0.104315   \n",
       "2   2.283337  0.230247  1.561316  ...  0.118508  0.13486  0.108303  0.106219   \n",
       "3   2.152301  0.207004  1.595086  ...  0.132781  0.13486  0.103184  0.111262   \n",
       "4   2.134014  0.192158  1.504230  ...  0.129954  0.13486  0.104784  0.110694   \n",
       "\n",
       "      SYP_N  H3AcK18_N    EGR1_N  H3MeK4_N    CaNA_N   class  \n",
       "0  0.427099   0.114783  0.131790  0.128186  1.675652  c-CS-m  \n",
       "1  0.441581   0.111974  0.135103  0.131119  1.743610  c-CS-m  \n",
       "2  0.435777   0.111883  0.133362  0.127431  1.926427  c-CS-m  \n",
       "3  0.391691   0.130405  0.147444  0.146901  1.700563  c-CS-m  \n",
       "4  0.434154   0.118481  0.140314  0.148380  1.839730  c-CS-m  \n",
       "\n",
       "[5 rows x 78 columns]"
      ]
     },
     "execution_count": 429,
     "metadata": {},
     "output_type": "execute_result"
    }
   ],
   "source": [
    "DataFinal.head()"
   ]
  },
  {
   "cell_type": "markdown",
   "id": "809ac21d",
   "metadata": {},
   "source": [
    "Here I am going to do some plots for better understanding"
   ]
  },
  {
   "cell_type": "code",
   "execution_count": 430,
   "id": "289523c9",
   "metadata": {},
   "outputs": [
    {
     "data": {
      "image/png": "[encoded data removed]",
      "text/plain": [
       "<Figure size 432x288 with 1 Axes>"
      ]
     },
     "metadata": {
      "needs_background": "light"
     },
     "output_type": "display_data"
    }
   ],
   "source": [
    "PreparedData['class'].value_counts().plot(kind='bar')\n",
    "plt.title('The Frequency of different classes')\n",
    "plt.xlabel('Type of the classes')\n",
    "plt.xticks(rotation='horizontal')\n",
    "plt.ylabel('Numbers')\n",
    "plt.show()"
   ]
  },
  {
   "cell_type": "markdown",
   "id": "5a30ae7d",
   "metadata": {},
   "source": [
    "the boxplot for column name 'DYRK1A_N'"
   ]
  },
  {
   "cell_type": "markdown",
   "id": "957a3cba",
   "metadata": {},
   "source": [
    "This Box Plot Distribution of 'DYRK1A_N' depicts that this protein level is quite diagonal. There are some outliers that can be seen in the plot. I dont know exactly if they are true outliers or not, so I will not remove them."
   ]
  },
  {
   "cell_type": "markdown",
   "id": "1bfb28fb",
   "metadata": {},
   "source": [
    "And I will do the same for others"
   ]
  },
  {
   "cell_type": "code",
   "execution_count": 431,
   "id": "8fe98ba3",
   "metadata": {},
   "outputs": [
    {
     "data": {
      "image/png": "[encoded data removed]",
      "text/plain": [
       "<Figure size 432x288 with 1 Axes>"
      ]
     },
     "metadata": {
      "needs_background": "light"
     },
     "output_type": "display_data"
    }
   ],
   "source": [
    "PreparedData.boxplot(column = 'DYRK1A_N')\n",
    "plt.title(\"The distribution of 'DYRK1A_N' column values\")\n",
    "plt.ylabel('the level')\n",
    "plt.show()"
   ]
  },
  {
   "cell_type": "markdown",
   "id": "9b6e738b",
   "metadata": {},
   "source": [
    "I will also do the same for other columns as well"
   ]
  },
  {
   "cell_type": "code",
   "execution_count": 432,
   "id": "ad405592",
   "metadata": {},
   "outputs": [
    {
     "data": {
      "image/png": "[encoded data removed]",
      "text/plain": [
       "<Figure size 432x288 with 1 Axes>"
      ]
     },
     "metadata": {
      "needs_background": "light"
     },
     "output_type": "display_data"
    }
   ],
   "source": [
    "PreparedData.boxplot(column = 'ITSN1_N')\n",
    "plt.title(\"The distribution of 'ITSN1_N' column values\")\n",
    "plt.ylabel('the level')\n",
    "plt.show()"
   ]
  },
  {
   "cell_type": "code",
   "execution_count": 433,
   "id": "448b4c0a",
   "metadata": {},
   "outputs": [
    {
     "data": {
      "image/png": "[encoded data removed]",
      "text/plain": [
       "<Figure size 432x288 with 1 Axes>"
      ]
     },
     "metadata": {
      "needs_background": "light"
     },
     "output_type": "display_data"
    }
   ],
   "source": [
    "PreparedData.boxplot(column = 'BDNF_N')\n",
    "plt.title(\"The distribution of 'BDNF_N' column values\")\n",
    "plt.ylabel('the level')\n",
    "plt.show()"
   ]
  },
  {
   "cell_type": "code",
   "execution_count": 434,
   "id": "c936f2cf",
   "metadata": {},
   "outputs": [
    {
     "data": {
      "image/png": "[encoded data removed]",
      "text/plain": [
       "<Figure size 432x288 with 1 Axes>"
      ]
     },
     "metadata": {
      "needs_background": "light"
     },
     "output_type": "display_data"
    }
   ],
   "source": [
    "PreparedData.boxplot(column = 'NR1_N')\n",
    "plt.title(\"The distribution of 'NR1_N' column values\")\n",
    "plt.ylabel('the level')\n",
    "plt.show()"
   ]
  },
  {
   "cell_type": "code",
   "execution_count": 435,
   "id": "04fe1281",
   "metadata": {},
   "outputs": [
    {
     "data": {
      "image/png": "[encoded data removed]",
      "text/plain": [
       "<Figure size 432x288 with 1 Axes>"
      ]
     },
     "metadata": {
      "needs_background": "light"
     },
     "output_type": "display_data"
    }
   ],
   "source": [
    "PreparedData.boxplot(column = 'NR2A_N')\n",
    "plt.title(\"The distribution of 'NR2A_N' column values\")\n",
    "plt.ylabel('the level')\n",
    "plt.show()"
   ]
  },
  {
   "cell_type": "code",
   "execution_count": 436,
   "id": "4adcad04",
   "metadata": {},
   "outputs": [
    {
     "data": {
      "image/png": "[encoded data removed]",
      "text/plain": [
       "<Figure size 432x288 with 1 Axes>"
      ]
     },
     "metadata": {
      "needs_background": "light"
     },
     "output_type": "display_data"
    }
   ],
   "source": [
    "PreparedData.boxplot(column = 'pAKT_N')\n",
    "plt.title(\"The distribution of 'pAKT_N' column values\")\n",
    "plt.ylabel('the level')\n",
    "plt.show()"
   ]
  },
  {
   "cell_type": "code",
   "execution_count": 437,
   "id": "8001eea8",
   "metadata": {},
   "outputs": [
    {
     "data": {
      "image/png": "[encoded data removed]",
      "text/plain": [
       "<Figure size 432x288 with 1 Axes>"
      ]
     },
     "metadata": {
      "needs_background": "light"
     },
     "output_type": "display_data"
    }
   ],
   "source": [
    "PreparedData.boxplot(column = 'pERK_N')\n",
    "plt.title(\"The distribution of 'pERK_N' column values\")\n",
    "plt.ylabel('the level')\n",
    "plt.show()"
   ]
  },
  {
   "cell_type": "code",
   "execution_count": 438,
   "id": "d217def2",
   "metadata": {},
   "outputs": [
    {
     "data": {
      "image/png": "[encoded data removed]",
      "text/plain": [
       "<Figure size 432x288 with 1 Axes>"
      ]
     },
     "metadata": {
      "needs_background": "light"
     },
     "output_type": "display_data"
    }
   ],
   "source": [
    "PreparedData.boxplot(column = 'pJNK_N')\n",
    "plt.title(\"The distribution of 'pJNK_N' column values\")\n",
    "plt.ylabel('the level')\n",
    "plt.show()"
   ]
  },
  {
   "cell_type": "code",
   "execution_count": 439,
   "id": "57678b5e",
   "metadata": {},
   "outputs": [
    {
     "data": {
      "image/png": "[encoded data removed]",
      "text/plain": [
       "<Figure size 432x288 with 1 Axes>"
      ]
     },
     "metadata": {
      "needs_background": "light"
     },
     "output_type": "display_data"
    }
   ],
   "source": [
    "PreparedData.boxplot(column = 'PKCA_N')\n",
    "plt.title(\"The distribution of 'PKCA_N' column values\")\n",
    "plt.ylabel('the level')\n",
    "plt.show()"
   ]
  },
  {
   "cell_type": "markdown",
   "id": "943ada14",
   "metadata": {},
   "source": [
    "Droping some descriptive features in this step and because class is my target feature so I will keep it in the other container"
   ]
  },
  {
   "cell_type": "code",
   "execution_count": 440,
   "id": "16ecb7b7",
   "metadata": {},
   "outputs": [],
   "source": [
    "Data2 = DataFinal.drop(columns = 'class')"
   ]
  },
  {
   "cell_type": "code",
   "execution_count": 441,
   "id": "1541e7d5",
   "metadata": {},
   "outputs": [
    {
     "data": {
      "text/html": [
       "<div>\n",
       "<style scoped>\n",
       "    .dataframe tbody tr th:only-of-type {\n",
       "        vertical-align: middle;\n",
       "    }\n",
       "\n",
       "    .dataframe tbody tr th {\n",
       "        vertical-align: top;\n",
       "    }\n",
       "\n",
       "    .dataframe thead th {\n",
       "        text-align: right;\n",
       "    }\n",
       "</style>\n",
       "<table border=\"1\" class=\"dataframe\">\n",
       "  <thead>\n",
       "    <tr style=\"text-align: right;\">\n",
       "      <th></th>\n",
       "      <th>DYRK1A_N</th>\n",
       "      <th>ITSN1_N</th>\n",
       "      <th>BDNF_N</th>\n",
       "      <th>NR1_N</th>\n",
       "      <th>NR2A_N</th>\n",
       "      <th>pAKT_N</th>\n",
       "      <th>pBRAF_N</th>\n",
       "      <th>pCAMKII_N</th>\n",
       "      <th>pCREB_N</th>\n",
       "      <th>pELK_N</th>\n",
       "      <th>...</th>\n",
       "      <th>SHH_N</th>\n",
       "      <th>BAD_N</th>\n",
       "      <th>BCL2_N</th>\n",
       "      <th>pS6_N</th>\n",
       "      <th>pCFOS_N</th>\n",
       "      <th>SYP_N</th>\n",
       "      <th>H3AcK18_N</th>\n",
       "      <th>EGR1_N</th>\n",
       "      <th>H3MeK4_N</th>\n",
       "      <th>CaNA_N</th>\n",
       "    </tr>\n",
       "  </thead>\n",
       "  <tbody>\n",
       "    <tr>\n",
       "      <th>0</th>\n",
       "      <td>0.503644</td>\n",
       "      <td>0.747193</td>\n",
       "      <td>0.430175</td>\n",
       "      <td>2.816329</td>\n",
       "      <td>5.990152</td>\n",
       "      <td>0.218830</td>\n",
       "      <td>0.177565</td>\n",
       "      <td>2.373744</td>\n",
       "      <td>0.232224</td>\n",
       "      <td>1.750936</td>\n",
       "      <td>...</td>\n",
       "      <td>0.188852</td>\n",
       "      <td>0.122652</td>\n",
       "      <td>0.13486</td>\n",
       "      <td>0.106305</td>\n",
       "      <td>0.108336</td>\n",
       "      <td>0.427099</td>\n",
       "      <td>0.114783</td>\n",
       "      <td>0.131790</td>\n",
       "      <td>0.128186</td>\n",
       "      <td>1.675652</td>\n",
       "    </tr>\n",
       "    <tr>\n",
       "      <th>1</th>\n",
       "      <td>0.514617</td>\n",
       "      <td>0.689064</td>\n",
       "      <td>0.411770</td>\n",
       "      <td>2.789514</td>\n",
       "      <td>5.685038</td>\n",
       "      <td>0.211636</td>\n",
       "      <td>0.172817</td>\n",
       "      <td>2.292150</td>\n",
       "      <td>0.226972</td>\n",
       "      <td>1.596377</td>\n",
       "      <td>...</td>\n",
       "      <td>0.200404</td>\n",
       "      <td>0.116682</td>\n",
       "      <td>0.13486</td>\n",
       "      <td>0.106592</td>\n",
       "      <td>0.104315</td>\n",
       "      <td>0.441581</td>\n",
       "      <td>0.111974</td>\n",
       "      <td>0.135103</td>\n",
       "      <td>0.131119</td>\n",
       "      <td>1.743610</td>\n",
       "    </tr>\n",
       "    <tr>\n",
       "      <th>2</th>\n",
       "      <td>0.509183</td>\n",
       "      <td>0.730247</td>\n",
       "      <td>0.418309</td>\n",
       "      <td>2.687201</td>\n",
       "      <td>5.622059</td>\n",
       "      <td>0.209011</td>\n",
       "      <td>0.175722</td>\n",
       "      <td>2.283337</td>\n",
       "      <td>0.230247</td>\n",
       "      <td>1.561316</td>\n",
       "      <td>...</td>\n",
       "      <td>0.193685</td>\n",
       "      <td>0.118508</td>\n",
       "      <td>0.13486</td>\n",
       "      <td>0.108303</td>\n",
       "      <td>0.106219</td>\n",
       "      <td>0.435777</td>\n",
       "      <td>0.111883</td>\n",
       "      <td>0.133362</td>\n",
       "      <td>0.127431</td>\n",
       "      <td>1.926427</td>\n",
       "    </tr>\n",
       "    <tr>\n",
       "      <th>3</th>\n",
       "      <td>0.442107</td>\n",
       "      <td>0.617076</td>\n",
       "      <td>0.358626</td>\n",
       "      <td>2.466947</td>\n",
       "      <td>4.979503</td>\n",
       "      <td>0.222886</td>\n",
       "      <td>0.176463</td>\n",
       "      <td>2.152301</td>\n",
       "      <td>0.207004</td>\n",
       "      <td>1.595086</td>\n",
       "      <td>...</td>\n",
       "      <td>0.192112</td>\n",
       "      <td>0.132781</td>\n",
       "      <td>0.13486</td>\n",
       "      <td>0.103184</td>\n",
       "      <td>0.111262</td>\n",
       "      <td>0.391691</td>\n",
       "      <td>0.130405</td>\n",
       "      <td>0.147444</td>\n",
       "      <td>0.146901</td>\n",
       "      <td>1.700563</td>\n",
       "    </tr>\n",
       "    <tr>\n",
       "      <th>4</th>\n",
       "      <td>0.434940</td>\n",
       "      <td>0.617430</td>\n",
       "      <td>0.358802</td>\n",
       "      <td>2.365785</td>\n",
       "      <td>4.718679</td>\n",
       "      <td>0.213106</td>\n",
       "      <td>0.173627</td>\n",
       "      <td>2.134014</td>\n",
       "      <td>0.192158</td>\n",
       "      <td>1.504230</td>\n",
       "      <td>...</td>\n",
       "      <td>0.205604</td>\n",
       "      <td>0.129954</td>\n",
       "      <td>0.13486</td>\n",
       "      <td>0.104784</td>\n",
       "      <td>0.110694</td>\n",
       "      <td>0.434154</td>\n",
       "      <td>0.118481</td>\n",
       "      <td>0.140314</td>\n",
       "      <td>0.148380</td>\n",
       "      <td>1.839730</td>\n",
       "    </tr>\n",
       "    <tr>\n",
       "      <th>...</th>\n",
       "      <td>...</td>\n",
       "      <td>...</td>\n",
       "      <td>...</td>\n",
       "      <td>...</td>\n",
       "      <td>...</td>\n",
       "      <td>...</td>\n",
       "      <td>...</td>\n",
       "      <td>...</td>\n",
       "      <td>...</td>\n",
       "      <td>...</td>\n",
       "      <td>...</td>\n",
       "      <td>...</td>\n",
       "      <td>...</td>\n",
       "      <td>...</td>\n",
       "      <td>...</td>\n",
       "      <td>...</td>\n",
       "      <td>...</td>\n",
       "      <td>...</td>\n",
       "      <td>...</td>\n",
       "      <td>...</td>\n",
       "      <td>...</td>\n",
       "    </tr>\n",
       "    <tr>\n",
       "      <th>1075</th>\n",
       "      <td>0.254860</td>\n",
       "      <td>0.463591</td>\n",
       "      <td>0.254860</td>\n",
       "      <td>2.092082</td>\n",
       "      <td>2.600035</td>\n",
       "      <td>0.211736</td>\n",
       "      <td>0.171262</td>\n",
       "      <td>2.483740</td>\n",
       "      <td>0.207317</td>\n",
       "      <td>1.057971</td>\n",
       "      <td>...</td>\n",
       "      <td>0.275547</td>\n",
       "      <td>0.190483</td>\n",
       "      <td>0.13486</td>\n",
       "      <td>0.115806</td>\n",
       "      <td>0.183324</td>\n",
       "      <td>0.374088</td>\n",
       "      <td>0.318782</td>\n",
       "      <td>0.204660</td>\n",
       "      <td>0.328327</td>\n",
       "      <td>1.364823</td>\n",
       "    </tr>\n",
       "    <tr>\n",
       "      <th>1076</th>\n",
       "      <td>0.272198</td>\n",
       "      <td>0.474163</td>\n",
       "      <td>0.251638</td>\n",
       "      <td>2.161390</td>\n",
       "      <td>2.801492</td>\n",
       "      <td>0.251274</td>\n",
       "      <td>0.182496</td>\n",
       "      <td>2.512737</td>\n",
       "      <td>0.216339</td>\n",
       "      <td>1.081150</td>\n",
       "      <td>...</td>\n",
       "      <td>0.283207</td>\n",
       "      <td>0.190463</td>\n",
       "      <td>0.13486</td>\n",
       "      <td>0.113614</td>\n",
       "      <td>0.175674</td>\n",
       "      <td>0.375259</td>\n",
       "      <td>0.325639</td>\n",
       "      <td>0.200415</td>\n",
       "      <td>0.293435</td>\n",
       "      <td>1.364478</td>\n",
       "    </tr>\n",
       "    <tr>\n",
       "      <th>1077</th>\n",
       "      <td>0.228700</td>\n",
       "      <td>0.395179</td>\n",
       "      <td>0.234118</td>\n",
       "      <td>1.733184</td>\n",
       "      <td>2.220852</td>\n",
       "      <td>0.220665</td>\n",
       "      <td>0.161435</td>\n",
       "      <td>1.989723</td>\n",
       "      <td>0.185164</td>\n",
       "      <td>0.884342</td>\n",
       "      <td>...</td>\n",
       "      <td>0.290843</td>\n",
       "      <td>0.216682</td>\n",
       "      <td>0.13486</td>\n",
       "      <td>0.118948</td>\n",
       "      <td>0.158296</td>\n",
       "      <td>0.422121</td>\n",
       "      <td>0.321306</td>\n",
       "      <td>0.229193</td>\n",
       "      <td>0.355213</td>\n",
       "      <td>1.430825</td>\n",
       "    </tr>\n",
       "    <tr>\n",
       "      <th>1078</th>\n",
       "      <td>0.221242</td>\n",
       "      <td>0.412894</td>\n",
       "      <td>0.243974</td>\n",
       "      <td>1.876347</td>\n",
       "      <td>2.384088</td>\n",
       "      <td>0.208897</td>\n",
       "      <td>0.173623</td>\n",
       "      <td>2.086028</td>\n",
       "      <td>0.192044</td>\n",
       "      <td>0.922595</td>\n",
       "      <td>...</td>\n",
       "      <td>0.306701</td>\n",
       "      <td>0.222263</td>\n",
       "      <td>0.13486</td>\n",
       "      <td>0.125295</td>\n",
       "      <td>0.196296</td>\n",
       "      <td>0.397676</td>\n",
       "      <td>0.335936</td>\n",
       "      <td>0.251317</td>\n",
       "      <td>0.365353</td>\n",
       "      <td>1.404031</td>\n",
       "    </tr>\n",
       "    <tr>\n",
       "      <th>1079</th>\n",
       "      <td>0.302626</td>\n",
       "      <td>0.461059</td>\n",
       "      <td>0.256564</td>\n",
       "      <td>2.092790</td>\n",
       "      <td>2.594348</td>\n",
       "      <td>0.251001</td>\n",
       "      <td>0.191811</td>\n",
       "      <td>2.361816</td>\n",
       "      <td>0.223632</td>\n",
       "      <td>1.064085</td>\n",
       "      <td>...</td>\n",
       "      <td>0.292330</td>\n",
       "      <td>0.227606</td>\n",
       "      <td>0.13486</td>\n",
       "      <td>0.118899</td>\n",
       "      <td>0.187556</td>\n",
       "      <td>0.420347</td>\n",
       "      <td>0.335062</td>\n",
       "      <td>0.252995</td>\n",
       "      <td>0.365278</td>\n",
       "      <td>1.370999</td>\n",
       "    </tr>\n",
       "  </tbody>\n",
       "</table>\n",
       "<p>1047 rows × 77 columns</p>\n",
       "</div>"
      ],
      "text/plain": [
       "      DYRK1A_N   ITSN1_N    BDNF_N     NR1_N    NR2A_N    pAKT_N   pBRAF_N  \\\n",
       "0     0.503644  0.747193  0.430175  2.816329  5.990152  0.218830  0.177565   \n",
       "1     0.514617  0.689064  0.411770  2.789514  5.685038  0.211636  0.172817   \n",
       "2     0.509183  0.730247  0.418309  2.687201  5.622059  0.209011  0.175722   \n",
       "3     0.442107  0.617076  0.358626  2.466947  4.979503  0.222886  0.176463   \n",
       "4     0.434940  0.617430  0.358802  2.365785  4.718679  0.213106  0.173627   \n",
       "...        ...       ...       ...       ...       ...       ...       ...   \n",
       "1075  0.254860  0.463591  0.254860  2.092082  2.600035  0.211736  0.171262   \n",
       "1076  0.272198  0.474163  0.251638  2.161390  2.801492  0.251274  0.182496   \n",
       "1077  0.228700  0.395179  0.234118  1.733184  2.220852  0.220665  0.161435   \n",
       "1078  0.221242  0.412894  0.243974  1.876347  2.384088  0.208897  0.173623   \n",
       "1079  0.302626  0.461059  0.256564  2.092790  2.594348  0.251001  0.191811   \n",
       "\n",
       "      pCAMKII_N   pCREB_N    pELK_N  ...     SHH_N     BAD_N   BCL2_N  \\\n",
       "0      2.373744  0.232224  1.750936  ...  0.188852  0.122652  0.13486   \n",
       "1      2.292150  0.226972  1.596377  ...  0.200404  0.116682  0.13486   \n",
       "2      2.283337  0.230247  1.561316  ...  0.193685  0.118508  0.13486   \n",
       "3      2.152301  0.207004  1.595086  ...  0.192112  0.132781  0.13486   \n",
       "4      2.134014  0.192158  1.504230  ...  0.205604  0.129954  0.13486   \n",
       "...         ...       ...       ...  ...       ...       ...      ...   \n",
       "1075   2.483740  0.207317  1.057971  ...  0.275547  0.190483  0.13486   \n",
       "1076   2.512737  0.216339  1.081150  ...  0.283207  0.190463  0.13486   \n",
       "1077   1.989723  0.185164  0.884342  ...  0.290843  0.216682  0.13486   \n",
       "1078   2.086028  0.192044  0.922595  ...  0.306701  0.222263  0.13486   \n",
       "1079   2.361816  0.223632  1.064085  ...  0.292330  0.227606  0.13486   \n",
       "\n",
       "         pS6_N   pCFOS_N     SYP_N  H3AcK18_N    EGR1_N  H3MeK4_N    CaNA_N  \n",
       "0     0.106305  0.108336  0.427099   0.114783  0.131790  0.128186  1.675652  \n",
       "1     0.106592  0.104315  0.441581   0.111974  0.135103  0.131119  1.743610  \n",
       "2     0.108303  0.106219  0.435777   0.111883  0.133362  0.127431  1.926427  \n",
       "3     0.103184  0.111262  0.391691   0.130405  0.147444  0.146901  1.700563  \n",
       "4     0.104784  0.110694  0.434154   0.118481  0.140314  0.148380  1.839730  \n",
       "...        ...       ...       ...        ...       ...       ...       ...  \n",
       "1075  0.115806  0.183324  0.374088   0.318782  0.204660  0.328327  1.364823  \n",
       "1076  0.113614  0.175674  0.375259   0.325639  0.200415  0.293435  1.364478  \n",
       "1077  0.118948  0.158296  0.422121   0.321306  0.229193  0.355213  1.430825  \n",
       "1078  0.125295  0.196296  0.397676   0.335936  0.251317  0.365353  1.404031  \n",
       "1079  0.118899  0.187556  0.420347   0.335062  0.252995  0.365278  1.370999  \n",
       "\n",
       "[1047 rows x 77 columns]"
      ]
     },
     "execution_count": 441,
     "metadata": {},
     "output_type": "execute_result"
    }
   ],
   "source": [
    "Data2"
   ]
  },
  {
   "cell_type": "markdown",
   "id": "e6ec7ad7",
   "metadata": {},
   "source": [
    "target feature"
   ]
  },
  {
   "cell_type": "code",
   "execution_count": 442,
   "id": "84244104",
   "metadata": {},
   "outputs": [],
   "source": [
    "tag = DataFinal['class']"
   ]
  },
  {
   "cell_type": "code",
   "execution_count": 443,
   "id": "adf69a96",
   "metadata": {},
   "outputs": [
    {
     "data": {
      "text/plain": [
       "(1047,)"
      ]
     },
     "execution_count": 443,
     "metadata": {},
     "output_type": "execute_result"
    }
   ],
   "source": [
    "tag.shape"
   ]
  },
  {
   "cell_type": "markdown",
   "id": "88d1adfd",
   "metadata": {},
   "source": [
    "Here I am checking the uniqueness of values in this feature"
   ]
  },
  {
   "cell_type": "code",
   "execution_count": 444,
   "id": "4b1c2346",
   "metadata": {},
   "outputs": [
    {
     "data": {
      "text/plain": [
       "c-CS-m    150\n",
       "c-SC-m    150\n",
       "t-CS-m    135\n",
       "t-SC-m    135\n",
       "t-SC-s    132\n",
       "c-CS-s    120\n",
       "c-SC-s    120\n",
       "t-CS-s    105\n",
       "Name: class, dtype: int64"
      ]
     },
     "execution_count": 444,
     "metadata": {},
     "output_type": "execute_result"
    }
   ],
   "source": [
    "tag_names = DataFinal['class'].unique()\n",
    "tag.value_counts()"
   ]
  },
  {
   "cell_type": "markdown",
   "id": "fa0f1492",
   "metadata": {},
   "source": [
    "and then replacing the target feature by some numerical values "
   ]
  },
  {
   "cell_type": "code",
   "execution_count": 445,
   "id": "1184779b",
   "metadata": {},
   "outputs": [
    {
     "data": {
      "text/plain": [
       "1    150\n",
       "0    150\n",
       "3    135\n",
       "2    135\n",
       "4    132\n",
       "6    120\n",
       "5    120\n",
       "7    105\n",
       "Name: class, dtype: int64"
      ]
     },
     "execution_count": 445,
     "metadata": {},
     "output_type": "execute_result"
    }
   ],
   "source": [
    "tag = tag.replace({'c-SC-m': 0, 'c-CS-m':1, 't-SC-m':2, 't-CS-m':3, 't-SC-s':4, 'c-SC-s':5, 'c-CS-s':6, 't-CS-s':7})\n",
    "tag.value_counts()"
   ]
  },
  {
   "cell_type": "code",
   "execution_count": 446,
   "id": "e1bd3206",
   "metadata": {},
   "outputs": [
    {
     "data": {
      "text/plain": [
       "(1047, 78)"
      ]
     },
     "execution_count": 446,
     "metadata": {},
     "output_type": "execute_result"
    }
   ],
   "source": [
    "DataFinal.shape"
   ]
  },
  {
   "cell_type": "markdown",
   "id": "32224708",
   "metadata": {},
   "source": [
    "# Decision Tree"
   ]
  },
  {
   "cell_type": "markdown",
   "id": "6751d7f4",
   "metadata": {},
   "source": [
    "Creating the Decision Tree classifier"
   ]
  },
  {
   "cell_type": "markdown",
   "id": "fea12345",
   "metadata": {},
   "source": [
    "Importing related libraries"
   ]
  },
  {
   "cell_type": "code",
   "execution_count": 447,
   "id": "97d5f567",
   "metadata": {},
   "outputs": [],
   "source": [
    "from sklearn.tree import DecisionTreeClassifier"
   ]
  },
  {
   "cell_type": "code",
   "execution_count": 448,
   "id": "fb127f7b",
   "metadata": {},
   "outputs": [],
   "source": [
    "from sklearn.model_selection import train_test_split"
   ]
  },
  {
   "cell_type": "code",
   "execution_count": 449,
   "id": "2555b49f",
   "metadata": {},
   "outputs": [],
   "source": [
    "from sklearn.metrics import confusion_matrix"
   ]
  },
  {
   "cell_type": "code",
   "execution_count": 450,
   "id": "4c8b733e",
   "metadata": {},
   "outputs": [],
   "source": [
    "D_train, D_test, t_train, t_test = train_test_split(Data2,\n",
    "                                                       tag,\n",
    "                                                       test_size = 0.3,\n",
    "                                                       random_state=0)"
   ]
  },
  {
   "cell_type": "code",
   "execution_count": 451,
   "id": "8b6b356c",
   "metadata": {},
   "outputs": [],
   "source": [
    "DT = DecisionTreeClassifier(random_state = 999)"
   ]
  },
  {
   "cell_type": "markdown",
   "id": "5f57455c",
   "metadata": {},
   "source": [
    "Fitting the Decision Tree Classifier"
   ]
  },
  {
   "cell_type": "code",
   "execution_count": 452,
   "id": "dd3a5475",
   "metadata": {},
   "outputs": [],
   "source": [
    "DT_Fit = DT.fit(D_train,t_train)"
   ]
  },
  {
   "cell_type": "markdown",
   "id": "76fa7253",
   "metadata": {},
   "source": [
    "Predicting the response for test dataset"
   ]
  },
  {
   "cell_type": "code",
   "execution_count": 453,
   "id": "a43cd3fb",
   "metadata": {},
   "outputs": [],
   "source": [
    "PredictingTest = DT_Fit.predict(D_test)\n"
   ]
  },
  {
   "cell_type": "code",
   "execution_count": 454,
   "id": "38b0ea65",
   "metadata": {},
   "outputs": [
    {
     "data": {
      "text/plain": [
       "(315,)"
      ]
     },
     "execution_count": 454,
     "metadata": {},
     "output_type": "execute_result"
    }
   ],
   "source": [
    "PredictingTest.shape"
   ]
  },
  {
   "cell_type": "markdown",
   "id": "62d7f9a4",
   "metadata": {},
   "source": [
    "Splitting dataset into training set and test set with 70% training and 30% test"
   ]
  },
  {
   "cell_type": "code",
   "execution_count": 455,
   "id": "0de6e462",
   "metadata": {},
   "outputs": [],
   "source": [
    "ConfusionMatrix_Eval = confusion_matrix(t_test, PredictingTest)"
   ]
  },
  {
   "cell_type": "code",
   "execution_count": 456,
   "id": "a7144216",
   "metadata": {},
   "outputs": [
    {
     "name": "stdout",
     "output_type": "stream",
     "text": [
      "[[31  2  3  2  0  3  0  1]\n",
      " [ 0 36  0  1  0  0  0  1]\n",
      " [ 1  0 41  0  0  2  0  0]\n",
      " [ 0  2  0 26  0  0  4  4]\n",
      " [ 0  0  1  0 40  0  0  0]\n",
      " [ 0  0  2  0  0 42  0  0]\n",
      " [ 0  6  0  3  0  0 25  4]\n",
      " [ 0  2  0  1  0  0  3 26]]\n"
     ]
    }
   ],
   "source": [
    "print(ConfusionMatrix_Eval)"
   ]
  },
  {
   "cell_type": "code",
   "execution_count": 457,
   "id": "b3700e69",
   "metadata": {},
   "outputs": [],
   "source": [
    "from sklearn.metrics import classification_report"
   ]
  },
  {
   "cell_type": "code",
   "execution_count": 458,
   "id": "096bafe5",
   "metadata": {},
   "outputs": [
    {
     "name": "stdout",
     "output_type": "stream",
     "text": [
      "              precision    recall  f1-score   support\n",
      "\n",
      "           0       0.97      0.74      0.84        42\n",
      "           1       0.75      0.95      0.84        38\n",
      "           2       0.87      0.93      0.90        44\n",
      "           3       0.79      0.72      0.75        36\n",
      "           4       1.00      0.98      0.99        41\n",
      "           5       0.89      0.95      0.92        44\n",
      "           6       0.78      0.66      0.71        38\n",
      "           7       0.72      0.81      0.76        32\n",
      "\n",
      "    accuracy                           0.85       315\n",
      "   macro avg       0.85      0.84      0.84       315\n",
      "weighted avg       0.85      0.85      0.85       315\n",
      "\n"
     ]
    }
   ],
   "source": [
    "print(classification_report(t_test, PredictingTest))"
   ]
  },
  {
   "cell_type": "markdown",
   "id": "4259970f",
   "metadata": {},
   "source": [
    "Here I am going to use Entropy to slighlty improve the performance"
   ]
  },
  {
   "cell_type": "code",
   "execution_count": 459,
   "id": "81ab1515",
   "metadata": {},
   "outputs": [],
   "source": [
    "EntrDT = DecisionTreeClassifier(criterion = 'entropy',random_state = 999)"
   ]
  },
  {
   "cell_type": "code",
   "execution_count": 460,
   "id": "f467148f",
   "metadata": {},
   "outputs": [],
   "source": [
    "fitEntro = EntrDT.fit(D_train, t_train)"
   ]
  },
  {
   "cell_type": "code",
   "execution_count": 461,
   "id": "ed3d6634",
   "metadata": {},
   "outputs": [],
   "source": [
    "t_pre = fitEntro.predict(D_test)"
   ]
  },
  {
   "cell_type": "code",
   "execution_count": 462,
   "id": "c071b93a",
   "metadata": {},
   "outputs": [
    {
     "data": {
      "text/plain": [
       "(315,)"
      ]
     },
     "execution_count": 462,
     "metadata": {},
     "output_type": "execute_result"
    }
   ],
   "source": [
    "t_pre.shape"
   ]
  },
  {
   "cell_type": "code",
   "execution_count": 463,
   "id": "ac216ba9",
   "metadata": {},
   "outputs": [
    {
     "name": "stdout",
     "output_type": "stream",
     "text": [
      "[[31  2  3  2  0  3  0  1]\n",
      " [ 0 36  0  1  0  0  0  1]\n",
      " [ 1  0 41  0  0  2  0  0]\n",
      " [ 0  2  0 26  0  0  4  4]\n",
      " [ 0  0  1  0 40  0  0  0]\n",
      " [ 0  0  2  0  0 42  0  0]\n",
      " [ 0  6  0  3  0  0 25  4]\n",
      " [ 0  2  0  1  0  0  3 26]]\n"
     ]
    }
   ],
   "source": [
    "print(ConfusionMatrix_Eval)"
   ]
  },
  {
   "cell_type": "code",
   "execution_count": 464,
   "id": "a581bd4f",
   "metadata": {},
   "outputs": [
    {
     "name": "stdout",
     "output_type": "stream",
     "text": [
      "              precision    recall  f1-score   support\n",
      "\n",
      "           0       0.81      0.71      0.76        42\n",
      "           1       0.76      0.84      0.80        38\n",
      "           2       0.95      0.86      0.90        44\n",
      "           3       0.78      0.86      0.82        36\n",
      "           4       0.98      1.00      0.99        41\n",
      "           5       0.85      0.93      0.89        44\n",
      "           6       0.84      0.84      0.84        38\n",
      "           7       0.79      0.69      0.73        32\n",
      "\n",
      "    accuracy                           0.85       315\n",
      "   macro avg       0.84      0.84      0.84       315\n",
      "weighted avg       0.85      0.85      0.85       315\n",
      "\n"
     ]
    }
   ],
   "source": [
    "print(classification_report(t_test, t_pre))"
   ]
  },
  {
   "cell_type": "code",
   "execution_count": 465,
   "id": "3877aa52",
   "metadata": {},
   "outputs": [
    {
     "name": "stdout",
     "output_type": "stream",
     "text": [
      "10\n"
     ]
    }
   ],
   "source": [
    "print(EntrDT.tree_.max_depth)"
   ]
  },
  {
   "cell_type": "markdown",
   "id": "0205b156",
   "metadata": {},
   "source": [
    "Here we can see the little improvement then I could set the lower max-depth and maybe the result will be better I will not do that since it doesnt make sense here."
   ]
  },
  {
   "cell_type": "markdown",
   "id": "e1b380dd",
   "metadata": {},
   "source": [
    "# Support Vector Machine"
   ]
  },
  {
   "cell_type": "code",
   "execution_count": 466,
   "id": "85f55db5",
   "metadata": {},
   "outputs": [],
   "source": [
    "from sklearn.svm import SVC"
   ]
  },
  {
   "cell_type": "code",
   "execution_count": 467,
   "id": "b14ba08f",
   "metadata": {},
   "outputs": [
    {
     "data": {
      "text/plain": [
       "DYRK1A_N     0\n",
       "ITSN1_N      0\n",
       "BDNF_N       0\n",
       "NR1_N        0\n",
       "NR2A_N       0\n",
       "            ..\n",
       "H3AcK18_N    0\n",
       "EGR1_N       0\n",
       "H3MeK4_N     0\n",
       "CaNA_N       0\n",
       "class        0\n",
       "Length: 78, dtype: int64"
      ]
     },
     "execution_count": 467,
     "metadata": {},
     "output_type": "execute_result"
    }
   ],
   "source": [
    "DataFinal.isnull().sum()"
   ]
  },
  {
   "cell_type": "code",
   "execution_count": 468,
   "id": "0e8bef78",
   "metadata": {},
   "outputs": [
    {
     "data": {
      "text/plain": [
       "c-CS-m    150\n",
       "c-SC-m    150\n",
       "t-CS-m    135\n",
       "t-SC-m    135\n",
       "t-SC-s    132\n",
       "c-CS-s    120\n",
       "c-SC-s    120\n",
       "t-CS-s    105\n",
       "Name: class, dtype: int64"
      ]
     },
     "execution_count": 468,
     "metadata": {},
     "output_type": "execute_result"
    }
   ],
   "source": [
    "DataFinal['class'].value_counts()"
   ]
  },
  {
   "cell_type": "code",
   "execution_count": 469,
   "id": "3b0b1198",
   "metadata": {},
   "outputs": [
    {
     "data": {
      "text/plain": [
       "DYRK1A_N     0\n",
       "ITSN1_N      0\n",
       "BDNF_N       0\n",
       "NR1_N        0\n",
       "NR2A_N       0\n",
       "            ..\n",
       "H3AcK18_N    0\n",
       "EGR1_N       0\n",
       "H3MeK4_N     0\n",
       "CaNA_N       0\n",
       "class        0\n",
       "Length: 78, dtype: int64"
      ]
     },
     "execution_count": 469,
     "metadata": {},
     "output_type": "execute_result"
    }
   ],
   "source": [
    "DataFinal.isnull().sum()"
   ]
  },
  {
   "cell_type": "markdown",
   "id": "d7c97f55",
   "metadata": {},
   "source": [
    "I randomly selected two clasess 't-SC-m' vs 't-CS-s' for SVM"
   ]
  },
  {
   "cell_type": "code",
   "execution_count": 470,
   "id": "6087de56",
   "metadata": {},
   "outputs": [],
   "source": [
    "SampleForSVM = DataFinal[(DataFinal['class'] == 't-SC-m') | (DataFinal['class'] == 't-CS-s')].copy()"
   ]
  },
  {
   "cell_type": "markdown",
   "id": "0211146c",
   "metadata": {},
   "source": [
    "Here I replaced two selected classes with the values of 0 and 1"
   ]
  },
  {
   "cell_type": "code",
   "execution_count": 471,
   "id": "e0f8e6c8",
   "metadata": {},
   "outputs": [],
   "source": [
    "SampleForSVM.loc[:, 'class'].replace({'t-SC-m': 1, 't-CS-s': 0}, inplace=True)"
   ]
  },
  {
   "cell_type": "markdown",
   "id": "ad9a5974",
   "metadata": {},
   "source": [
    "Here I have droped the column class and make a split for train( without class) and with class make a split for test"
   ]
  },
  {
   "cell_type": "code",
   "execution_count": 472,
   "id": "b3b03f1b",
   "metadata": {},
   "outputs": [],
   "source": [
    "Split1 = SampleForSVM.drop(['class'], axis=1)"
   ]
  },
  {
   "cell_type": "code",
   "execution_count": 473,
   "id": "aa55f778",
   "metadata": {},
   "outputs": [],
   "source": [
    "Split2 = SampleForSVM['class']"
   ]
  },
  {
   "cell_type": "markdown",
   "id": "bea4267e",
   "metadata": {},
   "source": [
    "Making the training and testing dataset"
   ]
  },
  {
   "cell_type": "code",
   "execution_count": 474,
   "id": "19d5fb45",
   "metadata": {},
   "outputs": [],
   "source": [
    "X_train, X_test, y_train, y_test = train_test_split(Split1, Split2, test_size = 0.2, random_state = 42)"
   ]
  },
  {
   "cell_type": "code",
   "execution_count": 475,
   "id": "5458d0ad",
   "metadata": {},
   "outputs": [],
   "source": [
    "SupportVectorMachine = SVC(gamma='scale')"
   ]
  },
  {
   "cell_type": "markdown",
   "id": "f112ff17",
   "metadata": {},
   "source": [
    "Here I fitted the training data set to the model"
   ]
  },
  {
   "cell_type": "code",
   "execution_count": 476,
   "id": "c65f307f",
   "metadata": {},
   "outputs": [
    {
     "data": {
      "text/plain": [
       "SVC()"
      ]
     },
     "execution_count": 476,
     "metadata": {},
     "output_type": "execute_result"
    }
   ],
   "source": [
    "SupportVectorMachine.fit(X_train, y_train)"
   ]
  },
  {
   "cell_type": "markdown",
   "id": "44786452",
   "metadata": {},
   "source": [
    "here we can see the accuracy result which is in the highest score"
   ]
  },
  {
   "cell_type": "code",
   "execution_count": 477,
   "id": "38bebdd8",
   "metadata": {},
   "outputs": [
    {
     "name": "stdout",
     "output_type": "stream",
     "text": [
      "The accuracy of my Train dataset result is 1.0\n"
     ]
    }
   ],
   "source": [
    "print('The accuracy of my Train dataset result is',SupportVectorMachine.score(X_train, y_train))"
   ]
  },
  {
   "cell_type": "code",
   "execution_count": 478,
   "id": "a87dbc5a",
   "metadata": {},
   "outputs": [
    {
     "name": "stdout",
     "output_type": "stream",
     "text": [
      "The accuracy of my Test dataset result is 1.0\n"
     ]
    }
   ],
   "source": [
    "print('The accuracy of my Test dataset result is',SupportVectorMachine.score(X_test, y_test))"
   ]
  },
  {
   "cell_type": "markdown",
   "id": "c5ed4e9b",
   "metadata": {},
   "source": [
    "# Question 1.b"
   ]
  },
  {
   "cell_type": "markdown",
   "id": "3e04935b",
   "metadata": {},
   "source": [
    "First I started by using the prepared data in the previous tasks that I removed from all columns non containing protein levels and then I converted it to matrix"
   ]
  },
  {
   "cell_type": "code",
   "execution_count": 479,
   "id": "da0b3a49",
   "metadata": {},
   "outputs": [],
   "source": [
    "from sklearn.decomposition import PCA"
   ]
  },
  {
   "cell_type": "code",
   "execution_count": 480,
   "id": "8bf5bdd8",
   "metadata": {},
   "outputs": [],
   "source": [
    "SampleForPCA = Data2.copy()"
   ]
  },
  {
   "cell_type": "code",
   "execution_count": 481,
   "id": "894ac67d",
   "metadata": {},
   "outputs": [
    {
     "ename": "AttributeError",
     "evalue": "'PCA' object has no attribute 'info'",
     "output_type": "error",
     "traceback": [
      "\u001b[1;31m---------------------------------------------------------------------------\u001b[0m",
      "\u001b[1;31mAttributeError\u001b[0m                            Traceback (most recent call last)",
      "\u001b[1;32m~\\AppData\\Local\\Temp/ipykernel_13808/3432609576.py\u001b[0m in \u001b[0;36m<module>\u001b[1;34m\u001b[0m\n\u001b[1;32m----> 1\u001b[1;33m \u001b[0mPcaReduction\u001b[0m\u001b[1;33m.\u001b[0m\u001b[0minfo\u001b[0m\u001b[1;33m\u001b[0m\u001b[1;33m\u001b[0m\u001b[0m\n\u001b[0m",
      "\u001b[1;31mAttributeError\u001b[0m: 'PCA' object has no attribute 'info'"
     ]
    }
   ],
   "source": [
    "PcaReduction.info"
   ]
  },
  {
   "cell_type": "code",
   "execution_count": 482,
   "id": "a484f0bc",
   "metadata": {},
   "outputs": [],
   "source": [
    "pca=PCA()"
   ]
  },
  {
   "cell_type": "code",
   "execution_count": 483,
   "id": "497b69e7",
   "metadata": {},
   "outputs": [
    {
     "data": {
      "text/html": [
       "<div>\n",
       "<style scoped>\n",
       "    .dataframe tbody tr th:only-of-type {\n",
       "        vertical-align: middle;\n",
       "    }\n",
       "\n",
       "    .dataframe tbody tr th {\n",
       "        vertical-align: top;\n",
       "    }\n",
       "\n",
       "    .dataframe thead th {\n",
       "        text-align: right;\n",
       "    }\n",
       "</style>\n",
       "<table border=\"1\" class=\"dataframe\">\n",
       "  <thead>\n",
       "    <tr style=\"text-align: right;\">\n",
       "      <th></th>\n",
       "      <th>DYRK1A_N</th>\n",
       "      <th>ITSN1_N</th>\n",
       "      <th>BDNF_N</th>\n",
       "      <th>NR1_N</th>\n",
       "      <th>NR2A_N</th>\n",
       "      <th>pAKT_N</th>\n",
       "      <th>pBRAF_N</th>\n",
       "      <th>pCAMKII_N</th>\n",
       "      <th>pCREB_N</th>\n",
       "      <th>pELK_N</th>\n",
       "      <th>...</th>\n",
       "      <th>SHH_N</th>\n",
       "      <th>BAD_N</th>\n",
       "      <th>BCL2_N</th>\n",
       "      <th>pS6_N</th>\n",
       "      <th>pCFOS_N</th>\n",
       "      <th>SYP_N</th>\n",
       "      <th>H3AcK18_N</th>\n",
       "      <th>EGR1_N</th>\n",
       "      <th>H3MeK4_N</th>\n",
       "      <th>CaNA_N</th>\n",
       "    </tr>\n",
       "  </thead>\n",
       "  <tbody>\n",
       "    <tr>\n",
       "      <th>0</th>\n",
       "      <td>0.503644</td>\n",
       "      <td>0.747193</td>\n",
       "      <td>0.430175</td>\n",
       "      <td>2.816329</td>\n",
       "      <td>5.990152</td>\n",
       "      <td>0.218830</td>\n",
       "      <td>0.177565</td>\n",
       "      <td>2.373744</td>\n",
       "      <td>0.232224</td>\n",
       "      <td>1.750936</td>\n",
       "      <td>...</td>\n",
       "      <td>0.188852</td>\n",
       "      <td>0.122652</td>\n",
       "      <td>0.13486</td>\n",
       "      <td>0.106305</td>\n",
       "      <td>0.108336</td>\n",
       "      <td>0.427099</td>\n",
       "      <td>0.114783</td>\n",
       "      <td>0.131790</td>\n",
       "      <td>0.128186</td>\n",
       "      <td>1.675652</td>\n",
       "    </tr>\n",
       "    <tr>\n",
       "      <th>1</th>\n",
       "      <td>0.514617</td>\n",
       "      <td>0.689064</td>\n",
       "      <td>0.411770</td>\n",
       "      <td>2.789514</td>\n",
       "      <td>5.685038</td>\n",
       "      <td>0.211636</td>\n",
       "      <td>0.172817</td>\n",
       "      <td>2.292150</td>\n",
       "      <td>0.226972</td>\n",
       "      <td>1.596377</td>\n",
       "      <td>...</td>\n",
       "      <td>0.200404</td>\n",
       "      <td>0.116682</td>\n",
       "      <td>0.13486</td>\n",
       "      <td>0.106592</td>\n",
       "      <td>0.104315</td>\n",
       "      <td>0.441581</td>\n",
       "      <td>0.111974</td>\n",
       "      <td>0.135103</td>\n",
       "      <td>0.131119</td>\n",
       "      <td>1.743610</td>\n",
       "    </tr>\n",
       "    <tr>\n",
       "      <th>2</th>\n",
       "      <td>0.509183</td>\n",
       "      <td>0.730247</td>\n",
       "      <td>0.418309</td>\n",
       "      <td>2.687201</td>\n",
       "      <td>5.622059</td>\n",
       "      <td>0.209011</td>\n",
       "      <td>0.175722</td>\n",
       "      <td>2.283337</td>\n",
       "      <td>0.230247</td>\n",
       "      <td>1.561316</td>\n",
       "      <td>...</td>\n",
       "      <td>0.193685</td>\n",
       "      <td>0.118508</td>\n",
       "      <td>0.13486</td>\n",
       "      <td>0.108303</td>\n",
       "      <td>0.106219</td>\n",
       "      <td>0.435777</td>\n",
       "      <td>0.111883</td>\n",
       "      <td>0.133362</td>\n",
       "      <td>0.127431</td>\n",
       "      <td>1.926427</td>\n",
       "    </tr>\n",
       "    <tr>\n",
       "      <th>3</th>\n",
       "      <td>0.442107</td>\n",
       "      <td>0.617076</td>\n",
       "      <td>0.358626</td>\n",
       "      <td>2.466947</td>\n",
       "      <td>4.979503</td>\n",
       "      <td>0.222886</td>\n",
       "      <td>0.176463</td>\n",
       "      <td>2.152301</td>\n",
       "      <td>0.207004</td>\n",
       "      <td>1.595086</td>\n",
       "      <td>...</td>\n",
       "      <td>0.192112</td>\n",
       "      <td>0.132781</td>\n",
       "      <td>0.13486</td>\n",
       "      <td>0.103184</td>\n",
       "      <td>0.111262</td>\n",
       "      <td>0.391691</td>\n",
       "      <td>0.130405</td>\n",
       "      <td>0.147444</td>\n",
       "      <td>0.146901</td>\n",
       "      <td>1.700563</td>\n",
       "    </tr>\n",
       "    <tr>\n",
       "      <th>4</th>\n",
       "      <td>0.434940</td>\n",
       "      <td>0.617430</td>\n",
       "      <td>0.358802</td>\n",
       "      <td>2.365785</td>\n",
       "      <td>4.718679</td>\n",
       "      <td>0.213106</td>\n",
       "      <td>0.173627</td>\n",
       "      <td>2.134014</td>\n",
       "      <td>0.192158</td>\n",
       "      <td>1.504230</td>\n",
       "      <td>...</td>\n",
       "      <td>0.205604</td>\n",
       "      <td>0.129954</td>\n",
       "      <td>0.13486</td>\n",
       "      <td>0.104784</td>\n",
       "      <td>0.110694</td>\n",
       "      <td>0.434154</td>\n",
       "      <td>0.118481</td>\n",
       "      <td>0.140314</td>\n",
       "      <td>0.148380</td>\n",
       "      <td>1.839730</td>\n",
       "    </tr>\n",
       "    <tr>\n",
       "      <th>...</th>\n",
       "      <td>...</td>\n",
       "      <td>...</td>\n",
       "      <td>...</td>\n",
       "      <td>...</td>\n",
       "      <td>...</td>\n",
       "      <td>...</td>\n",
       "      <td>...</td>\n",
       "      <td>...</td>\n",
       "      <td>...</td>\n",
       "      <td>...</td>\n",
       "      <td>...</td>\n",
       "      <td>...</td>\n",
       "      <td>...</td>\n",
       "      <td>...</td>\n",
       "      <td>...</td>\n",
       "      <td>...</td>\n",
       "      <td>...</td>\n",
       "      <td>...</td>\n",
       "      <td>...</td>\n",
       "      <td>...</td>\n",
       "      <td>...</td>\n",
       "    </tr>\n",
       "    <tr>\n",
       "      <th>1075</th>\n",
       "      <td>0.254860</td>\n",
       "      <td>0.463591</td>\n",
       "      <td>0.254860</td>\n",
       "      <td>2.092082</td>\n",
       "      <td>2.600035</td>\n",
       "      <td>0.211736</td>\n",
       "      <td>0.171262</td>\n",
       "      <td>2.483740</td>\n",
       "      <td>0.207317</td>\n",
       "      <td>1.057971</td>\n",
       "      <td>...</td>\n",
       "      <td>0.275547</td>\n",
       "      <td>0.190483</td>\n",
       "      <td>0.13486</td>\n",
       "      <td>0.115806</td>\n",
       "      <td>0.183324</td>\n",
       "      <td>0.374088</td>\n",
       "      <td>0.318782</td>\n",
       "      <td>0.204660</td>\n",
       "      <td>0.328327</td>\n",
       "      <td>1.364823</td>\n",
       "    </tr>\n",
       "    <tr>\n",
       "      <th>1076</th>\n",
       "      <td>0.272198</td>\n",
       "      <td>0.474163</td>\n",
       "      <td>0.251638</td>\n",
       "      <td>2.161390</td>\n",
       "      <td>2.801492</td>\n",
       "      <td>0.251274</td>\n",
       "      <td>0.182496</td>\n",
       "      <td>2.512737</td>\n",
       "      <td>0.216339</td>\n",
       "      <td>1.081150</td>\n",
       "      <td>...</td>\n",
       "      <td>0.283207</td>\n",
       "      <td>0.190463</td>\n",
       "      <td>0.13486</td>\n",
       "      <td>0.113614</td>\n",
       "      <td>0.175674</td>\n",
       "      <td>0.375259</td>\n",
       "      <td>0.325639</td>\n",
       "      <td>0.200415</td>\n",
       "      <td>0.293435</td>\n",
       "      <td>1.364478</td>\n",
       "    </tr>\n",
       "    <tr>\n",
       "      <th>1077</th>\n",
       "      <td>0.228700</td>\n",
       "      <td>0.395179</td>\n",
       "      <td>0.234118</td>\n",
       "      <td>1.733184</td>\n",
       "      <td>2.220852</td>\n",
       "      <td>0.220665</td>\n",
       "      <td>0.161435</td>\n",
       "      <td>1.989723</td>\n",
       "      <td>0.185164</td>\n",
       "      <td>0.884342</td>\n",
       "      <td>...</td>\n",
       "      <td>0.290843</td>\n",
       "      <td>0.216682</td>\n",
       "      <td>0.13486</td>\n",
       "      <td>0.118948</td>\n",
       "      <td>0.158296</td>\n",
       "      <td>0.422121</td>\n",
       "      <td>0.321306</td>\n",
       "      <td>0.229193</td>\n",
       "      <td>0.355213</td>\n",
       "      <td>1.430825</td>\n",
       "    </tr>\n",
       "    <tr>\n",
       "      <th>1078</th>\n",
       "      <td>0.221242</td>\n",
       "      <td>0.412894</td>\n",
       "      <td>0.243974</td>\n",
       "      <td>1.876347</td>\n",
       "      <td>2.384088</td>\n",
       "      <td>0.208897</td>\n",
       "      <td>0.173623</td>\n",
       "      <td>2.086028</td>\n",
       "      <td>0.192044</td>\n",
       "      <td>0.922595</td>\n",
       "      <td>...</td>\n",
       "      <td>0.306701</td>\n",
       "      <td>0.222263</td>\n",
       "      <td>0.13486</td>\n",
       "      <td>0.125295</td>\n",
       "      <td>0.196296</td>\n",
       "      <td>0.397676</td>\n",
       "      <td>0.335936</td>\n",
       "      <td>0.251317</td>\n",
       "      <td>0.365353</td>\n",
       "      <td>1.404031</td>\n",
       "    </tr>\n",
       "    <tr>\n",
       "      <th>1079</th>\n",
       "      <td>0.302626</td>\n",
       "      <td>0.461059</td>\n",
       "      <td>0.256564</td>\n",
       "      <td>2.092790</td>\n",
       "      <td>2.594348</td>\n",
       "      <td>0.251001</td>\n",
       "      <td>0.191811</td>\n",
       "      <td>2.361816</td>\n",
       "      <td>0.223632</td>\n",
       "      <td>1.064085</td>\n",
       "      <td>...</td>\n",
       "      <td>0.292330</td>\n",
       "      <td>0.227606</td>\n",
       "      <td>0.13486</td>\n",
       "      <td>0.118899</td>\n",
       "      <td>0.187556</td>\n",
       "      <td>0.420347</td>\n",
       "      <td>0.335062</td>\n",
       "      <td>0.252995</td>\n",
       "      <td>0.365278</td>\n",
       "      <td>1.370999</td>\n",
       "    </tr>\n",
       "  </tbody>\n",
       "</table>\n",
       "<p>1047 rows × 77 columns</p>\n",
       "</div>"
      ],
      "text/plain": [
       "      DYRK1A_N   ITSN1_N    BDNF_N     NR1_N    NR2A_N    pAKT_N   pBRAF_N  \\\n",
       "0     0.503644  0.747193  0.430175  2.816329  5.990152  0.218830  0.177565   \n",
       "1     0.514617  0.689064  0.411770  2.789514  5.685038  0.211636  0.172817   \n",
       "2     0.509183  0.730247  0.418309  2.687201  5.622059  0.209011  0.175722   \n",
       "3     0.442107  0.617076  0.358626  2.466947  4.979503  0.222886  0.176463   \n",
       "4     0.434940  0.617430  0.358802  2.365785  4.718679  0.213106  0.173627   \n",
       "...        ...       ...       ...       ...       ...       ...       ...   \n",
       "1075  0.254860  0.463591  0.254860  2.092082  2.600035  0.211736  0.171262   \n",
       "1076  0.272198  0.474163  0.251638  2.161390  2.801492  0.251274  0.182496   \n",
       "1077  0.228700  0.395179  0.234118  1.733184  2.220852  0.220665  0.161435   \n",
       "1078  0.221242  0.412894  0.243974  1.876347  2.384088  0.208897  0.173623   \n",
       "1079  0.302626  0.461059  0.256564  2.092790  2.594348  0.251001  0.191811   \n",
       "\n",
       "      pCAMKII_N   pCREB_N    pELK_N  ...     SHH_N     BAD_N   BCL2_N  \\\n",
       "0      2.373744  0.232224  1.750936  ...  0.188852  0.122652  0.13486   \n",
       "1      2.292150  0.226972  1.596377  ...  0.200404  0.116682  0.13486   \n",
       "2      2.283337  0.230247  1.561316  ...  0.193685  0.118508  0.13486   \n",
       "3      2.152301  0.207004  1.595086  ...  0.192112  0.132781  0.13486   \n",
       "4      2.134014  0.192158  1.504230  ...  0.205604  0.129954  0.13486   \n",
       "...         ...       ...       ...  ...       ...       ...      ...   \n",
       "1075   2.483740  0.207317  1.057971  ...  0.275547  0.190483  0.13486   \n",
       "1076   2.512737  0.216339  1.081150  ...  0.283207  0.190463  0.13486   \n",
       "1077   1.989723  0.185164  0.884342  ...  0.290843  0.216682  0.13486   \n",
       "1078   2.086028  0.192044  0.922595  ...  0.306701  0.222263  0.13486   \n",
       "1079   2.361816  0.223632  1.064085  ...  0.292330  0.227606  0.13486   \n",
       "\n",
       "         pS6_N   pCFOS_N     SYP_N  H3AcK18_N    EGR1_N  H3MeK4_N    CaNA_N  \n",
       "0     0.106305  0.108336  0.427099   0.114783  0.131790  0.128186  1.675652  \n",
       "1     0.106592  0.104315  0.441581   0.111974  0.135103  0.131119  1.743610  \n",
       "2     0.108303  0.106219  0.435777   0.111883  0.133362  0.127431  1.926427  \n",
       "3     0.103184  0.111262  0.391691   0.130405  0.147444  0.146901  1.700563  \n",
       "4     0.104784  0.110694  0.434154   0.118481  0.140314  0.148380  1.839730  \n",
       "...        ...       ...       ...        ...       ...       ...       ...  \n",
       "1075  0.115806  0.183324  0.374088   0.318782  0.204660  0.328327  1.364823  \n",
       "1076  0.113614  0.175674  0.375259   0.325639  0.200415  0.293435  1.364478  \n",
       "1077  0.118948  0.158296  0.422121   0.321306  0.229193  0.355213  1.430825  \n",
       "1078  0.125295  0.196296  0.397676   0.335936  0.251317  0.365353  1.404031  \n",
       "1079  0.118899  0.187556  0.420347   0.335062  0.252995  0.365278  1.370999  \n",
       "\n",
       "[1047 rows x 77 columns]"
      ]
     },
     "execution_count": 483,
     "metadata": {},
     "output_type": "execute_result"
    }
   ],
   "source": [
    "SampleForPCA"
   ]
  },
  {
   "cell_type": "code",
   "execution_count": 484,
   "id": "e3a0aa9e",
   "metadata": {},
   "outputs": [
    {
     "data": {
      "text/plain": [
       "PCA()"
      ]
     },
     "execution_count": 484,
     "metadata": {},
     "output_type": "execute_result"
    }
   ],
   "source": [
    "pca.fit(SampleForPCA)"
   ]
  },
  {
   "cell_type": "code",
   "execution_count": 485,
   "id": "f65d062a",
   "metadata": {},
   "outputs": [
    {
     "data": {
      "text/plain": [
       "array([4.17064387e-01, 2.92761558e-01, 9.42779993e-02, 6.02014619e-02,\n",
       "       2.69833517e-02, 2.49110776e-02, 1.41381541e-02, 1.19031928e-02,\n",
       "       9.29563232e-03, 6.86460623e-03, 5.74043541e-03, 5.48284373e-03,\n",
       "       5.03122661e-03, 4.15302036e-03, 2.90249365e-03, 2.48973528e-03,\n",
       "       1.81156063e-03, 1.57714045e-03, 1.44626702e-03, 1.31495173e-03,\n",
       "       1.07412714e-03, 9.28252971e-04, 8.28859943e-04, 7.80751077e-04,\n",
       "       6.51902273e-04, 5.56784205e-04, 4.92636900e-04, 4.51592393e-04,\n",
       "       4.06531044e-04, 3.10477557e-04, 2.71710207e-04, 2.37058148e-04,\n",
       "       2.16192266e-04, 1.99698487e-04, 1.86977405e-04, 1.67441840e-04,\n",
       "       1.41017033e-04, 1.33914110e-04, 1.24984399e-04, 1.15315654e-04,\n",
       "       1.02253338e-04, 9.87152959e-05, 9.05432785e-05, 8.17510760e-05,\n",
       "       7.97353770e-05, 7.57223645e-05, 6.86907178e-05, 6.36148956e-05,\n",
       "       5.98226307e-05, 5.59655091e-05, 4.79726998e-05, 4.75271832e-05,\n",
       "       4.33844323e-05, 3.63169321e-05, 3.49429440e-05, 3.46444516e-05,\n",
       "       3.30738305e-05, 3.01568303e-05, 2.84722541e-05, 2.71504004e-05,\n",
       "       2.55703431e-05, 2.39321738e-05, 2.28977099e-05, 2.03978523e-05,\n",
       "       1.75784607e-05, 1.68101572e-05, 1.60654163e-05, 1.46895812e-05,\n",
       "       1.28551801e-05, 1.20247438e-05, 1.06959518e-05, 9.10085182e-06,\n",
       "       8.78186972e-06, 7.62388789e-06, 6.98562434e-06, 6.21194263e-06,\n",
       "       2.12999781e-33])"
      ]
     },
     "execution_count": 485,
     "metadata": {},
     "output_type": "execute_result"
    }
   ],
   "source": [
    "pca.explained_variance_ratio_"
   ]
  },
  {
   "cell_type": "code",
   "execution_count": 486,
   "id": "73e21ec8",
   "metadata": {},
   "outputs": [
    {
     "data": {
      "text/plain": [
       "Text(0, 0.5, 'Cumulative Explained Variance')"
      ]
     },
     "execution_count": 486,
     "metadata": {},
     "output_type": "execute_result"
    },
    {
     "data": {
      "image/png": "[encoded data removed]",
      "text/plain": [
       "<Figure size 864x432 with 1 Axes>"
      ]
     },
     "metadata": {
      "needs_background": "light"
     },
     "output_type": "display_data"
    }
   ],
   "source": [
    "plt.figure(figsize=(12,6))\n",
    "plt.plot(range(1,78), pca.explained_variance_ratio_.cumsum(), marker='d', linestyle='-')\n",
    "plt.title('Explained Variance by Components')\n",
    "plt.xlabel('Number of Components')\n",
    "plt.ylabel('Cumulative Explained Variance')"
   ]
  },
  {
   "cell_type": "code",
   "execution_count": 487,
   "id": "453c80aa",
   "metadata": {},
   "outputs": [],
   "source": [
    "PcaReduction=PCA(n_components=10)"
   ]
  },
  {
   "cell_type": "code",
   "execution_count": 488,
   "id": "d1221789",
   "metadata": {},
   "outputs": [
    {
     "data": {
      "text/plain": [
       "PCA(n_components=10)"
      ]
     },
     "execution_count": 488,
     "metadata": {},
     "output_type": "execute_result"
    }
   ],
   "source": [
    "PcaReduction.fit(SampleForPCA)"
   ]
  },
  {
   "cell_type": "code",
   "execution_count": 489,
   "id": "5bd8b0f5",
   "metadata": {},
   "outputs": [
    {
     "data": {
      "text/plain": [
       "array([0.41706439, 0.29276156, 0.094278  , 0.06020146, 0.02698335,\n",
       "       0.02491108, 0.01413815, 0.01190319, 0.00929563, 0.00686461])"
      ]
     },
     "execution_count": 489,
     "metadata": {},
     "output_type": "execute_result"
    }
   ],
   "source": [
    "PcaReduction.explained_variance_ratio_"
   ]
  },
  {
   "cell_type": "code",
   "execution_count": 490,
   "id": "41234265",
   "metadata": {},
   "outputs": [
    {
     "data": {
      "text/plain": [
       "Text(0, 0.5, 'Cumulative Explained Variance')"
      ]
     },
     "execution_count": 490,
     "metadata": {},
     "output_type": "execute_result"
    },
    {
     "data": {
      "image/png": "[encoded data removed]",
      "text/plain": [
       "<Figure size 864x432 with 1 Axes>"
      ]
     },
     "metadata": {
      "needs_background": "light"
     },
     "output_type": "display_data"
    }
   ],
   "source": [
    "plt.figure(figsize=(12,6))\n",
    "plt.plot(range(1,11), PcaReduction.explained_variance_ratio_.cumsum(), marker='d', linestyle='-')\n",
    "plt.title('Explained Variance by Components')\n",
    "plt.xlabel('Number of Components')\n",
    "plt.ylabel('Cumulative Explained Variance')"
   ]
  },
  {
   "cell_type": "code",
   "execution_count": 491,
   "id": "5e9b5377",
   "metadata": {},
   "outputs": [
    {
     "data": {
      "text/plain": [
       "array([[ 1.45256843e+00,  2.68430404e+00,  7.56539665e-04, ...,\n",
       "        -1.82254360e-01,  1.71039785e-01,  3.34328740e-01],\n",
       "       [ 1.02956118e+00,  2.46346049e+00, -5.44360284e-02, ...,\n",
       "        -2.14731216e-01,  7.53134910e-02,  3.05098190e-01],\n",
       "       [ 1.00103067e+00,  2.47097012e+00,  3.68743397e-02, ...,\n",
       "        -1.70209310e-01,  9.15440206e-02,  2.36785041e-01],\n",
       "       ...,\n",
       "       [-2.81141690e+00, -6.49825702e-01,  5.95312330e-01, ...,\n",
       "        -2.61051916e-01, -3.92604457e-01, -2.16716527e-01],\n",
       "       [-2.52438619e+00, -5.83459114e-01,  5.79614125e-01, ...,\n",
       "        -3.04032553e-01, -3.38487313e-01, -2.22442951e-01],\n",
       "       [-1.97418478e+00, -4.78094564e-01,  6.29449541e-01, ...,\n",
       "        -2.12377629e-01, -1.39627159e-01, -1.94258250e-01]])"
      ]
     },
     "execution_count": 491,
     "metadata": {},
     "output_type": "execute_result"
    }
   ],
   "source": [
    "PcaReduction.transform(SampleForPCA)"
   ]
  },
  {
   "cell_type": "markdown",
   "id": "26f0e81b",
   "metadata": {},
   "source": [
    "# Question 1.c"
   ]
  },
  {
   "cell_type": "markdown",
   "id": "dae1f673",
   "metadata": {},
   "source": [
    "# Random Forest"
   ]
  },
  {
   "cell_type": "markdown",
   "id": "ab2cf0ca",
   "metadata": {},
   "source": [
    "Loading the necessary libraries"
   ]
  },
  {
   "cell_type": "code",
   "execution_count": 492,
   "id": "ffdb7e17",
   "metadata": {},
   "outputs": [],
   "source": [
    "from sklearn.ensemble import RandomForestClassifier"
   ]
  },
  {
   "cell_type": "code",
   "execution_count": 493,
   "id": "5dffd67f",
   "metadata": {},
   "outputs": [],
   "source": [
    "from sklearn.metrics import accuracy_score"
   ]
  },
  {
   "cell_type": "markdown",
   "id": "ad0bae22",
   "metadata": {},
   "source": [
    "Knowing the data that I will use (data set in prepared)"
   ]
  },
  {
   "cell_type": "code",
   "execution_count": 494,
   "id": "6da36128",
   "metadata": {},
   "outputs": [
    {
     "data": {
      "text/html": [
       "<div>\n",
       "<style scoped>\n",
       "    .dataframe tbody tr th:only-of-type {\n",
       "        vertical-align: middle;\n",
       "    }\n",
       "\n",
       "    .dataframe tbody tr th {\n",
       "        vertical-align: top;\n",
       "    }\n",
       "\n",
       "    .dataframe thead th {\n",
       "        text-align: right;\n",
       "    }\n",
       "</style>\n",
       "<table border=\"1\" class=\"dataframe\">\n",
       "  <thead>\n",
       "    <tr style=\"text-align: right;\">\n",
       "      <th></th>\n",
       "      <th>DYRK1A_N</th>\n",
       "      <th>ITSN1_N</th>\n",
       "      <th>BDNF_N</th>\n",
       "      <th>NR1_N</th>\n",
       "      <th>NR2A_N</th>\n",
       "      <th>pAKT_N</th>\n",
       "      <th>pBRAF_N</th>\n",
       "      <th>pCAMKII_N</th>\n",
       "      <th>pCREB_N</th>\n",
       "      <th>pELK_N</th>\n",
       "      <th>...</th>\n",
       "      <th>SHH_N</th>\n",
       "      <th>BAD_N</th>\n",
       "      <th>BCL2_N</th>\n",
       "      <th>pS6_N</th>\n",
       "      <th>pCFOS_N</th>\n",
       "      <th>SYP_N</th>\n",
       "      <th>H3AcK18_N</th>\n",
       "      <th>EGR1_N</th>\n",
       "      <th>H3MeK4_N</th>\n",
       "      <th>CaNA_N</th>\n",
       "    </tr>\n",
       "  </thead>\n",
       "  <tbody>\n",
       "    <tr>\n",
       "      <th>0</th>\n",
       "      <td>0.503644</td>\n",
       "      <td>0.747193</td>\n",
       "      <td>0.430175</td>\n",
       "      <td>2.816329</td>\n",
       "      <td>5.990152</td>\n",
       "      <td>0.218830</td>\n",
       "      <td>0.177565</td>\n",
       "      <td>2.373744</td>\n",
       "      <td>0.232224</td>\n",
       "      <td>1.750936</td>\n",
       "      <td>...</td>\n",
       "      <td>0.188852</td>\n",
       "      <td>0.122652</td>\n",
       "      <td>0.13486</td>\n",
       "      <td>0.106305</td>\n",
       "      <td>0.108336</td>\n",
       "      <td>0.427099</td>\n",
       "      <td>0.114783</td>\n",
       "      <td>0.131790</td>\n",
       "      <td>0.128186</td>\n",
       "      <td>1.675652</td>\n",
       "    </tr>\n",
       "    <tr>\n",
       "      <th>1</th>\n",
       "      <td>0.514617</td>\n",
       "      <td>0.689064</td>\n",
       "      <td>0.411770</td>\n",
       "      <td>2.789514</td>\n",
       "      <td>5.685038</td>\n",
       "      <td>0.211636</td>\n",
       "      <td>0.172817</td>\n",
       "      <td>2.292150</td>\n",
       "      <td>0.226972</td>\n",
       "      <td>1.596377</td>\n",
       "      <td>...</td>\n",
       "      <td>0.200404</td>\n",
       "      <td>0.116682</td>\n",
       "      <td>0.13486</td>\n",
       "      <td>0.106592</td>\n",
       "      <td>0.104315</td>\n",
       "      <td>0.441581</td>\n",
       "      <td>0.111974</td>\n",
       "      <td>0.135103</td>\n",
       "      <td>0.131119</td>\n",
       "      <td>1.743610</td>\n",
       "    </tr>\n",
       "    <tr>\n",
       "      <th>2</th>\n",
       "      <td>0.509183</td>\n",
       "      <td>0.730247</td>\n",
       "      <td>0.418309</td>\n",
       "      <td>2.687201</td>\n",
       "      <td>5.622059</td>\n",
       "      <td>0.209011</td>\n",
       "      <td>0.175722</td>\n",
       "      <td>2.283337</td>\n",
       "      <td>0.230247</td>\n",
       "      <td>1.561316</td>\n",
       "      <td>...</td>\n",
       "      <td>0.193685</td>\n",
       "      <td>0.118508</td>\n",
       "      <td>0.13486</td>\n",
       "      <td>0.108303</td>\n",
       "      <td>0.106219</td>\n",
       "      <td>0.435777</td>\n",
       "      <td>0.111883</td>\n",
       "      <td>0.133362</td>\n",
       "      <td>0.127431</td>\n",
       "      <td>1.926427</td>\n",
       "    </tr>\n",
       "    <tr>\n",
       "      <th>3</th>\n",
       "      <td>0.442107</td>\n",
       "      <td>0.617076</td>\n",
       "      <td>0.358626</td>\n",
       "      <td>2.466947</td>\n",
       "      <td>4.979503</td>\n",
       "      <td>0.222886</td>\n",
       "      <td>0.176463</td>\n",
       "      <td>2.152301</td>\n",
       "      <td>0.207004</td>\n",
       "      <td>1.595086</td>\n",
       "      <td>...</td>\n",
       "      <td>0.192112</td>\n",
       "      <td>0.132781</td>\n",
       "      <td>0.13486</td>\n",
       "      <td>0.103184</td>\n",
       "      <td>0.111262</td>\n",
       "      <td>0.391691</td>\n",
       "      <td>0.130405</td>\n",
       "      <td>0.147444</td>\n",
       "      <td>0.146901</td>\n",
       "      <td>1.700563</td>\n",
       "    </tr>\n",
       "    <tr>\n",
       "      <th>4</th>\n",
       "      <td>0.434940</td>\n",
       "      <td>0.617430</td>\n",
       "      <td>0.358802</td>\n",
       "      <td>2.365785</td>\n",
       "      <td>4.718679</td>\n",
       "      <td>0.213106</td>\n",
       "      <td>0.173627</td>\n",
       "      <td>2.134014</td>\n",
       "      <td>0.192158</td>\n",
       "      <td>1.504230</td>\n",
       "      <td>...</td>\n",
       "      <td>0.205604</td>\n",
       "      <td>0.129954</td>\n",
       "      <td>0.13486</td>\n",
       "      <td>0.104784</td>\n",
       "      <td>0.110694</td>\n",
       "      <td>0.434154</td>\n",
       "      <td>0.118481</td>\n",
       "      <td>0.140314</td>\n",
       "      <td>0.148380</td>\n",
       "      <td>1.839730</td>\n",
       "    </tr>\n",
       "    <tr>\n",
       "      <th>5</th>\n",
       "      <td>0.447506</td>\n",
       "      <td>0.628176</td>\n",
       "      <td>0.367388</td>\n",
       "      <td>2.385939</td>\n",
       "      <td>4.807635</td>\n",
       "      <td>0.218578</td>\n",
       "      <td>0.176233</td>\n",
       "      <td>2.141282</td>\n",
       "      <td>0.195188</td>\n",
       "      <td>1.442398</td>\n",
       "      <td>...</td>\n",
       "      <td>0.190469</td>\n",
       "      <td>0.131575</td>\n",
       "      <td>0.13486</td>\n",
       "      <td>0.106476</td>\n",
       "      <td>0.109446</td>\n",
       "      <td>0.439833</td>\n",
       "      <td>0.116657</td>\n",
       "      <td>0.140766</td>\n",
       "      <td>0.142180</td>\n",
       "      <td>1.816389</td>\n",
       "    </tr>\n",
       "    <tr>\n",
       "      <th>6</th>\n",
       "      <td>0.428033</td>\n",
       "      <td>0.573696</td>\n",
       "      <td>0.342709</td>\n",
       "      <td>2.334224</td>\n",
       "      <td>4.473130</td>\n",
       "      <td>0.225173</td>\n",
       "      <td>0.184004</td>\n",
       "      <td>2.012414</td>\n",
       "      <td>0.195789</td>\n",
       "      <td>1.612036</td>\n",
       "      <td>...</td>\n",
       "      <td>0.181610</td>\n",
       "      <td>0.141806</td>\n",
       "      <td>0.13486</td>\n",
       "      <td>0.097834</td>\n",
       "      <td>0.111483</td>\n",
       "      <td>0.406293</td>\n",
       "      <td>0.137229</td>\n",
       "      <td>0.156682</td>\n",
       "      <td>0.157499</td>\n",
       "      <td>1.528484</td>\n",
       "    </tr>\n",
       "    <tr>\n",
       "      <th>7</th>\n",
       "      <td>0.416923</td>\n",
       "      <td>0.564036</td>\n",
       "      <td>0.327703</td>\n",
       "      <td>2.260135</td>\n",
       "      <td>4.268735</td>\n",
       "      <td>0.214834</td>\n",
       "      <td>0.179668</td>\n",
       "      <td>2.007985</td>\n",
       "      <td>0.189803</td>\n",
       "      <td>1.424601</td>\n",
       "      <td>...</td>\n",
       "      <td>0.191561</td>\n",
       "      <td>0.141013</td>\n",
       "      <td>0.13486</td>\n",
       "      <td>0.099494</td>\n",
       "      <td>0.113080</td>\n",
       "      <td>0.382532</td>\n",
       "      <td>0.123376</td>\n",
       "      <td>0.155612</td>\n",
       "      <td>0.159409</td>\n",
       "      <td>1.652658</td>\n",
       "    </tr>\n",
       "    <tr>\n",
       "      <th>8</th>\n",
       "      <td>0.386311</td>\n",
       "      <td>0.538428</td>\n",
       "      <td>0.317720</td>\n",
       "      <td>2.125725</td>\n",
       "      <td>4.063950</td>\n",
       "      <td>0.207222</td>\n",
       "      <td>0.167778</td>\n",
       "      <td>1.861514</td>\n",
       "      <td>0.180684</td>\n",
       "      <td>1.261891</td>\n",
       "      <td>...</td>\n",
       "      <td>0.186378</td>\n",
       "      <td>0.139589</td>\n",
       "      <td>0.13486</td>\n",
       "      <td>0.105145</td>\n",
       "      <td>0.105490</td>\n",
       "      <td>0.435687</td>\n",
       "      <td>0.125173</td>\n",
       "      <td>0.152711</td>\n",
       "      <td>0.158235</td>\n",
       "      <td>1.834599</td>\n",
       "    </tr>\n",
       "    <tr>\n",
       "      <th>9</th>\n",
       "      <td>0.380827</td>\n",
       "      <td>0.499294</td>\n",
       "      <td>0.362462</td>\n",
       "      <td>2.096266</td>\n",
       "      <td>3.598587</td>\n",
       "      <td>0.227649</td>\n",
       "      <td>0.188093</td>\n",
       "      <td>1.717861</td>\n",
       "      <td>0.188093</td>\n",
       "      <td>1.414329</td>\n",
       "      <td>...</td>\n",
       "      <td>0.189523</td>\n",
       "      <td>0.183678</td>\n",
       "      <td>0.13486</td>\n",
       "      <td>0.093300</td>\n",
       "      <td>0.116906</td>\n",
       "      <td>0.414793</td>\n",
       "      <td>0.146133</td>\n",
       "      <td>0.188849</td>\n",
       "      <td>0.192334</td>\n",
       "      <td>1.516862</td>\n",
       "    </tr>\n",
       "  </tbody>\n",
       "</table>\n",
       "<p>10 rows × 77 columns</p>\n",
       "</div>"
      ],
      "text/plain": [
       "   DYRK1A_N   ITSN1_N    BDNF_N     NR1_N    NR2A_N    pAKT_N   pBRAF_N  \\\n",
       "0  0.503644  0.747193  0.430175  2.816329  5.990152  0.218830  0.177565   \n",
       "1  0.514617  0.689064  0.411770  2.789514  5.685038  0.211636  0.172817   \n",
       "2  0.509183  0.730247  0.418309  2.687201  5.622059  0.209011  0.175722   \n",
       "3  0.442107  0.617076  0.358626  2.466947  4.979503  0.222886  0.176463   \n",
       "4  0.434940  0.617430  0.358802  2.365785  4.718679  0.213106  0.173627   \n",
       "5  0.447506  0.628176  0.367388  2.385939  4.807635  0.218578  0.176233   \n",
       "6  0.428033  0.573696  0.342709  2.334224  4.473130  0.225173  0.184004   \n",
       "7  0.416923  0.564036  0.327703  2.260135  4.268735  0.214834  0.179668   \n",
       "8  0.386311  0.538428  0.317720  2.125725  4.063950  0.207222  0.167778   \n",
       "9  0.380827  0.499294  0.362462  2.096266  3.598587  0.227649  0.188093   \n",
       "\n",
       "   pCAMKII_N   pCREB_N    pELK_N  ...     SHH_N     BAD_N   BCL2_N     pS6_N  \\\n",
       "0   2.373744  0.232224  1.750936  ...  0.188852  0.122652  0.13486  0.106305   \n",
       "1   2.292150  0.226972  1.596377  ...  0.200404  0.116682  0.13486  0.106592   \n",
       "2   2.283337  0.230247  1.561316  ...  0.193685  0.118508  0.13486  0.108303   \n",
       "3   2.152301  0.207004  1.595086  ...  0.192112  0.132781  0.13486  0.103184   \n",
       "4   2.134014  0.192158  1.504230  ...  0.205604  0.129954  0.13486  0.104784   \n",
       "5   2.141282  0.195188  1.442398  ...  0.190469  0.131575  0.13486  0.106476   \n",
       "6   2.012414  0.195789  1.612036  ...  0.181610  0.141806  0.13486  0.097834   \n",
       "7   2.007985  0.189803  1.424601  ...  0.191561  0.141013  0.13486  0.099494   \n",
       "8   1.861514  0.180684  1.261891  ...  0.186378  0.139589  0.13486  0.105145   \n",
       "9   1.717861  0.188093  1.414329  ...  0.189523  0.183678  0.13486  0.093300   \n",
       "\n",
       "    pCFOS_N     SYP_N  H3AcK18_N    EGR1_N  H3MeK4_N    CaNA_N  \n",
       "0  0.108336  0.427099   0.114783  0.131790  0.128186  1.675652  \n",
       "1  0.104315  0.441581   0.111974  0.135103  0.131119  1.743610  \n",
       "2  0.106219  0.435777   0.111883  0.133362  0.127431  1.926427  \n",
       "3  0.111262  0.391691   0.130405  0.147444  0.146901  1.700563  \n",
       "4  0.110694  0.434154   0.118481  0.140314  0.148380  1.839730  \n",
       "5  0.109446  0.439833   0.116657  0.140766  0.142180  1.816389  \n",
       "6  0.111483  0.406293   0.137229  0.156682  0.157499  1.528484  \n",
       "7  0.113080  0.382532   0.123376  0.155612  0.159409  1.652658  \n",
       "8  0.105490  0.435687   0.125173  0.152711  0.158235  1.834599  \n",
       "9  0.116906  0.414793   0.146133  0.188849  0.192334  1.516862  \n",
       "\n",
       "[10 rows x 77 columns]"
      ]
     },
     "execution_count": 494,
     "metadata": {},
     "output_type": "execute_result"
    }
   ],
   "source": [
    "Data2.head(10)"
   ]
  },
  {
   "cell_type": "markdown",
   "id": "2fff7a6e",
   "metadata": {},
   "source": [
    "Splitting the Data into Train and Test"
   ]
  },
  {
   "cell_type": "code",
   "execution_count": 495,
   "id": "747df024",
   "metadata": {},
   "outputs": [],
   "source": [
    "D_train, D_test, t_train, t_test = train_test_split(Data2,\n",
    "                                                       tag,\n",
    "                                                       test_size = 0.3,\n",
    "                                                       random_state=0)"
   ]
  },
  {
   "cell_type": "markdown",
   "id": "f835f8aa",
   "metadata": {},
   "source": [
    "Builing the Random Forest Model"
   ]
  },
  {
   "cell_type": "code",
   "execution_count": 496,
   "id": "b865dd20",
   "metadata": {},
   "outputs": [],
   "source": [
    "myRF = RandomForestClassifier(criterion='gini',\n",
    "                                 n_estimators=5,\n",
    "                                 random_state=1,\n",
    "                                 n_jobs=2)"
   ]
  },
  {
   "cell_type": "markdown",
   "id": "d8a7c614",
   "metadata": {},
   "source": [
    "Fitting the Model"
   ]
  },
  {
   "cell_type": "code",
   "execution_count": 497,
   "id": "87eda517",
   "metadata": {},
   "outputs": [
    {
     "data": {
      "text/plain": [
       "RandomForestClassifier(n_estimators=5, n_jobs=2, random_state=1)"
      ]
     },
     "execution_count": 497,
     "metadata": {},
     "output_type": "execute_result"
    }
   ],
   "source": [
    "myRF.fit(D_train, t_train)"
   ]
  },
  {
   "cell_type": "markdown",
   "id": "81b21f78",
   "metadata": {},
   "source": [
    "Predicting with the testdata set"
   ]
  },
  {
   "cell_type": "code",
   "execution_count": 498,
   "id": "94e56055",
   "metadata": {},
   "outputs": [],
   "source": [
    "y_pred = myRF.predict(D_test)"
   ]
  },
  {
   "cell_type": "markdown",
   "id": "13dc5f2f",
   "metadata": {},
   "source": [
    "The accuracy of the prediction result"
   ]
  },
  {
   "cell_type": "code",
   "execution_count": 499,
   "id": "0ee0dce7",
   "metadata": {},
   "outputs": [
    {
     "name": "stdout",
     "output_type": "stream",
     "text": [
      "Test Accuracy: 0.886\n"
     ]
    }
   ],
   "source": [
    "print('Test Accuracy: %.3f' % accuracy_score(t_test, y_pred))"
   ]
  },
  {
   "cell_type": "markdown",
   "id": "b44867f2",
   "metadata": {},
   "source": [
    "# Bagging"
   ]
  },
  {
   "cell_type": "code",
   "execution_count": 500,
   "id": "d12f3a77",
   "metadata": {},
   "outputs": [],
   "source": [
    "from sklearn.ensemble import BaggingClassifier"
   ]
  },
  {
   "cell_type": "code",
   "execution_count": 501,
   "id": "e8769a88",
   "metadata": {},
   "outputs": [],
   "source": [
    "from sklearn.preprocessing import StandardScaler"
   ]
  },
  {
   "cell_type": "code",
   "execution_count": 502,
   "id": "93cc3ab9",
   "metadata": {},
   "outputs": [],
   "source": [
    "# Instantiate the bagging classifier\n",
    "bagginggclassifier = BaggingClassifier(base_estimator=myRF, n_estimators=100,max_features=10,\n",
    "                                 max_samples=100,\n",
    "                                 random_state=1, n_jobs=5)"
   ]
  },
  {
   "cell_type": "markdown",
   "id": "a6b05b36",
   "metadata": {},
   "source": [
    "Here I am going to Fit the bagging classifier"
   ]
  },
  {
   "cell_type": "code",
   "execution_count": 503,
   "id": "1d8f80af",
   "metadata": {},
   "outputs": [
    {
     "data": {
      "text/plain": [
       "BaggingClassifier(base_estimator=RandomForestClassifier(n_estimators=5,\n",
       "                                                        n_jobs=2,\n",
       "                                                        random_state=1),\n",
       "                  max_features=10, max_samples=100, n_estimators=100, n_jobs=5,\n",
       "                  random_state=1)"
      ]
     },
     "execution_count": 503,
     "metadata": {},
     "output_type": "execute_result"
    }
   ],
   "source": [
    "bagginggclassifier.fit(D_train, t_train)"
   ]
  },
  {
   "cell_type": "markdown",
   "id": "a4522136",
   "metadata": {},
   "source": [
    "My Model scores on test and training data"
   ]
  },
  {
   "cell_type": "code",
   "execution_count": 504,
   "id": "5061232d",
   "metadata": {},
   "outputs": [
    {
     "name": "stdout",
     "output_type": "stream",
     "text": [
      "Model test Score: 0.851,  Model training Score: 0.973\n"
     ]
    }
   ],
   "source": [
    "print('Model test Score: %.3f, ' %bagginggclassifier.score(D_test, t_test),\n",
    "      'Model training Score: %.3f' %bagginggclassifier.score(D_train, t_train))"
   ]
  },
  {
   "cell_type": "markdown",
   "id": "73a7c403",
   "metadata": {},
   "source": [
    "# Boosting"
   ]
  },
  {
   "cell_type": "markdown",
   "id": "ef436424",
   "metadata": {},
   "source": [
    "Loading the Libraries"
   ]
  },
  {
   "cell_type": "code",
   "execution_count": 505,
   "id": "abf3caa7",
   "metadata": {},
   "outputs": [],
   "source": [
    "from sklearn.ensemble import AdaBoostClassifier"
   ]
  },
  {
   "cell_type": "markdown",
   "id": "9ecea513",
   "metadata": {},
   "source": [
    "Building the model"
   ]
  },
  {
   "cell_type": "code",
   "execution_count": 506,
   "id": "13033556",
   "metadata": {},
   "outputs": [],
   "source": [
    "BoostingClassifier = AdaBoostClassifier(n_estimators = 50, learning_rate = 0.2).fit(D_train, t_train)"
   ]
  },
  {
   "cell_type": "markdown",
   "id": "439b17e6",
   "metadata": {},
   "source": [
    "Testing the model with test data set"
   ]
  },
  {
   "cell_type": "code",
   "execution_count": 507,
   "id": "9719af20",
   "metadata": {},
   "outputs": [],
   "source": [
    "score = BoostingClassifier.score(D_test, t_test)"
   ]
  },
  {
   "cell_type": "markdown",
   "id": "cf333fc0",
   "metadata": {},
   "source": [
    "Result Accuracy"
   ]
  },
  {
   "cell_type": "code",
   "execution_count": 508,
   "id": "2c05927b",
   "metadata": {},
   "outputs": [
    {
     "name": "stdout",
     "output_type": "stream",
     "text": [
      "0.5936507936507937\n"
     ]
    }
   ],
   "source": [
    "print(score)"
   ]
  },
  {
   "cell_type": "markdown",
   "id": "43f07193",
   "metadata": {},
   "source": [
    "# Question 2"
   ]
  },
  {
   "cell_type": "markdown",
   "id": "0ee23758",
   "metadata": {},
   "source": [
    "# K-means"
   ]
  },
  {
   "cell_type": "markdown",
   "id": "c0e7a575",
   "metadata": {},
   "source": [
    "Importing libraries"
   ]
  },
  {
   "cell_type": "code",
   "execution_count": 509,
   "id": "18883452",
   "metadata": {},
   "outputs": [],
   "source": [
    "from sklearn.cluster import KMeans"
   ]
  },
  {
   "cell_type": "code",
   "execution_count": 510,
   "id": "4b1a26b7",
   "metadata": {},
   "outputs": [],
   "source": [
    "import matplotlib.pyplot as plt"
   ]
  },
  {
   "cell_type": "code",
   "execution_count": 511,
   "id": "1c3fd51d",
   "metadata": {},
   "outputs": [
    {
     "name": "stdout",
     "output_type": "stream",
     "text": [
      "<class 'pandas.core.frame.DataFrame'>\n",
      "RangeIndex: 1080 entries, 0 to 1079\n",
      "Data columns (total 82 columns):\n",
      " #   Column           Non-Null Count  Dtype  \n",
      "---  ------           --------------  -----  \n",
      " 0   MouseID          1080 non-null   object \n",
      " 1   DYRK1A_N         1077 non-null   float64\n",
      " 2   ITSN1_N          1077 non-null   float64\n",
      " 3   BDNF_N           1077 non-null   float64\n",
      " 4   NR1_N            1077 non-null   float64\n",
      " 5   NR2A_N           1077 non-null   float64\n",
      " 6   pAKT_N           1077 non-null   float64\n",
      " 7   pBRAF_N          1077 non-null   float64\n",
      " 8   pCAMKII_N        1077 non-null   float64\n",
      " 9   pCREB_N          1077 non-null   float64\n",
      " 10  pELK_N           1077 non-null   float64\n",
      " 11  pERK_N           1077 non-null   float64\n",
      " 12  pJNK_N           1077 non-null   float64\n",
      " 13  PKCA_N           1077 non-null   float64\n",
      " 14  pMEK_N           1077 non-null   float64\n",
      " 15  pNR1_N           1077 non-null   float64\n",
      " 16  pNR2A_N          1077 non-null   float64\n",
      " 17  pNR2B_N          1077 non-null   float64\n",
      " 18  pPKCAB_N         1077 non-null   float64\n",
      " 19  pRSK_N           1077 non-null   float64\n",
      " 20  AKT_N            1077 non-null   float64\n",
      " 21  BRAF_N           1077 non-null   float64\n",
      " 22  CAMKII_N         1077 non-null   float64\n",
      " 23  CREB_N           1077 non-null   float64\n",
      " 24  ELK_N            1062 non-null   float64\n",
      " 25  ERK_N            1077 non-null   float64\n",
      " 26  GSK3B_N          1077 non-null   float64\n",
      " 27  JNK_N            1077 non-null   float64\n",
      " 28  MEK_N            1073 non-null   float64\n",
      " 29  TRKA_N           1077 non-null   float64\n",
      " 30  RSK_N            1077 non-null   float64\n",
      " 31  APP_N            1077 non-null   float64\n",
      " 32  Bcatenin_N       1062 non-null   float64\n",
      " 33  SOD1_N           1077 non-null   float64\n",
      " 34  MTOR_N           1077 non-null   float64\n",
      " 35  P38_N            1077 non-null   float64\n",
      " 36  pMTOR_N          1077 non-null   float64\n",
      " 37  DSCR1_N          1077 non-null   float64\n",
      " 38  AMPKA_N          1077 non-null   float64\n",
      " 39  NR2B_N           1077 non-null   float64\n",
      " 40  pNUMB_N          1077 non-null   float64\n",
      " 41  RAPTOR_N         1077 non-null   float64\n",
      " 42  TIAM1_N          1077 non-null   float64\n",
      " 43  pP70S6_N         1077 non-null   float64\n",
      " 44  NUMB_N           1080 non-null   float64\n",
      " 45  P70S6_N          1080 non-null   float64\n",
      " 46  pGSK3B_N         1080 non-null   float64\n",
      " 47  pPKCG_N          1080 non-null   float64\n",
      " 48  CDK5_N           1080 non-null   float64\n",
      " 49  S6_N             1080 non-null   float64\n",
      " 50  ADARB1_N         1080 non-null   float64\n",
      " 51  AcetylH3K9_N     1080 non-null   float64\n",
      " 52  RRP1_N           1080 non-null   float64\n",
      " 53  BAX_N            1080 non-null   float64\n",
      " 54  ARC_N            1080 non-null   float64\n",
      " 55  ERBB4_N          1080 non-null   float64\n",
      " 56  nNOS_N           1080 non-null   float64\n",
      " 57  Tau_N            1080 non-null   float64\n",
      " 58  GFAP_N           1080 non-null   float64\n",
      " 59  GluR3_N          1080 non-null   float64\n",
      " 60  GluR4_N          1080 non-null   float64\n",
      " 61  IL1B_N           1080 non-null   float64\n",
      " 62  P3525_N          1080 non-null   float64\n",
      " 63  pCASP9_N         1080 non-null   float64\n",
      " 64  PSD95_N          1080 non-null   float64\n",
      " 65  SNCA_N           1080 non-null   float64\n",
      " 66  Ubiquitin_N      1080 non-null   float64\n",
      " 67  pGSK3B_Tyr216_N  1080 non-null   float64\n",
      " 68  SHH_N            1080 non-null   float64\n",
      " 69  BAD_N            867 non-null    float64\n",
      " 70  BCL2_N           795 non-null    float64\n",
      " 71  pS6_N            1080 non-null   float64\n",
      " 72  pCFOS_N          1005 non-null   float64\n",
      " 73  SYP_N            1080 non-null   float64\n",
      " 74  H3AcK18_N        900 non-null    float64\n",
      " 75  EGR1_N           870 non-null    float64\n",
      " 76  H3MeK4_N         810 non-null    float64\n",
      " 77  CaNA_N           1080 non-null   float64\n",
      " 78  Genotype         1080 non-null   object \n",
      " 79  Treatment        1080 non-null   object \n",
      " 80  Behavior         1080 non-null   object \n",
      " 81  class            1080 non-null   object \n",
      "dtypes: float64(77), object(5)\n",
      "memory usage: 692.0+ KB\n"
     ]
    }
   ],
   "source": [
    "data.info()"
   ]
  },
  {
   "cell_type": "code",
   "execution_count": 512,
   "id": "f54eff62",
   "metadata": {},
   "outputs": [
    {
     "data": {
      "text/plain": [
       "(1080, 82)"
      ]
     },
     "execution_count": 512,
     "metadata": {},
     "output_type": "execute_result"
    }
   ],
   "source": [
    "data.shape"
   ]
  },
  {
   "cell_type": "code",
   "execution_count": 513,
   "id": "c75d9fac",
   "metadata": {},
   "outputs": [
    {
     "data": {
      "text/plain": [
       "(1047, 77)"
      ]
     },
     "execution_count": 513,
     "metadata": {},
     "output_type": "execute_result"
    }
   ],
   "source": [
    "Data2.shape"
   ]
  },
  {
   "cell_type": "code",
   "execution_count": 514,
   "id": "65b2336c",
   "metadata": {},
   "outputs": [
    {
     "data": {
      "text/plain": [
       "DYRK1A_N    0\n",
       "ADARB1_N    0\n",
       "Tau_N       0\n",
       "nNOS_N      0\n",
       "ERBB4_N     0\n",
       "           ..\n",
       "GSK3B_N     0\n",
       "ERK_N       0\n",
       "ELK_N       0\n",
       "CREB_N      0\n",
       "CaNA_N      0\n",
       "Length: 77, dtype: int64"
      ]
     },
     "execution_count": 514,
     "metadata": {},
     "output_type": "execute_result"
    }
   ],
   "source": [
    "Data2.isnull().sum().sort_values(ascending=False)"
   ]
  },
  {
   "cell_type": "markdown",
   "id": "d5ff4c01",
   "metadata": {},
   "source": [
    "here I am going to review the following variables 'pCFOS_N', 'ELK_N' and 'Bcatenin_N'"
   ]
  },
  {
   "cell_type": "code",
   "execution_count": 515,
   "id": "87694368",
   "metadata": {},
   "outputs": [
    {
     "data": {
      "text/plain": [
       "count    1047.000000\n",
       "mean        0.131217\n",
       "std         0.023228\n",
       "min         0.085419\n",
       "25%         0.114180\n",
       "50%         0.128796\n",
       "75%         0.142786\n",
       "max         0.256529\n",
       "Name: pCFOS_N, dtype: float64"
      ]
     },
     "execution_count": 515,
     "metadata": {},
     "output_type": "execute_result"
    }
   ],
   "source": [
    "Data2['pCFOS_N'].describe()"
   ]
  },
  {
   "cell_type": "code",
   "execution_count": 516,
   "id": "a2c2923a",
   "metadata": {},
   "outputs": [
    {
     "data": {
      "text/plain": [
       "count    1047.000000\n",
       "mean        1.173229\n",
       "std         0.336822\n",
       "min         0.497695\n",
       "25%         0.943846\n",
       "50%         1.096470\n",
       "75%         1.324281\n",
       "max         2.802948\n",
       "Name: ELK_N, dtype: float64"
      ]
     },
     "execution_count": 516,
     "metadata": {},
     "output_type": "execute_result"
    }
   ],
   "source": [
    "Data2['ELK_N'].describe()"
   ]
  },
  {
   "cell_type": "code",
   "execution_count": 517,
   "id": "0a6fb0e1",
   "metadata": {},
   "outputs": [
    {
     "data": {
      "text/plain": [
       "count    1047.000000\n",
       "mean        2.147272\n",
       "std         0.438178\n",
       "min         1.134886\n",
       "25%         1.821846\n",
       "50%         2.117385\n",
       "75%         2.425756\n",
       "max         3.680552\n",
       "Name: Bcatenin_N, dtype: float64"
      ]
     },
     "execution_count": 517,
     "metadata": {},
     "output_type": "execute_result"
    }
   ],
   "source": [
    "Data2['Bcatenin_N'].describe()"
   ]
  },
  {
   "cell_type": "markdown",
   "id": "d3dd3b2a",
   "metadata": {},
   "source": [
    "again here I am going to replace null values in the variables with their respective mean values"
   ]
  },
  {
   "cell_type": "code",
   "execution_count": 518,
   "id": "330b8fdf",
   "metadata": {},
   "outputs": [],
   "source": [
    "data2 = Data2.fillna(Data2.mean())"
   ]
  },
  {
   "cell_type": "markdown",
   "id": "f202260c",
   "metadata": {},
   "source": [
    "Checking for duplicates"
   ]
  },
  {
   "cell_type": "code",
   "execution_count": 519,
   "id": "018d27d1",
   "metadata": {},
   "outputs": [],
   "source": [
    "duplicate = data2[data2.duplicated()]"
   ]
  },
  {
   "cell_type": "code",
   "execution_count": 520,
   "id": "54812b3b",
   "metadata": {},
   "outputs": [
    {
     "name": "stdout",
     "output_type": "stream",
     "text": [
      "Empty DataFrame\n",
      "Columns: [DYRK1A_N, ITSN1_N, BDNF_N, NR1_N, NR2A_N, pAKT_N, pBRAF_N, pCAMKII_N, pCREB_N, pELK_N, pERK_N, pJNK_N, PKCA_N, pMEK_N, pNR1_N, pNR2A_N, pNR2B_N, pPKCAB_N, pRSK_N, AKT_N, BRAF_N, CAMKII_N, CREB_N, ELK_N, ERK_N, GSK3B_N, JNK_N, MEK_N, TRKA_N, RSK_N, APP_N, Bcatenin_N, SOD1_N, MTOR_N, P38_N, pMTOR_N, DSCR1_N, AMPKA_N, NR2B_N, pNUMB_N, RAPTOR_N, TIAM1_N, pP70S6_N, NUMB_N, P70S6_N, pGSK3B_N, pPKCG_N, CDK5_N, S6_N, ADARB1_N, AcetylH3K9_N, RRP1_N, BAX_N, ARC_N, ERBB4_N, nNOS_N, Tau_N, GFAP_N, GluR3_N, GluR4_N, IL1B_N, P3525_N, pCASP9_N, PSD95_N, SNCA_N, Ubiquitin_N, pGSK3B_Tyr216_N, SHH_N, BAD_N, BCL2_N, pS6_N, pCFOS_N, SYP_N, H3AcK18_N, EGR1_N, H3MeK4_N, CaNA_N]\n",
      "Index: []\n",
      "\n",
      "[0 rows x 77 columns]\n"
     ]
    }
   ],
   "source": [
    "print(duplicate)"
   ]
  },
  {
   "cell_type": "code",
   "execution_count": 521,
   "id": "a26b290d",
   "metadata": {},
   "outputs": [
    {
     "data": {
      "text/html": [
       "<div>\n",
       "<style scoped>\n",
       "    .dataframe tbody tr th:only-of-type {\n",
       "        vertical-align: middle;\n",
       "    }\n",
       "\n",
       "    .dataframe tbody tr th {\n",
       "        vertical-align: top;\n",
       "    }\n",
       "\n",
       "    .dataframe thead th {\n",
       "        text-align: right;\n",
       "    }\n",
       "</style>\n",
       "<table border=\"1\" class=\"dataframe\">\n",
       "  <thead>\n",
       "    <tr style=\"text-align: right;\">\n",
       "      <th></th>\n",
       "      <th>DYRK1A_N</th>\n",
       "      <th>ITSN1_N</th>\n",
       "      <th>BDNF_N</th>\n",
       "      <th>NR1_N</th>\n",
       "      <th>NR2A_N</th>\n",
       "      <th>pAKT_N</th>\n",
       "      <th>pBRAF_N</th>\n",
       "      <th>pCAMKII_N</th>\n",
       "      <th>pCREB_N</th>\n",
       "      <th>pELK_N</th>\n",
       "      <th>...</th>\n",
       "      <th>SHH_N</th>\n",
       "      <th>BAD_N</th>\n",
       "      <th>BCL2_N</th>\n",
       "      <th>pS6_N</th>\n",
       "      <th>pCFOS_N</th>\n",
       "      <th>SYP_N</th>\n",
       "      <th>H3AcK18_N</th>\n",
       "      <th>EGR1_N</th>\n",
       "      <th>H3MeK4_N</th>\n",
       "      <th>CaNA_N</th>\n",
       "    </tr>\n",
       "  </thead>\n",
       "  <tbody>\n",
       "    <tr>\n",
       "      <th>count</th>\n",
       "      <td>1047.000000</td>\n",
       "      <td>1047.000000</td>\n",
       "      <td>1047.000000</td>\n",
       "      <td>1047.000000</td>\n",
       "      <td>1047.000000</td>\n",
       "      <td>1047.000000</td>\n",
       "      <td>1047.000000</td>\n",
       "      <td>1047.000000</td>\n",
       "      <td>1047.000000</td>\n",
       "      <td>1047.000000</td>\n",
       "      <td>...</td>\n",
       "      <td>1047.000000</td>\n",
       "      <td>1047.000000</td>\n",
       "      <td>1047.000000</td>\n",
       "      <td>1047.000000</td>\n",
       "      <td>1047.000000</td>\n",
       "      <td>1047.000000</td>\n",
       "      <td>1047.000000</td>\n",
       "      <td>1047.000000</td>\n",
       "      <td>1047.000000</td>\n",
       "      <td>1047.000000</td>\n",
       "    </tr>\n",
       "    <tr>\n",
       "      <th>mean</th>\n",
       "      <td>0.427687</td>\n",
       "      <td>0.620014</td>\n",
       "      <td>0.318123</td>\n",
       "      <td>2.295002</td>\n",
       "      <td>3.832375</td>\n",
       "      <td>0.234218</td>\n",
       "      <td>0.182666</td>\n",
       "      <td>3.524576</td>\n",
       "      <td>0.212881</td>\n",
       "      <td>1.434011</td>\n",
       "      <td>...</td>\n",
       "      <td>0.226391</td>\n",
       "      <td>0.157846</td>\n",
       "      <td>0.134860</td>\n",
       "      <td>0.121453</td>\n",
       "      <td>0.131217</td>\n",
       "      <td>0.445290</td>\n",
       "      <td>0.169441</td>\n",
       "      <td>0.182973</td>\n",
       "      <td>0.206040</td>\n",
       "      <td>1.337624</td>\n",
       "    </tr>\n",
       "    <tr>\n",
       "      <th>std</th>\n",
       "      <td>0.252001</td>\n",
       "      <td>0.253789</td>\n",
       "      <td>0.049609</td>\n",
       "      <td>0.350937</td>\n",
       "      <td>0.940742</td>\n",
       "      <td>0.040621</td>\n",
       "      <td>0.026130</td>\n",
       "      <td>1.292710</td>\n",
       "      <td>0.032878</td>\n",
       "      <td>0.470792</td>\n",
       "      <td>...</td>\n",
       "      <td>0.029277</td>\n",
       "      <td>0.026787</td>\n",
       "      <td>0.023822</td>\n",
       "      <td>0.014422</td>\n",
       "      <td>0.023228</td>\n",
       "      <td>0.066820</td>\n",
       "      <td>0.054707</td>\n",
       "      <td>0.036742</td>\n",
       "      <td>0.048506</td>\n",
       "      <td>0.320842</td>\n",
       "    </tr>\n",
       "    <tr>\n",
       "      <th>min</th>\n",
       "      <td>0.145327</td>\n",
       "      <td>0.245359</td>\n",
       "      <td>0.115181</td>\n",
       "      <td>1.330831</td>\n",
       "      <td>1.737540</td>\n",
       "      <td>0.121000</td>\n",
       "      <td>0.107649</td>\n",
       "      <td>1.343998</td>\n",
       "      <td>0.112812</td>\n",
       "      <td>0.429032</td>\n",
       "      <td>...</td>\n",
       "      <td>0.155869</td>\n",
       "      <td>0.088305</td>\n",
       "      <td>0.080657</td>\n",
       "      <td>0.067254</td>\n",
       "      <td>0.085419</td>\n",
       "      <td>0.258626</td>\n",
       "      <td>0.079691</td>\n",
       "      <td>0.105537</td>\n",
       "      <td>0.101787</td>\n",
       "      <td>0.586479</td>\n",
       "    </tr>\n",
       "    <tr>\n",
       "      <th>25%</th>\n",
       "      <td>0.289362</td>\n",
       "      <td>0.474829</td>\n",
       "      <td>0.286351</td>\n",
       "      <td>2.051919</td>\n",
       "      <td>3.142801</td>\n",
       "      <td>0.206456</td>\n",
       "      <td>0.165104</td>\n",
       "      <td>2.447517</td>\n",
       "      <td>0.190780</td>\n",
       "      <td>1.211245</td>\n",
       "      <td>...</td>\n",
       "      <td>0.205905</td>\n",
       "      <td>0.140572</td>\n",
       "      <td>0.119894</td>\n",
       "      <td>0.110404</td>\n",
       "      <td>0.114180</td>\n",
       "      <td>0.397362</td>\n",
       "      <td>0.133746</td>\n",
       "      <td>0.158551</td>\n",
       "      <td>0.174236</td>\n",
       "      <td>1.075982</td>\n",
       "    </tr>\n",
       "    <tr>\n",
       "      <th>50%</th>\n",
       "      <td>0.366378</td>\n",
       "      <td>0.567582</td>\n",
       "      <td>0.314915</td>\n",
       "      <td>2.291518</td>\n",
       "      <td>3.720282</td>\n",
       "      <td>0.231623</td>\n",
       "      <td>0.182758</td>\n",
       "      <td>3.326520</td>\n",
       "      <td>0.211084</td>\n",
       "      <td>1.358888</td>\n",
       "      <td>...</td>\n",
       "      <td>0.223363</td>\n",
       "      <td>0.157846</td>\n",
       "      <td>0.134860</td>\n",
       "      <td>0.121626</td>\n",
       "      <td>0.128796</td>\n",
       "      <td>0.447039</td>\n",
       "      <td>0.169441</td>\n",
       "      <td>0.182973</td>\n",
       "      <td>0.206040</td>\n",
       "      <td>1.316591</td>\n",
       "    </tr>\n",
       "    <tr>\n",
       "      <th>75%</th>\n",
       "      <td>0.488768</td>\n",
       "      <td>0.701982</td>\n",
       "      <td>0.346421</td>\n",
       "      <td>2.529050</td>\n",
       "      <td>4.404937</td>\n",
       "      <td>0.258180</td>\n",
       "      <td>0.197713</td>\n",
       "      <td>4.432086</td>\n",
       "      <td>0.234874</td>\n",
       "      <td>1.565268</td>\n",
       "      <td>...</td>\n",
       "      <td>0.241432</td>\n",
       "      <td>0.167896</td>\n",
       "      <td>0.140229</td>\n",
       "      <td>0.131967</td>\n",
       "      <td>0.142786</td>\n",
       "      <td>0.490714</td>\n",
       "      <td>0.185796</td>\n",
       "      <td>0.196485</td>\n",
       "      <td>0.219440</td>\n",
       "      <td>1.591482</td>\n",
       "    </tr>\n",
       "    <tr>\n",
       "      <th>max</th>\n",
       "      <td>2.516367</td>\n",
       "      <td>2.602662</td>\n",
       "      <td>0.497160</td>\n",
       "      <td>3.757641</td>\n",
       "      <td>8.482553</td>\n",
       "      <td>0.539050</td>\n",
       "      <td>0.317066</td>\n",
       "      <td>7.464070</td>\n",
       "      <td>0.306247</td>\n",
       "      <td>6.113347</td>\n",
       "      <td>...</td>\n",
       "      <td>0.358289</td>\n",
       "      <td>0.282016</td>\n",
       "      <td>0.261506</td>\n",
       "      <td>0.158748</td>\n",
       "      <td>0.256529</td>\n",
       "      <td>0.759588</td>\n",
       "      <td>0.479763</td>\n",
       "      <td>0.360692</td>\n",
       "      <td>0.413903</td>\n",
       "      <td>2.129791</td>\n",
       "    </tr>\n",
       "  </tbody>\n",
       "</table>\n",
       "<p>8 rows × 77 columns</p>\n",
       "</div>"
      ],
      "text/plain": [
       "          DYRK1A_N      ITSN1_N       BDNF_N        NR1_N       NR2A_N  \\\n",
       "count  1047.000000  1047.000000  1047.000000  1047.000000  1047.000000   \n",
       "mean      0.427687     0.620014     0.318123     2.295002     3.832375   \n",
       "std       0.252001     0.253789     0.049609     0.350937     0.940742   \n",
       "min       0.145327     0.245359     0.115181     1.330831     1.737540   \n",
       "25%       0.289362     0.474829     0.286351     2.051919     3.142801   \n",
       "50%       0.366378     0.567582     0.314915     2.291518     3.720282   \n",
       "75%       0.488768     0.701982     0.346421     2.529050     4.404937   \n",
       "max       2.516367     2.602662     0.497160     3.757641     8.482553   \n",
       "\n",
       "            pAKT_N      pBRAF_N    pCAMKII_N      pCREB_N       pELK_N  ...  \\\n",
       "count  1047.000000  1047.000000  1047.000000  1047.000000  1047.000000  ...   \n",
       "mean      0.234218     0.182666     3.524576     0.212881     1.434011  ...   \n",
       "std       0.040621     0.026130     1.292710     0.032878     0.470792  ...   \n",
       "min       0.121000     0.107649     1.343998     0.112812     0.429032  ...   \n",
       "25%       0.206456     0.165104     2.447517     0.190780     1.211245  ...   \n",
       "50%       0.231623     0.182758     3.326520     0.211084     1.358888  ...   \n",
       "75%       0.258180     0.197713     4.432086     0.234874     1.565268  ...   \n",
       "max       0.539050     0.317066     7.464070     0.306247     6.113347  ...   \n",
       "\n",
       "             SHH_N        BAD_N       BCL2_N        pS6_N      pCFOS_N  \\\n",
       "count  1047.000000  1047.000000  1047.000000  1047.000000  1047.000000   \n",
       "mean      0.226391     0.157846     0.134860     0.121453     0.131217   \n",
       "std       0.029277     0.026787     0.023822     0.014422     0.023228   \n",
       "min       0.155869     0.088305     0.080657     0.067254     0.085419   \n",
       "25%       0.205905     0.140572     0.119894     0.110404     0.114180   \n",
       "50%       0.223363     0.157846     0.134860     0.121626     0.128796   \n",
       "75%       0.241432     0.167896     0.140229     0.131967     0.142786   \n",
       "max       0.358289     0.282016     0.261506     0.158748     0.256529   \n",
       "\n",
       "             SYP_N    H3AcK18_N       EGR1_N     H3MeK4_N       CaNA_N  \n",
       "count  1047.000000  1047.000000  1047.000000  1047.000000  1047.000000  \n",
       "mean      0.445290     0.169441     0.182973     0.206040     1.337624  \n",
       "std       0.066820     0.054707     0.036742     0.048506     0.320842  \n",
       "min       0.258626     0.079691     0.105537     0.101787     0.586479  \n",
       "25%       0.397362     0.133746     0.158551     0.174236     1.075982  \n",
       "50%       0.447039     0.169441     0.182973     0.206040     1.316591  \n",
       "75%       0.490714     0.185796     0.196485     0.219440     1.591482  \n",
       "max       0.759588     0.479763     0.360692     0.413903     2.129791  \n",
       "\n",
       "[8 rows x 77 columns]"
      ]
     },
     "execution_count": 521,
     "metadata": {},
     "output_type": "execute_result"
    }
   ],
   "source": [
    "data2.describe()"
   ]
  },
  {
   "cell_type": "markdown",
   "id": "8a10b2dc",
   "metadata": {},
   "source": [
    "Here I am going to count the values of categorical variables"
   ]
  },
  {
   "cell_type": "code",
   "execution_count": 522,
   "id": "f389c0bf",
   "metadata": {},
   "outputs": [
    {
     "name": "stdout",
     "output_type": "stream",
     "text": [
      "c-CS-m    150\n",
      "c-SC-m    150\n",
      "t-CS-m    135\n",
      "t-SC-m    135\n",
      "t-SC-s    132\n",
      "c-CS-s    120\n",
      "c-SC-s    120\n",
      "t-CS-s    105\n",
      "Name: class, dtype: int64\n"
     ]
    }
   ],
   "source": [
    "print(PreparedData['class'].value_counts())"
   ]
  },
  {
   "cell_type": "markdown",
   "id": "9f7e9171",
   "metadata": {},
   "source": [
    "Preparing dataset to apply Clustering algorithm"
   ]
  },
  {
   "cell_type": "code",
   "execution_count": 523,
   "id": "a8e573ed",
   "metadata": {},
   "outputs": [],
   "source": [
    "X = PreparedData.drop('class',axis=1)"
   ]
  },
  {
   "cell_type": "code",
   "execution_count": 524,
   "id": "d974688a",
   "metadata": {},
   "outputs": [
    {
     "data": {
      "text/html": [
       "<div>\n",
       "<style scoped>\n",
       "    .dataframe tbody tr th:only-of-type {\n",
       "        vertical-align: middle;\n",
       "    }\n",
       "\n",
       "    .dataframe tbody tr th {\n",
       "        vertical-align: top;\n",
       "    }\n",
       "\n",
       "    .dataframe thead th {\n",
       "        text-align: right;\n",
       "    }\n",
       "</style>\n",
       "<table border=\"1\" class=\"dataframe\">\n",
       "  <thead>\n",
       "    <tr style=\"text-align: right;\">\n",
       "      <th></th>\n",
       "      <th>DYRK1A_N</th>\n",
       "      <th>ITSN1_N</th>\n",
       "      <th>BDNF_N</th>\n",
       "      <th>NR1_N</th>\n",
       "      <th>NR2A_N</th>\n",
       "      <th>pAKT_N</th>\n",
       "      <th>pBRAF_N</th>\n",
       "      <th>pCAMKII_N</th>\n",
       "      <th>pCREB_N</th>\n",
       "      <th>pELK_N</th>\n",
       "      <th>...</th>\n",
       "      <th>pCFOS_N</th>\n",
       "      <th>SYP_N</th>\n",
       "      <th>H3AcK18_N</th>\n",
       "      <th>EGR1_N</th>\n",
       "      <th>H3MeK4_N</th>\n",
       "      <th>CaNA_N</th>\n",
       "      <th>Genotype</th>\n",
       "      <th>Treatment</th>\n",
       "      <th>Behavior</th>\n",
       "      <th>class</th>\n",
       "    </tr>\n",
       "  </thead>\n",
       "  <tbody>\n",
       "    <tr>\n",
       "      <th>0</th>\n",
       "      <td>0.503644</td>\n",
       "      <td>0.747193</td>\n",
       "      <td>0.430175</td>\n",
       "      <td>2.816329</td>\n",
       "      <td>5.990152</td>\n",
       "      <td>0.218830</td>\n",
       "      <td>0.177565</td>\n",
       "      <td>2.373744</td>\n",
       "      <td>0.232224</td>\n",
       "      <td>1.750936</td>\n",
       "      <td>...</td>\n",
       "      <td>0.108336</td>\n",
       "      <td>0.427099</td>\n",
       "      <td>0.114783</td>\n",
       "      <td>0.131790</td>\n",
       "      <td>0.128186</td>\n",
       "      <td>1.675652</td>\n",
       "      <td>Control</td>\n",
       "      <td>Memantine</td>\n",
       "      <td>C/S</td>\n",
       "      <td>c-CS-m</td>\n",
       "    </tr>\n",
       "    <tr>\n",
       "      <th>1</th>\n",
       "      <td>0.514617</td>\n",
       "      <td>0.689064</td>\n",
       "      <td>0.411770</td>\n",
       "      <td>2.789514</td>\n",
       "      <td>5.685038</td>\n",
       "      <td>0.211636</td>\n",
       "      <td>0.172817</td>\n",
       "      <td>2.292150</td>\n",
       "      <td>0.226972</td>\n",
       "      <td>1.596377</td>\n",
       "      <td>...</td>\n",
       "      <td>0.104315</td>\n",
       "      <td>0.441581</td>\n",
       "      <td>0.111974</td>\n",
       "      <td>0.135103</td>\n",
       "      <td>0.131119</td>\n",
       "      <td>1.743610</td>\n",
       "      <td>Control</td>\n",
       "      <td>Memantine</td>\n",
       "      <td>C/S</td>\n",
       "      <td>c-CS-m</td>\n",
       "    </tr>\n",
       "    <tr>\n",
       "      <th>2</th>\n",
       "      <td>0.509183</td>\n",
       "      <td>0.730247</td>\n",
       "      <td>0.418309</td>\n",
       "      <td>2.687201</td>\n",
       "      <td>5.622059</td>\n",
       "      <td>0.209011</td>\n",
       "      <td>0.175722</td>\n",
       "      <td>2.283337</td>\n",
       "      <td>0.230247</td>\n",
       "      <td>1.561316</td>\n",
       "      <td>...</td>\n",
       "      <td>0.106219</td>\n",
       "      <td>0.435777</td>\n",
       "      <td>0.111883</td>\n",
       "      <td>0.133362</td>\n",
       "      <td>0.127431</td>\n",
       "      <td>1.926427</td>\n",
       "      <td>Control</td>\n",
       "      <td>Memantine</td>\n",
       "      <td>C/S</td>\n",
       "      <td>c-CS-m</td>\n",
       "    </tr>\n",
       "    <tr>\n",
       "      <th>3</th>\n",
       "      <td>0.442107</td>\n",
       "      <td>0.617076</td>\n",
       "      <td>0.358626</td>\n",
       "      <td>2.466947</td>\n",
       "      <td>4.979503</td>\n",
       "      <td>0.222886</td>\n",
       "      <td>0.176463</td>\n",
       "      <td>2.152301</td>\n",
       "      <td>0.207004</td>\n",
       "      <td>1.595086</td>\n",
       "      <td>...</td>\n",
       "      <td>0.111262</td>\n",
       "      <td>0.391691</td>\n",
       "      <td>0.130405</td>\n",
       "      <td>0.147444</td>\n",
       "      <td>0.146901</td>\n",
       "      <td>1.700563</td>\n",
       "      <td>Control</td>\n",
       "      <td>Memantine</td>\n",
       "      <td>C/S</td>\n",
       "      <td>c-CS-m</td>\n",
       "    </tr>\n",
       "    <tr>\n",
       "      <th>4</th>\n",
       "      <td>0.434940</td>\n",
       "      <td>0.617430</td>\n",
       "      <td>0.358802</td>\n",
       "      <td>2.365785</td>\n",
       "      <td>4.718679</td>\n",
       "      <td>0.213106</td>\n",
       "      <td>0.173627</td>\n",
       "      <td>2.134014</td>\n",
       "      <td>0.192158</td>\n",
       "      <td>1.504230</td>\n",
       "      <td>...</td>\n",
       "      <td>0.110694</td>\n",
       "      <td>0.434154</td>\n",
       "      <td>0.118481</td>\n",
       "      <td>0.140314</td>\n",
       "      <td>0.148380</td>\n",
       "      <td>1.839730</td>\n",
       "      <td>Control</td>\n",
       "      <td>Memantine</td>\n",
       "      <td>C/S</td>\n",
       "      <td>c-CS-m</td>\n",
       "    </tr>\n",
       "    <tr>\n",
       "      <th>...</th>\n",
       "      <td>...</td>\n",
       "      <td>...</td>\n",
       "      <td>...</td>\n",
       "      <td>...</td>\n",
       "      <td>...</td>\n",
       "      <td>...</td>\n",
       "      <td>...</td>\n",
       "      <td>...</td>\n",
       "      <td>...</td>\n",
       "      <td>...</td>\n",
       "      <td>...</td>\n",
       "      <td>...</td>\n",
       "      <td>...</td>\n",
       "      <td>...</td>\n",
       "      <td>...</td>\n",
       "      <td>...</td>\n",
       "      <td>...</td>\n",
       "      <td>...</td>\n",
       "      <td>...</td>\n",
       "      <td>...</td>\n",
       "      <td>...</td>\n",
       "    </tr>\n",
       "    <tr>\n",
       "      <th>1075</th>\n",
       "      <td>0.254860</td>\n",
       "      <td>0.463591</td>\n",
       "      <td>0.254860</td>\n",
       "      <td>2.092082</td>\n",
       "      <td>2.600035</td>\n",
       "      <td>0.211736</td>\n",
       "      <td>0.171262</td>\n",
       "      <td>2.483740</td>\n",
       "      <td>0.207317</td>\n",
       "      <td>1.057971</td>\n",
       "      <td>...</td>\n",
       "      <td>0.183324</td>\n",
       "      <td>0.374088</td>\n",
       "      <td>0.318782</td>\n",
       "      <td>0.204660</td>\n",
       "      <td>0.328327</td>\n",
       "      <td>1.364823</td>\n",
       "      <td>Ts65Dn</td>\n",
       "      <td>Saline</td>\n",
       "      <td>S/C</td>\n",
       "      <td>t-SC-s</td>\n",
       "    </tr>\n",
       "    <tr>\n",
       "      <th>1076</th>\n",
       "      <td>0.272198</td>\n",
       "      <td>0.474163</td>\n",
       "      <td>0.251638</td>\n",
       "      <td>2.161390</td>\n",
       "      <td>2.801492</td>\n",
       "      <td>0.251274</td>\n",
       "      <td>0.182496</td>\n",
       "      <td>2.512737</td>\n",
       "      <td>0.216339</td>\n",
       "      <td>1.081150</td>\n",
       "      <td>...</td>\n",
       "      <td>0.175674</td>\n",
       "      <td>0.375259</td>\n",
       "      <td>0.325639</td>\n",
       "      <td>0.200415</td>\n",
       "      <td>0.293435</td>\n",
       "      <td>1.364478</td>\n",
       "      <td>Ts65Dn</td>\n",
       "      <td>Saline</td>\n",
       "      <td>S/C</td>\n",
       "      <td>t-SC-s</td>\n",
       "    </tr>\n",
       "    <tr>\n",
       "      <th>1077</th>\n",
       "      <td>0.228700</td>\n",
       "      <td>0.395179</td>\n",
       "      <td>0.234118</td>\n",
       "      <td>1.733184</td>\n",
       "      <td>2.220852</td>\n",
       "      <td>0.220665</td>\n",
       "      <td>0.161435</td>\n",
       "      <td>1.989723</td>\n",
       "      <td>0.185164</td>\n",
       "      <td>0.884342</td>\n",
       "      <td>...</td>\n",
       "      <td>0.158296</td>\n",
       "      <td>0.422121</td>\n",
       "      <td>0.321306</td>\n",
       "      <td>0.229193</td>\n",
       "      <td>0.355213</td>\n",
       "      <td>1.430825</td>\n",
       "      <td>Ts65Dn</td>\n",
       "      <td>Saline</td>\n",
       "      <td>S/C</td>\n",
       "      <td>t-SC-s</td>\n",
       "    </tr>\n",
       "    <tr>\n",
       "      <th>1078</th>\n",
       "      <td>0.221242</td>\n",
       "      <td>0.412894</td>\n",
       "      <td>0.243974</td>\n",
       "      <td>1.876347</td>\n",
       "      <td>2.384088</td>\n",
       "      <td>0.208897</td>\n",
       "      <td>0.173623</td>\n",
       "      <td>2.086028</td>\n",
       "      <td>0.192044</td>\n",
       "      <td>0.922595</td>\n",
       "      <td>...</td>\n",
       "      <td>0.196296</td>\n",
       "      <td>0.397676</td>\n",
       "      <td>0.335936</td>\n",
       "      <td>0.251317</td>\n",
       "      <td>0.365353</td>\n",
       "      <td>1.404031</td>\n",
       "      <td>Ts65Dn</td>\n",
       "      <td>Saline</td>\n",
       "      <td>S/C</td>\n",
       "      <td>t-SC-s</td>\n",
       "    </tr>\n",
       "    <tr>\n",
       "      <th>1079</th>\n",
       "      <td>0.302626</td>\n",
       "      <td>0.461059</td>\n",
       "      <td>0.256564</td>\n",
       "      <td>2.092790</td>\n",
       "      <td>2.594348</td>\n",
       "      <td>0.251001</td>\n",
       "      <td>0.191811</td>\n",
       "      <td>2.361816</td>\n",
       "      <td>0.223632</td>\n",
       "      <td>1.064085</td>\n",
       "      <td>...</td>\n",
       "      <td>0.187556</td>\n",
       "      <td>0.420347</td>\n",
       "      <td>0.335062</td>\n",
       "      <td>0.252995</td>\n",
       "      <td>0.365278</td>\n",
       "      <td>1.370999</td>\n",
       "      <td>Ts65Dn</td>\n",
       "      <td>Saline</td>\n",
       "      <td>S/C</td>\n",
       "      <td>t-SC-s</td>\n",
       "    </tr>\n",
       "  </tbody>\n",
       "</table>\n",
       "<p>1047 rows × 81 columns</p>\n",
       "</div>"
      ],
      "text/plain": [
       "      DYRK1A_N   ITSN1_N    BDNF_N     NR1_N    NR2A_N    pAKT_N   pBRAF_N  \\\n",
       "0     0.503644  0.747193  0.430175  2.816329  5.990152  0.218830  0.177565   \n",
       "1     0.514617  0.689064  0.411770  2.789514  5.685038  0.211636  0.172817   \n",
       "2     0.509183  0.730247  0.418309  2.687201  5.622059  0.209011  0.175722   \n",
       "3     0.442107  0.617076  0.358626  2.466947  4.979503  0.222886  0.176463   \n",
       "4     0.434940  0.617430  0.358802  2.365785  4.718679  0.213106  0.173627   \n",
       "...        ...       ...       ...       ...       ...       ...       ...   \n",
       "1075  0.254860  0.463591  0.254860  2.092082  2.600035  0.211736  0.171262   \n",
       "1076  0.272198  0.474163  0.251638  2.161390  2.801492  0.251274  0.182496   \n",
       "1077  0.228700  0.395179  0.234118  1.733184  2.220852  0.220665  0.161435   \n",
       "1078  0.221242  0.412894  0.243974  1.876347  2.384088  0.208897  0.173623   \n",
       "1079  0.302626  0.461059  0.256564  2.092790  2.594348  0.251001  0.191811   \n",
       "\n",
       "      pCAMKII_N   pCREB_N    pELK_N  ...   pCFOS_N     SYP_N  H3AcK18_N  \\\n",
       "0      2.373744  0.232224  1.750936  ...  0.108336  0.427099   0.114783   \n",
       "1      2.292150  0.226972  1.596377  ...  0.104315  0.441581   0.111974   \n",
       "2      2.283337  0.230247  1.561316  ...  0.106219  0.435777   0.111883   \n",
       "3      2.152301  0.207004  1.595086  ...  0.111262  0.391691   0.130405   \n",
       "4      2.134014  0.192158  1.504230  ...  0.110694  0.434154   0.118481   \n",
       "...         ...       ...       ...  ...       ...       ...        ...   \n",
       "1075   2.483740  0.207317  1.057971  ...  0.183324  0.374088   0.318782   \n",
       "1076   2.512737  0.216339  1.081150  ...  0.175674  0.375259   0.325639   \n",
       "1077   1.989723  0.185164  0.884342  ...  0.158296  0.422121   0.321306   \n",
       "1078   2.086028  0.192044  0.922595  ...  0.196296  0.397676   0.335936   \n",
       "1079   2.361816  0.223632  1.064085  ...  0.187556  0.420347   0.335062   \n",
       "\n",
       "        EGR1_N  H3MeK4_N    CaNA_N  Genotype  Treatment  Behavior   class  \n",
       "0     0.131790  0.128186  1.675652   Control  Memantine       C/S  c-CS-m  \n",
       "1     0.135103  0.131119  1.743610   Control  Memantine       C/S  c-CS-m  \n",
       "2     0.133362  0.127431  1.926427   Control  Memantine       C/S  c-CS-m  \n",
       "3     0.147444  0.146901  1.700563   Control  Memantine       C/S  c-CS-m  \n",
       "4     0.140314  0.148380  1.839730   Control  Memantine       C/S  c-CS-m  \n",
       "...        ...       ...       ...       ...        ...       ...     ...  \n",
       "1075  0.204660  0.328327  1.364823    Ts65Dn     Saline       S/C  t-SC-s  \n",
       "1076  0.200415  0.293435  1.364478    Ts65Dn     Saline       S/C  t-SC-s  \n",
       "1077  0.229193  0.355213  1.430825    Ts65Dn     Saline       S/C  t-SC-s  \n",
       "1078  0.251317  0.365353  1.404031    Ts65Dn     Saline       S/C  t-SC-s  \n",
       "1079  0.252995  0.365278  1.370999    Ts65Dn     Saline       S/C  t-SC-s  \n",
       "\n",
       "[1047 rows x 81 columns]"
      ]
     },
     "execution_count": 524,
     "metadata": {},
     "output_type": "execute_result"
    }
   ],
   "source": [
    "PreparedData"
   ]
  },
  {
   "cell_type": "code",
   "execution_count": 525,
   "id": "24986e74",
   "metadata": {},
   "outputs": [],
   "source": [
    "y1 = PreparedData[['class']]"
   ]
  },
  {
   "cell_type": "markdown",
   "id": "35b033f0",
   "metadata": {},
   "source": [
    "Encoding categorical variables"
   ]
  },
  {
   "cell_type": "code",
   "execution_count": 526,
   "id": "029e59bf",
   "metadata": {},
   "outputs": [],
   "source": [
    "classes = {\"class\":     {\"c-CS-m\": 0, \"c-SC-m\": 1, 'c-CS-s': 2, 'c-SC-s': 3, 't-CS-m':4, 't-SC-m':5,\n",
    "                            't-SC-s':6, 't-CS-s':7}}"
   ]
  },
  {
   "cell_type": "code",
   "execution_count": 527,
   "id": "855031d4",
   "metadata": {},
   "outputs": [],
   "source": [
    "y = y1.replace(classes)"
   ]
  },
  {
   "cell_type": "code",
   "execution_count": 528,
   "id": "6f17aa06",
   "metadata": {},
   "outputs": [],
   "source": [
    "y = pd.DataFrame(y)"
   ]
  },
  {
   "cell_type": "code",
   "execution_count": 529,
   "id": "0ca4aecb",
   "metadata": {},
   "outputs": [
    {
     "data": {
      "text/html": [
       "<div>\n",
       "<style scoped>\n",
       "    .dataframe tbody tr th:only-of-type {\n",
       "        vertical-align: middle;\n",
       "    }\n",
       "\n",
       "    .dataframe tbody tr th {\n",
       "        vertical-align: top;\n",
       "    }\n",
       "\n",
       "    .dataframe thead th {\n",
       "        text-align: right;\n",
       "    }\n",
       "</style>\n",
       "<table border=\"1\" class=\"dataframe\">\n",
       "  <thead>\n",
       "    <tr style=\"text-align: right;\">\n",
       "      <th></th>\n",
       "      <th>index</th>\n",
       "      <th>class</th>\n",
       "    </tr>\n",
       "  </thead>\n",
       "  <tbody>\n",
       "    <tr>\n",
       "      <th>0</th>\n",
       "      <td>0</td>\n",
       "      <td>0</td>\n",
       "    </tr>\n",
       "    <tr>\n",
       "      <th>1</th>\n",
       "      <td>1</td>\n",
       "      <td>0</td>\n",
       "    </tr>\n",
       "    <tr>\n",
       "      <th>2</th>\n",
       "      <td>2</td>\n",
       "      <td>0</td>\n",
       "    </tr>\n",
       "    <tr>\n",
       "      <th>3</th>\n",
       "      <td>3</td>\n",
       "      <td>0</td>\n",
       "    </tr>\n",
       "    <tr>\n",
       "      <th>4</th>\n",
       "      <td>4</td>\n",
       "      <td>0</td>\n",
       "    </tr>\n",
       "    <tr>\n",
       "      <th>...</th>\n",
       "      <td>...</td>\n",
       "      <td>...</td>\n",
       "    </tr>\n",
       "    <tr>\n",
       "      <th>1042</th>\n",
       "      <td>1075</td>\n",
       "      <td>6</td>\n",
       "    </tr>\n",
       "    <tr>\n",
       "      <th>1043</th>\n",
       "      <td>1076</td>\n",
       "      <td>6</td>\n",
       "    </tr>\n",
       "    <tr>\n",
       "      <th>1044</th>\n",
       "      <td>1077</td>\n",
       "      <td>6</td>\n",
       "    </tr>\n",
       "    <tr>\n",
       "      <th>1045</th>\n",
       "      <td>1078</td>\n",
       "      <td>6</td>\n",
       "    </tr>\n",
       "    <tr>\n",
       "      <th>1046</th>\n",
       "      <td>1079</td>\n",
       "      <td>6</td>\n",
       "    </tr>\n",
       "  </tbody>\n",
       "</table>\n",
       "<p>1047 rows × 2 columns</p>\n",
       "</div>"
      ],
      "text/plain": [
       "      index  class\n",
       "0         0      0\n",
       "1         1      0\n",
       "2         2      0\n",
       "3         3      0\n",
       "4         4      0\n",
       "...     ...    ...\n",
       "1042   1075      6\n",
       "1043   1076      6\n",
       "1044   1077      6\n",
       "1045   1078      6\n",
       "1046   1079      6\n",
       "\n",
       "[1047 rows x 2 columns]"
      ]
     },
     "execution_count": 529,
     "metadata": {},
     "output_type": "execute_result"
    }
   ],
   "source": [
    "y.reset_index()"
   ]
  },
  {
   "cell_type": "code",
   "execution_count": 530,
   "id": "569bf250",
   "metadata": {},
   "outputs": [
    {
     "data": {
      "text/plain": [
       "0    150\n",
       "1    150\n",
       "4    135\n",
       "5    135\n",
       "6    132\n",
       "2    120\n",
       "3    120\n",
       "7    105\n",
       "Name: class, dtype: int64"
      ]
     },
     "execution_count": 530,
     "metadata": {},
     "output_type": "execute_result"
    }
   ],
   "source": [
    "y['class'].value_counts()"
   ]
  },
  {
   "cell_type": "markdown",
   "id": "81df3856",
   "metadata": {},
   "source": [
    "For the independent variables in dataframe I used the get_dummies method to prepare the categorical data"
   ]
  },
  {
   "cell_type": "code",
   "execution_count": 531,
   "id": "d93a021b",
   "metadata": {},
   "outputs": [],
   "source": [
    "X = pd.get_dummies(data=X,columns=[\"Treatment\",\"Behavior\", \"Genotype\"])"
   ]
  },
  {
   "cell_type": "code",
   "execution_count": 532,
   "id": "661bd6d7",
   "metadata": {},
   "outputs": [
    {
     "name": "stdout",
     "output_type": "stream",
     "text": [
      "<class 'pandas.core.frame.DataFrame'>\n",
      "Int64Index: 1047 entries, 0 to 1079\n",
      "Data columns (total 83 columns):\n",
      " #   Column               Non-Null Count  Dtype  \n",
      "---  ------               --------------  -----  \n",
      " 0   DYRK1A_N             1047 non-null   float64\n",
      " 1   ITSN1_N              1047 non-null   float64\n",
      " 2   BDNF_N               1047 non-null   float64\n",
      " 3   NR1_N                1047 non-null   float64\n",
      " 4   NR2A_N               1047 non-null   float64\n",
      " 5   pAKT_N               1047 non-null   float64\n",
      " 6   pBRAF_N              1047 non-null   float64\n",
      " 7   pCAMKII_N            1047 non-null   float64\n",
      " 8   pCREB_N              1047 non-null   float64\n",
      " 9   pELK_N               1047 non-null   float64\n",
      " 10  pERK_N               1047 non-null   float64\n",
      " 11  pJNK_N               1047 non-null   float64\n",
      " 12  PKCA_N               1047 non-null   float64\n",
      " 13  pMEK_N               1047 non-null   float64\n",
      " 14  pNR1_N               1047 non-null   float64\n",
      " 15  pNR2A_N              1047 non-null   float64\n",
      " 16  pNR2B_N              1047 non-null   float64\n",
      " 17  pPKCAB_N             1047 non-null   float64\n",
      " 18  pRSK_N               1047 non-null   float64\n",
      " 19  AKT_N                1047 non-null   float64\n",
      " 20  BRAF_N               1047 non-null   float64\n",
      " 21  CAMKII_N             1047 non-null   float64\n",
      " 22  CREB_N               1047 non-null   float64\n",
      " 23  ELK_N                1047 non-null   float64\n",
      " 24  ERK_N                1047 non-null   float64\n",
      " 25  GSK3B_N              1047 non-null   float64\n",
      " 26  JNK_N                1047 non-null   float64\n",
      " 27  MEK_N                1047 non-null   float64\n",
      " 28  TRKA_N               1047 non-null   float64\n",
      " 29  RSK_N                1047 non-null   float64\n",
      " 30  APP_N                1047 non-null   float64\n",
      " 31  Bcatenin_N           1047 non-null   float64\n",
      " 32  SOD1_N               1047 non-null   float64\n",
      " 33  MTOR_N               1047 non-null   float64\n",
      " 34  P38_N                1047 non-null   float64\n",
      " 35  pMTOR_N              1047 non-null   float64\n",
      " 36  DSCR1_N              1047 non-null   float64\n",
      " 37  AMPKA_N              1047 non-null   float64\n",
      " 38  NR2B_N               1047 non-null   float64\n",
      " 39  pNUMB_N              1047 non-null   float64\n",
      " 40  RAPTOR_N             1047 non-null   float64\n",
      " 41  TIAM1_N              1047 non-null   float64\n",
      " 42  pP70S6_N             1047 non-null   float64\n",
      " 43  NUMB_N               1047 non-null   float64\n",
      " 44  P70S6_N              1047 non-null   float64\n",
      " 45  pGSK3B_N             1047 non-null   float64\n",
      " 46  pPKCG_N              1047 non-null   float64\n",
      " 47  CDK5_N               1047 non-null   float64\n",
      " 48  S6_N                 1047 non-null   float64\n",
      " 49  ADARB1_N             1047 non-null   float64\n",
      " 50  AcetylH3K9_N         1047 non-null   float64\n",
      " 51  RRP1_N               1047 non-null   float64\n",
      " 52  BAX_N                1047 non-null   float64\n",
      " 53  ARC_N                1047 non-null   float64\n",
      " 54  ERBB4_N              1047 non-null   float64\n",
      " 55  nNOS_N               1047 non-null   float64\n",
      " 56  Tau_N                1047 non-null   float64\n",
      " 57  GFAP_N               1047 non-null   float64\n",
      " 58  GluR3_N              1047 non-null   float64\n",
      " 59  GluR4_N              1047 non-null   float64\n",
      " 60  IL1B_N               1047 non-null   float64\n",
      " 61  P3525_N              1047 non-null   float64\n",
      " 62  pCASP9_N             1047 non-null   float64\n",
      " 63  PSD95_N              1047 non-null   float64\n",
      " 64  SNCA_N               1047 non-null   float64\n",
      " 65  Ubiquitin_N          1047 non-null   float64\n",
      " 66  pGSK3B_Tyr216_N      1047 non-null   float64\n",
      " 67  SHH_N                1047 non-null   float64\n",
      " 68  BAD_N                1047 non-null   float64\n",
      " 69  BCL2_N               1047 non-null   float64\n",
      " 70  pS6_N                1047 non-null   float64\n",
      " 71  pCFOS_N              1047 non-null   float64\n",
      " 72  SYP_N                1047 non-null   float64\n",
      " 73  H3AcK18_N            1047 non-null   float64\n",
      " 74  EGR1_N               1047 non-null   float64\n",
      " 75  H3MeK4_N             1047 non-null   float64\n",
      " 76  CaNA_N               1047 non-null   float64\n",
      " 77  Treatment_Memantine  1047 non-null   uint8  \n",
      " 78  Treatment_Saline     1047 non-null   uint8  \n",
      " 79  Behavior_C/S         1047 non-null   uint8  \n",
      " 80  Behavior_S/C         1047 non-null   uint8  \n",
      " 81  Genotype_Control     1047 non-null   uint8  \n",
      " 82  Genotype_Ts65Dn      1047 non-null   uint8  \n",
      "dtypes: float64(77), uint8(6)\n",
      "memory usage: 644.2 KB\n"
     ]
    }
   ],
   "source": [
    "X.info()"
   ]
  },
  {
   "cell_type": "code",
   "execution_count": 533,
   "id": "9f324b1b",
   "metadata": {},
   "outputs": [],
   "source": [
    "from sklearn.cluster import KMeans"
   ]
  },
  {
   "cell_type": "code",
   "execution_count": 534,
   "id": "85d0c779",
   "metadata": {},
   "outputs": [],
   "source": [
    "from sklearn.preprocessing import MinMaxScaler"
   ]
  },
  {
   "cell_type": "markdown",
   "id": "ff7b50cc",
   "metadata": {},
   "source": [
    "I am going to check the best number of clusters"
   ]
  },
  {
   "cell_type": "markdown",
   "id": "15a21f5e",
   "metadata": {},
   "source": [
    "First ishould Scale my data because it seems that data are far from each other and scaling is the technique to make them closer to each other and making the data generalized."
   ]
  },
  {
   "cell_type": "code",
   "execution_count": 535,
   "id": "34e8d94b",
   "metadata": {},
   "outputs": [],
   "source": [
    "scaling = MinMaxScaler()"
   ]
  },
  {
   "cell_type": "code",
   "execution_count": 536,
   "id": "e01f2ba4",
   "metadata": {},
   "outputs": [],
   "source": [
    "df_scaled = scaling.fit_transform(X)"
   ]
  },
  {
   "cell_type": "code",
   "execution_count": 537,
   "id": "f74706c8",
   "metadata": {},
   "outputs": [],
   "source": [
    "df_scaled = pd.DataFrame(df_scaled)"
   ]
  },
  {
   "cell_type": "code",
   "execution_count": 538,
   "id": "d14f8db4",
   "metadata": {},
   "outputs": [
    {
     "data": {
      "text/html": [
       "<div>\n",
       "<style scoped>\n",
       "    .dataframe tbody tr th:only-of-type {\n",
       "        vertical-align: middle;\n",
       "    }\n",
       "\n",
       "    .dataframe tbody tr th {\n",
       "        vertical-align: top;\n",
       "    }\n",
       "\n",
       "    .dataframe thead th {\n",
       "        text-align: right;\n",
       "    }\n",
       "</style>\n",
       "<table border=\"1\" class=\"dataframe\">\n",
       "  <thead>\n",
       "    <tr style=\"text-align: right;\">\n",
       "      <th></th>\n",
       "      <th>0</th>\n",
       "      <th>1</th>\n",
       "      <th>2</th>\n",
       "      <th>3</th>\n",
       "      <th>4</th>\n",
       "      <th>5</th>\n",
       "      <th>6</th>\n",
       "      <th>7</th>\n",
       "      <th>8</th>\n",
       "      <th>9</th>\n",
       "      <th>...</th>\n",
       "      <th>73</th>\n",
       "      <th>74</th>\n",
       "      <th>75</th>\n",
       "      <th>76</th>\n",
       "      <th>77</th>\n",
       "      <th>78</th>\n",
       "      <th>79</th>\n",
       "      <th>80</th>\n",
       "      <th>81</th>\n",
       "      <th>82</th>\n",
       "    </tr>\n",
       "  </thead>\n",
       "  <tbody>\n",
       "    <tr>\n",
       "      <th>0</th>\n",
       "      <td>0.151122</td>\n",
       "      <td>0.212885</td>\n",
       "      <td>0.824638</td>\n",
       "      <td>0.612119</td>\n",
       "      <td>0.630482</td>\n",
       "      <td>0.234015</td>\n",
       "      <td>0.333862</td>\n",
       "      <td>0.168257</td>\n",
       "      <td>0.617322</td>\n",
       "      <td>0.232553</td>\n",
       "      <td>...</td>\n",
       "      <td>0.087715</td>\n",
       "      <td>0.102890</td>\n",
       "      <td>0.084580</td>\n",
       "      <td>0.705738</td>\n",
       "      <td>1.0</td>\n",
       "      <td>0.0</td>\n",
       "      <td>1.0</td>\n",
       "      <td>0.0</td>\n",
       "      <td>1.0</td>\n",
       "      <td>0.0</td>\n",
       "    </tr>\n",
       "    <tr>\n",
       "      <th>1</th>\n",
       "      <td>0.155750</td>\n",
       "      <td>0.188226</td>\n",
       "      <td>0.776455</td>\n",
       "      <td>0.601070</td>\n",
       "      <td>0.585247</td>\n",
       "      <td>0.216807</td>\n",
       "      <td>0.311188</td>\n",
       "      <td>0.154925</td>\n",
       "      <td>0.590173</td>\n",
       "      <td>0.205362</td>\n",
       "      <td>...</td>\n",
       "      <td>0.080692</td>\n",
       "      <td>0.115874</td>\n",
       "      <td>0.093977</td>\n",
       "      <td>0.749771</td>\n",
       "      <td>1.0</td>\n",
       "      <td>0.0</td>\n",
       "      <td>1.0</td>\n",
       "      <td>0.0</td>\n",
       "      <td>1.0</td>\n",
       "      <td>0.0</td>\n",
       "    </tr>\n",
       "    <tr>\n",
       "      <th>2</th>\n",
       "      <td>0.153459</td>\n",
       "      <td>0.205696</td>\n",
       "      <td>0.793572</td>\n",
       "      <td>0.558911</td>\n",
       "      <td>0.575910</td>\n",
       "      <td>0.210527</td>\n",
       "      <td>0.325060</td>\n",
       "      <td>0.153485</td>\n",
       "      <td>0.607102</td>\n",
       "      <td>0.199194</td>\n",
       "      <td>...</td>\n",
       "      <td>0.080465</td>\n",
       "      <td>0.109050</td>\n",
       "      <td>0.082162</td>\n",
       "      <td>0.868229</td>\n",
       "      <td>1.0</td>\n",
       "      <td>0.0</td>\n",
       "      <td>1.0</td>\n",
       "      <td>0.0</td>\n",
       "      <td>1.0</td>\n",
       "      <td>0.0</td>\n",
       "    </tr>\n",
       "    <tr>\n",
       "      <th>3</th>\n",
       "      <td>0.125169</td>\n",
       "      <td>0.157688</td>\n",
       "      <td>0.637326</td>\n",
       "      <td>0.468152</td>\n",
       "      <td>0.480646</td>\n",
       "      <td>0.243717</td>\n",
       "      <td>0.328596</td>\n",
       "      <td>0.132074</td>\n",
       "      <td>0.486945</td>\n",
       "      <td>0.205135</td>\n",
       "      <td>...</td>\n",
       "      <td>0.126763</td>\n",
       "      <td>0.164241</td>\n",
       "      <td>0.144543</td>\n",
       "      <td>0.721879</td>\n",
       "      <td>1.0</td>\n",
       "      <td>0.0</td>\n",
       "      <td>1.0</td>\n",
       "      <td>0.0</td>\n",
       "      <td>1.0</td>\n",
       "      <td>0.0</td>\n",
       "    </tr>\n",
       "    <tr>\n",
       "      <th>4</th>\n",
       "      <td>0.122146</td>\n",
       "      <td>0.157838</td>\n",
       "      <td>0.637787</td>\n",
       "      <td>0.426467</td>\n",
       "      <td>0.441977</td>\n",
       "      <td>0.220323</td>\n",
       "      <td>0.315055</td>\n",
       "      <td>0.129086</td>\n",
       "      <td>0.410194</td>\n",
       "      <td>0.189152</td>\n",
       "      <td>...</td>\n",
       "      <td>0.096959</td>\n",
       "      <td>0.136298</td>\n",
       "      <td>0.149281</td>\n",
       "      <td>0.812053</td>\n",
       "      <td>1.0</td>\n",
       "      <td>0.0</td>\n",
       "      <td>1.0</td>\n",
       "      <td>0.0</td>\n",
       "      <td>1.0</td>\n",
       "      <td>0.0</td>\n",
       "    </tr>\n",
       "  </tbody>\n",
       "</table>\n",
       "<p>5 rows × 83 columns</p>\n",
       "</div>"
      ],
      "text/plain": [
       "         0         1         2         3         4         5         6   \\\n",
       "0  0.151122  0.212885  0.824638  0.612119  0.630482  0.234015  0.333862   \n",
       "1  0.155750  0.188226  0.776455  0.601070  0.585247  0.216807  0.311188   \n",
       "2  0.153459  0.205696  0.793572  0.558911  0.575910  0.210527  0.325060   \n",
       "3  0.125169  0.157688  0.637326  0.468152  0.480646  0.243717  0.328596   \n",
       "4  0.122146  0.157838  0.637787  0.426467  0.441977  0.220323  0.315055   \n",
       "\n",
       "         7         8         9   ...        73        74        75        76  \\\n",
       "0  0.168257  0.617322  0.232553  ...  0.087715  0.102890  0.084580  0.705738   \n",
       "1  0.154925  0.590173  0.205362  ...  0.080692  0.115874  0.093977  0.749771   \n",
       "2  0.153485  0.607102  0.199194  ...  0.080465  0.109050  0.082162  0.868229   \n",
       "3  0.132074  0.486945  0.205135  ...  0.126763  0.164241  0.144543  0.721879   \n",
       "4  0.129086  0.410194  0.189152  ...  0.096959  0.136298  0.149281  0.812053   \n",
       "\n",
       "    77   78   79   80   81   82  \n",
       "0  1.0  0.0  1.0  0.0  1.0  0.0  \n",
       "1  1.0  0.0  1.0  0.0  1.0  0.0  \n",
       "2  1.0  0.0  1.0  0.0  1.0  0.0  \n",
       "3  1.0  0.0  1.0  0.0  1.0  0.0  \n",
       "4  1.0  0.0  1.0  0.0  1.0  0.0  \n",
       "\n",
       "[5 rows x 83 columns]"
      ]
     },
     "execution_count": 538,
     "metadata": {},
     "output_type": "execute_result"
    }
   ],
   "source": [
    "df_scaled.head()"
   ]
  },
  {
   "cell_type": "code",
   "execution_count": 539,
   "id": "36da5a2f",
   "metadata": {},
   "outputs": [],
   "source": [
    "silo = []"
   ]
  },
  {
   "cell_type": "markdown",
   "id": "f8a00eaf",
   "metadata": {},
   "source": [
    "then, I checked the best silhouette score using Elbow Method on the df_sclaed dataframe."
   ]
  },
  {
   "cell_type": "code",
   "execution_count": 540,
   "id": "0e3aa7d5",
   "metadata": {},
   "outputs": [],
   "source": [
    "from sklearn.metrics import silhouette_score"
   ]
  },
  {
   "cell_type": "code",
   "execution_count": 541,
   "id": "927afed7",
   "metadata": {},
   "outputs": [],
   "source": [
    "for counter in [2,3,4,5,6,7,8,9,10]:\n",
    "    Kmea = KMeans(n_clusters=counter, init = 'k-means++', n_init=10, max_iter=100, random_state=42)\n",
    "    Kmea.fit(df_scaled)\n",
    "    silo.append(silhouette_score(df_scaled, Kmea.predict(df_scaled)))"
   ]
  },
  {
   "cell_type": "markdown",
   "id": "6da852b5",
   "metadata": {},
   "source": [
    "I am checking the best silhouette score using Elbow Method on the df_sclaed dataframe"
   ]
  },
  {
   "cell_type": "code",
   "execution_count": 542,
   "id": "3a7dc370",
   "metadata": {},
   "outputs": [
    {
     "data": {
      "image/png": "[encoded data removed]",
      "text/plain": [
       "<Figure size 864x432 with 1 Axes>"
      ]
     },
     "metadata": {
      "needs_background": "light"
     },
     "output_type": "display_data"
    }
   ],
   "source": [
    "plt.figure(figsize=(12,6))\n",
    "plt.grid()\n",
    "plt.plot([2,3,4,5,6,7,8,9,10], silo, linewidth=2, color='brown', marker = '8')\n",
    "plt.xlabel('K number')\n",
    "plt.ylabel('Score')\n",
    "plt.title('Elbow ', fontsize=18)\n",
    "plt.show()"
   ]
  },
  {
   "cell_type": "markdown",
   "id": "cdaa46cc",
   "metadata": {},
   "source": [
    "Based on the above I clearly see that the highest Silhouette Score I can get while running Kmeans clustering is 8 clusters"
   ]
  },
  {
   "cell_type": "markdown",
   "id": "0bd00c29",
   "metadata": {},
   "source": [
    "Here I am Checking the best number of clusters with their inertia"
   ]
  },
  {
   "cell_type": "code",
   "execution_count": 543,
   "id": "8fecae98",
   "metadata": {},
   "outputs": [
    {
     "name": "stderr",
     "output_type": "stream",
     "text": [
      "C:\\Users\\Samaneh\\anaconda3\\lib\\site-packages\\sklearn\\cluster\\_kmeans.py:881: UserWarning: KMeans is known to have a memory leak on Windows with MKL, when there are less chunks than available threads. You can avoid it by setting the environment variable OMP_NUM_THREADS=5.\n",
      "  warnings.warn(\n"
     ]
    }
   ],
   "source": [
    "wcss=[]\n",
    "for k in range(1,13):\n",
    "    kmeans = KMeans(n_clusters=k, init ='k-means++')\n",
    "    kmeans.fit(X)\n",
    "    wcss.append(kmeans.inertia_)"
   ]
  },
  {
   "cell_type": "code",
   "execution_count": 544,
   "id": "6fe9850e",
   "metadata": {},
   "outputs": [
    {
     "data": {
      "image/png": "[encoded data removed]",
      "text/plain": [
       "<Figure size 864x432 with 1 Axes>"
      ]
     },
     "metadata": {
      "needs_background": "light"
     },
     "output_type": "display_data"
    }
   ],
   "source": [
    "plt.figure(figsize=(12,6))\n",
    "plt.grid()\n",
    "plt.plot(range(1,13), wcss, linewidth=2, color='pink', marker = '8')\n",
    "plt.xlabel('K value')\n",
    "plt.ylabel('numbers')\n",
    "plt.title('Elbow Plot', fontsize=18)\n",
    "plt.show()"
   ]
  },
  {
   "cell_type": "markdown",
   "id": "cf99c44c",
   "metadata": {},
   "source": [
    "from this result I can understand that if I take consider Silhouette and WCSS the best number of clusters for my dataset is 8."
   ]
  },
  {
   "cell_type": "markdown",
   "id": "0e1195cf",
   "metadata": {},
   "source": [
    "Here I want to apply K-means to data with 8 cluster number"
   ]
  },
  {
   "cell_type": "code",
   "execution_count": 545,
   "id": "45ebe4e5",
   "metadata": {},
   "outputs": [],
   "source": [
    "clust1 = KMeans(n_clusters=8, random_state=42)"
   ]
  },
  {
   "cell_type": "code",
   "execution_count": 546,
   "id": "bbe9ed5d",
   "metadata": {},
   "outputs": [],
   "source": [
    "clust2 = clust1.fit(X)"
   ]
  },
  {
   "cell_type": "code",
   "execution_count": 547,
   "id": "3285bf37",
   "metadata": {},
   "outputs": [],
   "source": [
    "inter = clust1.inertia_"
   ]
  },
  {
   "cell_type": "code",
   "execution_count": 548,
   "id": "5df18ef9",
   "metadata": {},
   "outputs": [],
   "source": [
    "inter = clust1.inertia_"
   ]
  },
  {
   "cell_type": "code",
   "execution_count": 549,
   "id": "93c1dc6e",
   "metadata": {},
   "outputs": [
    {
     "name": "stdout",
     "output_type": "stream",
     "text": [
      "The list of clusters:   [7 7 7 ... 2 2 2]\n"
     ]
    }
   ],
   "source": [
    "print('The list of clusters:  ', clust1.labels_)"
   ]
  },
  {
   "cell_type": "code",
   "execution_count": 550,
   "id": "a17ef910",
   "metadata": {},
   "outputs": [
    {
     "name": "stdout",
     "output_type": "stream",
     "text": [
      "The inertia number of clusters is:    3107.4539255206355\n"
     ]
    }
   ],
   "source": [
    "print('The inertia number of clusters is:   ', clust1.inertia_ )"
   ]
  },
  {
   "cell_type": "markdown",
   "id": "94cd2650",
   "metadata": {},
   "source": [
    "# H-Clustering"
   ]
  },
  {
   "cell_type": "code",
   "execution_count": 551,
   "id": "567c487d",
   "metadata": {},
   "outputs": [],
   "source": [
    "from sklearn.cluster import AgglomerativeClustering"
   ]
  },
  {
   "cell_type": "code",
   "execution_count": 552,
   "id": "256da8fd",
   "metadata": {},
   "outputs": [],
   "source": [
    "import scipy.cluster.hierarchy as shc"
   ]
  },
  {
   "cell_type": "code",
   "execution_count": 553,
   "id": "d11c5b1f",
   "metadata": {},
   "outputs": [],
   "source": [
    "from scipy.cluster.hierarchy import dendrogram, linkage"
   ]
  },
  {
   "cell_type": "code",
   "execution_count": 554,
   "id": "21502918",
   "metadata": {},
   "outputs": [],
   "source": [
    "from scipy.cluster.hierarchy import fcluster"
   ]
  },
  {
   "cell_type": "code",
   "execution_count": 555,
   "id": "151f0d9f",
   "metadata": {},
   "outputs": [],
   "source": [
    "from scipy.cluster.hierarchy import cophenet"
   ]
  },
  {
   "cell_type": "code",
   "execution_count": 556,
   "id": "b4843f18",
   "metadata": {},
   "outputs": [],
   "source": [
    "from sklearn.cluster import AgglomerativeClustering"
   ]
  },
  {
   "cell_type": "code",
   "execution_count": 557,
   "id": "e0edc9bc",
   "metadata": {},
   "outputs": [],
   "source": [
    "import matplotlib.pyplot as plt"
   ]
  },
  {
   "cell_type": "code",
   "execution_count": 558,
   "id": "5bde63f8",
   "metadata": {},
   "outputs": [],
   "source": [
    "import sklearn.metrics as sm"
   ]
  },
  {
   "cell_type": "markdown",
   "id": "a59b07b2",
   "metadata": {},
   "source": [
    "Size of the figure"
   ]
  },
  {
   "cell_type": "markdown",
   "id": "6da08552",
   "metadata": {},
   "source": [
    "Titling of the Dendrogram\n",
    "\n",
    "Call the method dendrogram by using an object\n",
    "\n",
    "Draw the red line to cut the dendrogram"
   ]
  },
  {
   "cell_type": "code",
   "execution_count": 559,
   "id": "9fde3ecf",
   "metadata": {},
   "outputs": [
    {
     "data": {
      "text/plain": [
       "<matplotlib.lines.Line2D at 0x21979442ac0>"
      ]
     },
     "execution_count": 559,
     "metadata": {},
     "output_type": "execute_result"
    },
    {
     "data": {
      "image/png": "[encoded data removed]",
      "text/plain": [
       "<Figure size 1440x720 with 1 Axes>"
      ]
     },
     "metadata": {
      "needs_background": "light"
     },
     "output_type": "display_data"
    }
   ],
   "source": [
    "plt.figure(figsize=(20, 10)) \n",
    "plt.title(\"My Dendrograms\")\n",
    "dend = shc.dendrogram(shc.linkage(X, method = 'complete'))\n",
    "plt.axhline(y = 0.8, color = 'r', linestyle = '--')"
   ]
  },
  {
   "cell_type": "markdown",
   "id": "3c712c8e",
   "metadata": {},
   "source": [
    "First I am going to import AgglomerativeClustering from sklearn \n",
    "then initialise the cluster using a method AgglomerativeClustering\n",
    "then train the model by calling a fit"
   ]
  },
  {
   "cell_type": "code",
   "execution_count": 560,
   "id": "1116b6e7",
   "metadata": {},
   "outputs": [],
   "source": [
    "H_clustering = AgglomerativeClustering(n_clusters=8, affinity='euclidean', linkage='ward')  "
   ]
  },
  {
   "cell_type": "code",
   "execution_count": 561,
   "id": "a50c4202",
   "metadata": {},
   "outputs": [],
   "source": [
    "H_clustering_1_model = H_clustering.fit(X)"
   ]
  },
  {
   "cell_type": "code",
   "execution_count": 562,
   "id": "b81c29aa",
   "metadata": {},
   "outputs": [],
   "source": [
    "H_clusteringlabels = H_clustering_1_model.labels_"
   ]
  },
  {
   "cell_type": "code",
   "execution_count": 563,
   "id": "c9ccf197",
   "metadata": {},
   "outputs": [],
   "source": [
    "X['H_clusteringlabels'] = H_clusteringlabels"
   ]
  },
  {
   "cell_type": "code",
   "execution_count": 564,
   "id": "fbce7fc3",
   "metadata": {},
   "outputs": [],
   "source": [
    "silhoutscoreH_clustering = silhouette_score(X, H_clusteringlabels)"
   ]
  },
  {
   "cell_type": "code",
   "execution_count": 565,
   "id": "905ed04e",
   "metadata": {},
   "outputs": [
    {
     "name": "stdout",
     "output_type": "stream",
     "text": [
      "silhoutscoreH_clustering for H_clustering: 0.3180373971297092\n"
     ]
    }
   ],
   "source": [
    "print('silhoutscoreH_clustering for H_clustering:',  silhoutscoreH_clustering)"
   ]
  },
  {
   "cell_type": "code",
   "execution_count": null,
   "id": "ebaa84e4",
   "metadata": {},
   "outputs": [],
   "source": []
  },
  {
   "cell_type": "code",
   "execution_count": null,
   "id": "c2d01a0c",
   "metadata": {},
   "outputs": [],
   "source": []
  }
 ],
 "metadata": {
  "kernelspec": {
   "display_name": "Python 3 (ipykernel)",
   "language": "python",
   "name": "python3"
  },
  "language_info": {
   "codemirror_mode": {
    "name": "ipython",
    "version": 3
   },
   "file_extension": ".py",
   "mimetype": "text/x-python",
   "name": "python",
   "nbconvert_exporter": "python",
   "pygments_lexer": "ipython3",
   "version": "3.9.7"
  }
 },
 "nbformat": 4,
 "nbformat_minor": 5
}
